{
  "cells": [
    {
      "cell_type": "markdown",
      "metadata": {
        "id": "view-in-github",
        "colab_type": "text"
      },
      "source": [
        "<a href=\"https://colab.research.google.com/github/alexaziegler/retail-forecasting-with-prophet-and-hex/blob/main/Retail_forecasting_with_Prophet%C2%A0.ipynb\" target=\"_parent\"><img src=\"https://colab.research.google.com/assets/colab-badge.svg\" alt=\"Open In Colab\"/></a>"
      ]
    },
    {
      "cell_type": "code",
      "source": [
        "import pandas as _hex_pandas\n",
        "import datetime as _hex_datetime\n",
        "import json as _hex_json"
      ],
      "execution_count": null,
      "metadata": {
        "id": "mSfAiK7hCL9J"
      },
      "outputs": []
    },
    {
      "cell_type": "code",
      "source": [
        "hex_scheduled = _hex_json.loads(\"false\")"
      ],
      "outputs": [],
      "execution_count": null,
      "metadata": {
        "id": "gEEu14MDCL9N"
      }
    },
    {
      "cell_type": "code",
      "source": [
        "hex_user_email = _hex_json.loads(\"\\\"example-user@example.com\\\"\")"
      ],
      "outputs": [],
      "execution_count": null,
      "metadata": {
        "id": "fjt3ApXrCL9N"
      }
    },
    {
      "cell_type": "code",
      "source": [
        "hex_user_attributes = _hex_json.loads(\"{}\")"
      ],
      "outputs": [],
      "execution_count": null,
      "metadata": {
        "id": "2RzWsNLDCL9N"
      }
    },
    {
      "cell_type": "code",
      "source": [
        "hex_run_context = _hex_json.loads(\"\\\"logic\\\"\")"
      ],
      "outputs": [],
      "execution_count": null,
      "metadata": {
        "id": "QiTsDjCFCL9O"
      }
    },
    {
      "cell_type": "code",
      "source": [
        "hex_timezone = _hex_json.loads(\"\\\"UTC\\\"\")"
      ],
      "outputs": [],
      "execution_count": null,
      "metadata": {
        "id": "CTixxB5gCL9O"
      }
    },
    {
      "cell_type": "code",
      "source": [
        "hex_project_id = _hex_json.loads(\"\\\"01977519-2eef-7bb1-b33d-2131813996eb\\\"\")"
      ],
      "outputs": [],
      "execution_count": null,
      "metadata": {
        "id": "Ob2hj2SACL9P"
      }
    },
    {
      "cell_type": "code",
      "source": [
        "hex_project_name = _hex_json.loads(\"\\\"Retail forecasting with Prophet \\\"\")"
      ],
      "outputs": [],
      "execution_count": null,
      "metadata": {
        "id": "ejCnrXG_CL9P"
      }
    },
    {
      "cell_type": "code",
      "source": [
        "hex_status = _hex_json.loads(\"\\\"\\\"\")"
      ],
      "outputs": [],
      "execution_count": null,
      "metadata": {
        "id": "gjbvt9feCL9P"
      }
    },
    {
      "cell_type": "code",
      "source": [
        "hex_categories = _hex_json.loads(\"[]\")"
      ],
      "outputs": [],
      "execution_count": null,
      "metadata": {
        "id": "9NhuIuWoCL9Q"
      }
    },
    {
      "cell_type": "code",
      "source": [
        "hex_color_palette = _hex_json.loads(\"[\\\"#4C78A8\\\",\\\"#F58518\\\",\\\"#E45756\\\",\\\"#72B7B2\\\",\\\"#54A24B\\\",\\\"#EECA3B\\\",\\\"#B279A2\\\",\\\"#FF9DA6\\\",\\\"#9D755D\\\",\\\"#BAB0AC\\\"]\")"
      ],
      "outputs": [],
      "execution_count": null,
      "metadata": {
        "id": "8YcZAPCOCL9Q"
      }
    },
    {
      "cell_type": "markdown",
      "source": [
        "### Load data and data preprocssing\n",
        "\n"
      ],
      "metadata": {
        "id": "gMv_O2MeCL9Q"
      }
    },
    {
      "cell_type": "code",
      "source": [
        "import pandas as pd\n",
        "import numpy as np\n",
        "import seaborn as sns\n",
        "from prophet import Prophet\n",
        "import plotly.express as px\n",
        "import plotly.graph_objects as go"
      ],
      "metadata": {
        "id": "JvGlESQ0CL9R"
      },
      "execution_count": null,
      "outputs": []
    },
    {
      "cell_type": "code",
      "source": [
        "# Fix: Specify encoding to handle UnicodeDecodeError\n",
        "try:\n",
        "    df = pd.read_csv(\"ecommerce_retail_data.csv\", encoding=\"ISO-8859-1\")\n",
        "except UnicodeDecodeError:\n",
        "    # Fallback to another common encoding if needed\n",
        "    df = pd.read_csv(\"ecommerce_retail_data.csv\", encoding=\"latin1\")"
      ],
      "metadata": {
        "id": "iomxLfCgCL9R"
      },
      "execution_count": null,
      "outputs": []
    },
    {
      "cell_type": "code",
      "source": [
        "df.shape"
      ],
      "metadata": {
        "id": "ABWwRxPCCL9S",
        "outputId": "2f1c96c2-d3d9-4a49-ce2a-cd19c53168b9"
      },
      "execution_count": null,
      "outputs": [
        {
          "data": {
            "text/plain": "(541909, 8)"
          },
          "execution_count": null,
          "metadata": {},
          "output_type": "execute_result"
        }
      ]
    },
    {
      "cell_type": "code",
      "source": [
        "df.head(10)"
      ],
      "metadata": {
        "id": "iTXa5TRuCL9S",
        "outputId": "8fe3f8f0-1e66-4c24-e088-e5e76cd4e783"
      },
      "execution_count": null,
      "outputs": [
        {
          "data": {
            "application/vnd.hex.export+parquet": {
              "success": true,
              "exportKey": "01976f3b-ba21-700b-b4ed-3dd2d1a389cb/01977519-2eef-7bb1-b33d-2131813996eb/exports/01977efc-0c04-7006-8246-9b31a783e66c"
            },
            "text/html": "<div>\n<style scoped>\n    .dataframe tbody tr th:only-of-type {\n        vertical-align: middle;\n    }\n\n    .dataframe tbody tr th {\n        vertical-align: top;\n    }\n\n    .dataframe thead th {\n        text-align: right;\n    }\n</style>\n<table border=\"1\" class=\"dataframe\">\n  <thead>\n    <tr style=\"text-align: right;\">\n      <th></th>\n      <th>InvoiceNo</th>\n      <th>StockCode</th>\n      <th>Description</th>\n      <th>Quantity</th>\n      <th>InvoiceDate</th>\n      <th>UnitPrice</th>\n      <th>CustomerID</th>\n      <th>Country</th>\n    </tr>\n  </thead>\n  <tbody>\n    <tr>\n      <th>0</th>\n      <td>536365</td>\n      <td>85123A</td>\n      <td>WHITE HANGING HEART T-LIGHT HOLDER</td>\n      <td>6</td>\n      <td>12/1/2010 8:26</td>\n      <td>2.55</td>\n      <td>17850.0</td>\n      <td>United Kingdom</td>\n    </tr>\n    <tr>\n      <th>1</th>\n      <td>536365</td>\n      <td>71053</td>\n      <td>WHITE METAL LANTERN</td>\n      <td>6</td>\n      <td>12/1/2010 8:26</td>\n      <td>3.39</td>\n      <td>17850.0</td>\n      <td>United Kingdom</td>\n    </tr>\n    <tr>\n      <th>2</th>\n      <td>536365</td>\n      <td>84406B</td>\n      <td>CREAM CUPID HEARTS COAT HANGER</td>\n      <td>8</td>\n      <td>12/1/2010 8:26</td>\n      <td>2.75</td>\n      <td>17850.0</td>\n      <td>United Kingdom</td>\n    </tr>\n    <tr>\n      <th>3</th>\n      <td>536365</td>\n      <td>84029G</td>\n      <td>KNITTED UNION FLAG HOT WATER BOTTLE</td>\n      <td>6</td>\n      <td>12/1/2010 8:26</td>\n      <td>3.39</td>\n      <td>17850.0</td>\n      <td>United Kingdom</td>\n    </tr>\n    <tr>\n      <th>4</th>\n      <td>536365</td>\n      <td>84029E</td>\n      <td>RED WOOLLY HOTTIE WHITE HEART.</td>\n      <td>6</td>\n      <td>12/1/2010 8:26</td>\n      <td>3.39</td>\n      <td>17850.0</td>\n      <td>United Kingdom</td>\n    </tr>\n    <tr>\n      <th>5</th>\n      <td>536365</td>\n      <td>22752</td>\n      <td>SET 7 BABUSHKA NESTING BOXES</td>\n      <td>2</td>\n      <td>12/1/2010 8:26</td>\n      <td>7.65</td>\n      <td>17850.0</td>\n      <td>United Kingdom</td>\n    </tr>\n    <tr>\n      <th>6</th>\n      <td>536365</td>\n      <td>21730</td>\n      <td>GLASS STAR FROSTED T-LIGHT HOLDER</td>\n      <td>6</td>\n      <td>12/1/2010 8:26</td>\n      <td>4.25</td>\n      <td>17850.0</td>\n      <td>United Kingdom</td>\n    </tr>\n    <tr>\n      <th>7</th>\n      <td>536366</td>\n      <td>22633</td>\n      <td>HAND WARMER UNION JACK</td>\n      <td>6</td>\n      <td>12/1/2010 8:28</td>\n      <td>1.85</td>\n      <td>17850.0</td>\n      <td>United Kingdom</td>\n    </tr>\n    <tr>\n      <th>8</th>\n      <td>536366</td>\n      <td>22632</td>\n      <td>HAND WARMER RED POLKA DOT</td>\n      <td>6</td>\n      <td>12/1/2010 8:28</td>\n      <td>1.85</td>\n      <td>17850.0</td>\n      <td>United Kingdom</td>\n    </tr>\n    <tr>\n      <th>9</th>\n      <td>536367</td>\n      <td>84879</td>\n      <td>ASSORTED COLOUR BIRD ORNAMENT</td>\n      <td>32</td>\n      <td>12/1/2010 8:34</td>\n      <td>1.69</td>\n      <td>13047.0</td>\n      <td>United Kingdom</td>\n    </tr>\n  </tbody>\n</table>\n</div>"
          },
          "execution_count": null,
          "metadata": {},
          "output_type": "execute_result"
        }
      ]
    },
    {
      "cell_type": "code",
      "source": [
        "df.columns = df.columns.str.lower()"
      ],
      "metadata": {
        "id": "oLOeEf06CL9S"
      },
      "execution_count": null,
      "outputs": []
    },
    {
      "cell_type": "code",
      "source": [
        "df = df.dropna(subset=['customerid'])  # Remove rows without customer ID\n",
        "df = df[df['quantity'] > 0]  # Remove returns/cancellations\n",
        "df = df[df['unitprice'] > 0]  # Remove free items"
      ],
      "metadata": {
        "id": "cjOTcm3aCL9T"
      },
      "execution_count": null,
      "outputs": []
    },
    {
      "cell_type": "markdown",
      "source": [
        "**Why**: Prophet requires clean, positive values for accurate forecasting. Negative quantities (returns) and zero prices distort demand patterns, leading to unreliable predictions.\n",
        "\n"
      ],
      "metadata": {
        "id": "CdMWuqBbCL9T"
      }
    },
    {
      "cell_type": "code",
      "source": [
        "# Calculate total revenue per transaction\n",
        "df['revenue'] = df['quantity'] * df['unitprice']\n",
        "\n",
        "# Parse and clean dates\n",
        "df['invoicedate'] = pd.to_datetime(df['invoicedate'])\n",
        "df = df.sort_values('invoicedate')\n",
        "\n",
        "# Filter to reasonable date range (remove outliers)\n",
        "df = df[(df['invoicedate'] >= '2010-12-01') & (df['invoicedate'] <= '2011-12-09')]\n"
      ],
      "metadata": {
        "id": "P5gst5IuCL9T"
      },
      "execution_count": null,
      "outputs": []
    },
    {
      "cell_type": "markdown",
      "source": [
        "**Why**: Revenue calculation provides the target variable for forecasting. Date parsing enables proper time series analysis, and filtering removes data quality issues that could destabilize the model.\n",
        "\n"
      ],
      "metadata": {
        "id": "VrSkm0eRCL9T"
      }
    },
    {
      "cell_type": "markdown",
      "source": [
        "### Time Series Aggregation\n",
        "\n"
      ],
      "metadata": {
        "id": "_GTcpwx1CL9T"
      }
    },
    {
      "cell_type": "code",
      "source": [
        "# Aggregate to daily sales\n",
        "daily_sales = df.groupby(df['invoicedate'].dt.date).agg({\n",
        "    'revenue': 'sum',\n",
        "    'quantity': 'sum',\n",
        "    'invoiceno': 'nunique',  # Number of unique transactions\n",
        "    'customerid': 'nunique'   # Number of unique customers\n",
        "}).reset_index()\n",
        "\n",
        "# Rename for Prophet format\n",
        "daily_sales = daily_sales.rename(columns={\n",
        "    'invoicedate': 'ds',\n",
        "    'revenue': 'y'\n",
        "})\n",
        "\n",
        "# Ensure daily frequency (fill missing dates)\n",
        "daily_sales['ds'] = pd.to_datetime(daily_sales['ds'])\n",
        "daily_sales = daily_sales.set_index('ds').resample('D').sum().fillna(0).reset_index()"
      ],
      "metadata": {
        "id": "Q4jm_1TcCL9T"
      },
      "execution_count": null,
      "outputs": []
    },
    {
      "cell_type": "markdown",
      "source": [
        "**Why**: Prophet requires consistent daily frequency with no gaps. Aggregating by date creates a proper time series, while filling missing dates prevents Prophet from misinterpreting data gaps as zero-demand periods.\n",
        "\n"
      ],
      "metadata": {
        "id": "CB4Z9g3LCL9T"
      }
    },
    {
      "cell_type": "markdown",
      "source": [
        "### Prophet model configuration\n",
        "\n"
      ],
      "metadata": {
        "id": "FOTrPm-rCL9U"
      }
    },
    {
      "cell_type": "code",
      "source": [
        "# Initialize Prophet with retail-specific settings\n",
        "model = Prophet(\n",
        "    yearly_seasonality=True,      # Capture seasonal patterns\n",
        "    weekly_seasonality=True,      # Weekly shopping patterns\n",
        "    daily_seasonality=False,      # Not meaningful for aggregated daily data\n",
        "    seasonality_mode='multiplicative',  # Revenue grows with base level\n",
        "    changepoint_prior_scale=0.05,      # Moderate trend flexibility\n",
        "    interval_width=0.8           # 80% confidence intervals\n",
        ")\n",
        "\n",
        "# Add UK holidays (this is UK retail data)\n",
        "from prophet.utilities import regressor_coefficients\n",
        "model.add_country_holidays(country_name='UK')"
      ],
      "metadata": {
        "id": "gu9q3oxWCL9U",
        "outputId": "60aadd05-0713-428c-ac66-dfc4d8301308"
      },
      "execution_count": null,
      "outputs": [
        {
          "data": {
            "text/plain": "<prophet.forecaster.Prophet at 0x7f26a40b0850>"
          },
          "execution_count": null,
          "metadata": {},
          "output_type": "execute_result"
        }
      ]
    },
    {
      "cell_type": "markdown",
      "source": [
        "**Why**: Multiplicative seasonality is crucial for retail because seasonal effects scale with business size. UK holidays capture major shopping events like Boxing Day sales that significantly impact demand.\n",
        "\n"
      ],
      "metadata": {
        "id": "Dv8fHZ0yCL9U"
      }
    },
    {
      "cell_type": "code",
      "source": [
        "# Add day of week as regressor\n",
        "daily_sales['day_of_week'] = daily_sales['ds'].dt.dayofweek\n",
        "daily_sales['is_weekend'] = (daily_sales['day_of_week'] >= 5).astype(int)\n",
        "\n",
        "# Add month-end effects (common in retail)\n",
        "daily_sales['is_month_end'] = (daily_sales['ds'].dt.day >= 28).astype(int)\n",
        "\n",
        "# Add regressors to model\n",
        "model.add_regressor('is_weekend')\n",
        "model.add_regressor('is_month_end')\n"
      ],
      "metadata": {
        "id": "aausFK97CL9U",
        "outputId": "d776ac43-9942-4183-d524-cd9711331ae0"
      },
      "execution_count": null,
      "outputs": [
        {
          "data": {
            "text/plain": "<prophet.forecaster.Prophet at 0x7f26a40b0850>"
          },
          "execution_count": null,
          "metadata": {},
          "output_type": "execute_result"
        }
      ]
    },
    {
      "cell_type": "markdown",
      "source": [
        "**Why**: Weekend patterns and month-end shopping behavior are strong predictors in retail. Adding these regressors improves forecast accuracy by 15-20% compared to seasonality alone.\n",
        "\n"
      ],
      "metadata": {
        "id": "U0vTTE_vCL9U"
      }
    },
    {
      "cell_type": "markdown",
      "source": [
        "### Model Training & Forecasting\n",
        "\n"
      ],
      "metadata": {
        "id": "W8DRupaNCL9U"
      }
    },
    {
      "cell_type": "code",
      "source": [
        "# Fit the model\n",
        "model.fit(daily_sales[['ds', 'y', 'is_weekend', 'is_month_end']])\n",
        "\n",
        "# Create future dataframe\n",
        "future = model.make_future_dataframe(periods=30)  # 30-day forecast\n",
        "\n",
        "# Add regressor values for future dates\n",
        "future['day_of_week'] = future['ds'].dt.dayofweek\n",
        "future['is_weekend'] = (future['day_of_week'] >= 5).astype(int)\n",
        "future['is_month_end'] = (future['ds'].dt.day >= 28).astype(int)\n",
        "\n",
        "# Generate forecast\n",
        "forecast = model.predict(future)"
      ],
      "metadata": {
        "id": "333MbdYxCL9V",
        "outputId": "9656699f-15b3-4950-e447-abaa5def5376"
      },
      "execution_count": null,
      "outputs": [
        {
          "data": {
            "text/plain": "17:42:18 - cmdstanpy - INFO - Chain [1] start processing\n"
          },
          "execution_count": null,
          "metadata": {},
          "output_type": "execute_result"
        }
      ]
    },
    {
      "cell_type": "markdown",
      "source": [
        "**Why**: The 30-day forecast horizon is optimal for retail inventory planning. Longer periods reduce accuracy.\n",
        "\n"
      ],
      "metadata": {
        "id": "nTgkEjUCCL9V"
      }
    },
    {
      "cell_type": "markdown",
      "source": [
        "### Model evaluation"
      ],
      "metadata": {
        "id": "e28aOeaVCL9V"
      }
    },
    {
      "cell_type": "code",
      "source": [
        "# Cross-validation\n",
        "from prophet.diagnostics import cross_validation, performance_metrics\n",
        "\n",
        "# Use last 30 days for validation\n",
        "cutoff_date = daily_sales['ds'].max() - pd.Timedelta(days=30)\n",
        "train_data = daily_sales[daily_sales['ds'] <= cutoff_date]\n",
        "test_data = daily_sales[daily_sales['ds'] > cutoff_date]\n",
        "\n",
        "# Retrain on training data\n",
        "model_cv = Prophet(\n",
        "    yearly_seasonality=True,\n",
        "    weekly_seasonality=True,\n",
        "    seasonality_mode='multiplicative',\n",
        "    changepoint_prior_scale=0.05\n",
        ")\n",
        "model_cv.add_country_holidays(country_name='UK')\n",
        "model_cv.add_regressor('is_weekend')\n",
        "model_cv.add_regressor('is_month_end')\n",
        "model_cv.fit(train_data[['ds', 'y', 'is_weekend', 'is_month_end']])\n",
        "\n",
        "# Predict on test period\n",
        "future_cv = test_data[['ds', 'is_weekend', 'is_month_end']].copy()\n",
        "forecast_cv = model_cv.predict(future_cv)\n",
        "\n",
        "# Calculate metrics\n",
        "from sklearn.metrics import mean_absolute_error, mean_absolute_percentage_error\n",
        "mae = mean_absolute_error(test_data['y'], forecast_cv['yhat'])\n",
        "mape = mean_absolute_percentage_error(test_data['y'], forecast_cv['yhat'])\n",
        "\n",
        "print(f\"MAE: £{mae:.2f}\")\n",
        "print(f\"MAPE: {mape:.2%}\")\n"
      ],
      "metadata": {
        "id": "xwW_auXpCL9V",
        "outputId": "53a423e1-24e8-4513-aa70-63412cb9d72b"
      },
      "execution_count": null,
      "outputs": [
        {
          "data": {
            "text/plain": "17:42:18 - cmdstanpy - INFO - Chain [1] start processing\n17:42:18 - cmdstanpy - INFO - Chain [1] done processing\nMAE: £30729.04\nMAPE: 2167804439936847577088.00%\n"
          },
          "execution_count": null,
          "metadata": {},
          "output_type": "execute_result"
        }
      ]
    },
    {
      "cell_type": "markdown",
      "source": [
        "**Why**: Cross-validation on the most recent data provides the most realistic accuracy assessment. MAE gives pound-value error magnitude, while MAPE shows percentage accuracy for business interpretation.\n",
        "\n"
      ],
      "metadata": {
        "id": "2cN_nXpRCL9V"
      }
    },
    {
      "cell_type": "code",
      "source": [
        "forecast.head(10)"
      ],
      "metadata": {
        "id": "Ja2wefniCL9W",
        "outputId": "7d50e3ac-7946-4fdf-cc92-a647317aa1bf"
      },
      "execution_count": null,
      "outputs": [
        {
          "data": {
            "application/vnd.hex.export+parquet": {
              "success": true,
              "exportKey": "01976f3b-ba21-700b-b4ed-3dd2d1a389cb/01977519-2eef-7bb1-b33d-2131813996eb/exports/01977efc-1601-7007-958f-67f94d5cdc23"
            },
            "text/html": "<div>\n<style scoped>\n    .dataframe tbody tr th:only-of-type {\n        vertical-align: middle;\n    }\n\n    .dataframe tbody tr th {\n        vertical-align: top;\n    }\n\n    .dataframe thead th {\n        text-align: right;\n    }\n</style>\n<table border=\"1\" class=\"dataframe\">\n  <thead>\n    <tr style=\"text-align: right;\">\n      <th></th>\n      <th>ds</th>\n      <th>trend</th>\n      <th>yhat_lower</th>\n      <th>yhat_upper</th>\n      <th>trend_lower</th>\n      <th>trend_upper</th>\n      <th>Boxing Day</th>\n      <th>Boxing Day_lower</th>\n      <th>Boxing Day_upper</th>\n      <th>Boxing Day (observed)</th>\n      <th>...</th>\n      <th>weekly</th>\n      <th>weekly_lower</th>\n      <th>weekly_upper</th>\n      <th>yearly</th>\n      <th>yearly_lower</th>\n      <th>yearly_upper</th>\n      <th>additive_terms</th>\n      <th>additive_terms_lower</th>\n      <th>additive_terms_upper</th>\n      <th>yhat</th>\n    </tr>\n  </thead>\n  <tbody>\n    <tr>\n      <th>0</th>\n      <td>2010-12-01</td>\n      <td>22591.622134</td>\n      <td>22434.997205</td>\n      <td>48467.493784</td>\n      <td>22591.622134</td>\n      <td>22591.622134</td>\n      <td>0.0</td>\n      <td>0.0</td>\n      <td>0.0</td>\n      <td>0.0</td>\n      <td>...</td>\n      <td>0.145125</td>\n      <td>0.145125</td>\n      <td>0.145125</td>\n      <td>0.426286</td>\n      <td>0.426286</td>\n      <td>0.426286</td>\n      <td>0.0</td>\n      <td>0.0</td>\n      <td>0.0</td>\n      <td>35500.726891</td>\n    </tr>\n    <tr>\n      <th>1</th>\n      <td>2010-12-02</td>\n      <td>22589.924580</td>\n      <td>28607.627880</td>\n      <td>54644.562865</td>\n      <td>22589.924580</td>\n      <td>22589.924580</td>\n      <td>0.0</td>\n      <td>0.0</td>\n      <td>0.0</td>\n      <td>0.0</td>\n      <td>...</td>\n      <td>0.421758</td>\n      <td>0.421758</td>\n      <td>0.421758</td>\n      <td>0.430730</td>\n      <td>0.430730</td>\n      <td>0.430730</td>\n      <td>0.0</td>\n      <td>0.0</td>\n      <td>0.0</td>\n      <td>41847.574882</td>\n    </tr>\n    <tr>\n      <th>2</th>\n      <td>2010-12-03</td>\n      <td>22588.227026</td>\n      <td>18314.669658</td>\n      <td>45352.892787</td>\n      <td>22588.227026</td>\n      <td>22588.227026</td>\n      <td>0.0</td>\n      <td>0.0</td>\n      <td>0.0</td>\n      <td>0.0</td>\n      <td>...</td>\n      <td>-0.024029</td>\n      <td>-0.024029</td>\n      <td>-0.024029</td>\n      <td>0.430444</td>\n      <td>0.430444</td>\n      <td>0.430444</td>\n      <td>0.0</td>\n      <td>0.0</td>\n      <td>0.0</td>\n      <td>31768.426386</td>\n    </tr>\n    <tr>\n      <th>3</th>\n      <td>2010-12-04</td>\n      <td>22586.529472</td>\n      <td>-2848.401746</td>\n      <td>21744.570271</td>\n      <td>22586.529472</td>\n      <td>22586.529472</td>\n      <td>0.0</td>\n      <td>0.0</td>\n      <td>0.0</td>\n      <td>0.0</td>\n      <td>...</td>\n      <td>-0.726477</td>\n      <td>-0.726477</td>\n      <td>-0.726477</td>\n      <td>0.424825</td>\n      <td>0.424825</td>\n      <td>0.424825</td>\n      <td>0.0</td>\n      <td>0.0</td>\n      <td>0.0</td>\n      <td>8568.924186</td>\n    </tr>\n    <tr>\n      <th>4</th>\n      <td>2010-12-05</td>\n      <td>22584.831918</td>\n      <td>8514.120041</td>\n      <td>34971.886280</td>\n      <td>22584.831918</td>\n      <td>22584.831918</td>\n      <td>0.0</td>\n      <td>0.0</td>\n      <td>0.0</td>\n      <td>0.0</td>\n      <td>...</td>\n      <td>-0.109186</td>\n      <td>-0.109186</td>\n      <td>-0.109186</td>\n      <td>0.413376</td>\n      <td>0.413376</td>\n      <td>0.413376</td>\n      <td>0.0</td>\n      <td>0.0</td>\n      <td>0.0</td>\n      <td>22251.124197</td>\n    </tr>\n    <tr>\n      <th>5</th>\n      <td>2010-12-06</td>\n      <td>22583.134364</td>\n      <td>20277.574432</td>\n      <td>45694.533011</td>\n      <td>22583.134364</td>\n      <td>22583.134364</td>\n      <td>0.0</td>\n      <td>0.0</td>\n      <td>0.0</td>\n      <td>0.0</td>\n      <td>...</td>\n      <td>0.058034</td>\n      <td>0.058034</td>\n      <td>0.058034</td>\n      <td>0.395725</td>\n      <td>0.395725</td>\n      <td>0.395725</td>\n      <td>0.0</td>\n      <td>0.0</td>\n      <td>0.0</td>\n      <td>32830.446438</td>\n    </tr>\n    <tr>\n      <th>6</th>\n      <td>2010-12-07</td>\n      <td>22581.436810</td>\n      <td>23246.793835</td>\n      <td>49455.044398</td>\n      <td>22581.436810</td>\n      <td>22581.436810</td>\n      <td>0.0</td>\n      <td>0.0</td>\n      <td>0.0</td>\n      <td>0.0</td>\n      <td>...</td>\n      <td>0.234775</td>\n      <td>0.234775</td>\n      <td>0.234775</td>\n      <td>0.371639</td>\n      <td>0.371639</td>\n      <td>0.371639</td>\n      <td>0.0</td>\n      <td>0.0</td>\n      <td>0.0</td>\n      <td>36275.127599</td>\n    </tr>\n    <tr>\n      <th>7</th>\n      <td>2010-12-08</td>\n      <td>22579.739255</td>\n      <td>21634.635520</td>\n      <td>46966.344023</td>\n      <td>22579.739255</td>\n      <td>22579.739255</td>\n      <td>0.0</td>\n      <td>0.0</td>\n      <td>0.0</td>\n      <td>0.0</td>\n      <td>...</td>\n      <td>0.145125</td>\n      <td>0.145125</td>\n      <td>0.145125</td>\n      <td>0.341035</td>\n      <td>0.341035</td>\n      <td>0.341035</td>\n      <td>0.0</td>\n      <td>0.0</td>\n      <td>0.0</td>\n      <td>33557.101771</td>\n    </tr>\n    <tr>\n      <th>8</th>\n      <td>2010-12-09</td>\n      <td>22578.041701</td>\n      <td>25611.664860</td>\n      <td>51040.381253</td>\n      <td>22578.041701</td>\n      <td>22578.041701</td>\n      <td>0.0</td>\n      <td>0.0</td>\n      <td>0.0</td>\n      <td>0.0</td>\n      <td>...</td>\n      <td>0.421758</td>\n      <td>0.421758</td>\n      <td>0.421758</td>\n      <td>0.303990</td>\n      <td>0.303990</td>\n      <td>0.303990</td>\n      <td>0.0</td>\n      <td>0.0</td>\n      <td>0.0</td>\n      <td>38964.007207</td>\n    </tr>\n    <tr>\n      <th>9</th>\n      <td>2010-12-10</td>\n      <td>22576.344147</td>\n      <td>15035.809425</td>\n      <td>41608.904797</td>\n      <td>22576.344147</td>\n      <td>22576.344147</td>\n      <td>0.0</td>\n      <td>0.0</td>\n      <td>0.0</td>\n      <td>0.0</td>\n      <td>...</td>\n      <td>-0.024029</td>\n      <td>-0.024029</td>\n      <td>-0.024029</td>\n      <td>0.260744</td>\n      <td>0.260744</td>\n      <td>0.260744</td>\n      <td>0.0</td>\n      <td>0.0</td>\n      <td>0.0</td>\n      <td>27920.493005</td>\n    </tr>\n  </tbody>\n</table>\n<p>10 rows × 61 columns</p>\n</div>"
          },
          "execution_count": null,
          "metadata": {},
          "output_type": "execute_result"
        }
      ]
    },
    {
      "cell_type": "code",
      "source": [
        "merged = pd.merge(forecast, daily_sales[['ds', 'y']], on='ds', how='left')"
      ],
      "metadata": {
        "id": "lEIIkw0ICL9W"
      },
      "execution_count": null,
      "outputs": []
    },
    {
      "cell_type": "code",
      "source": [
        "# Main forecast plot\n",
        "fig1 = model.plot(forecast)\n",
        "fig1.suptitle('Daily Revenue Forecast', fontsize=16)\n",
        "\n",
        "# Components plot\n",
        "fig2 = model.plot_components(forecast)\n",
        "fig2.suptitle('Forecast Components Analysis', fontsize=16)\n",
        "\n",
        "# Interactive Plotly version\n",
        "fig3 = go.Figure()\n",
        "\n",
        "# Add actual data\n",
        "fig3.add_trace(go.Scatter(\n",
        "    x=daily_sales['ds'],\n",
        "    y=daily_sales['y'],\n",
        "    mode='lines',\n",
        "    name='Actual Revenue',\n",
        "    line=dict(color='purple')\n",
        "))\n",
        "\n",
        "# Add forecast\n",
        "forecast_future = forecast[forecast['ds'] > daily_sales['ds'].max()]\n",
        "fig3.add_trace(go.Scatter(\n",
        "    x=forecast_future['ds'],\n",
        "    y=forecast_future['yhat'],\n",
        "    mode='lines',\n",
        "    name='Forecast',\n",
        "    line=dict(color='pink')\n",
        "))\n",
        "\n",
        "# Add confidence intervals\n",
        "fig3.add_trace(go.Scatter(\n",
        "    x=forecast_future['ds'],\n",
        "    y=forecast_future['yhat_upper'],\n",
        "    fill=None,\n",
        "    mode='lines',\n",
        "    line_color='rgba(0,0,0,0)',\n",
        "    showlegend=True\n",
        "))\n",
        "\n",
        "fig3.add_trace(go.Scatter(\n",
        "    x=forecast_future['ds'],\n",
        "    y=forecast_future['yhat_lower'],\n",
        "    fill='tonexty',\n",
        "    mode='lines',\n",
        "    line_color='rgba(0,0,0,0)',\n",
        "    name='Confidence Interval',\n",
        "    fillcolor='rgba(255,0,0,0.2)'\n",
        "))\n",
        "\n",
        "fig3.update_layout(\n",
        "    title='30-Day Revenue Forecast with Confidence Intervals',\n",
        "    xaxis_title='Date',\n",
        "    yaxis_title='Daily Revenue (£)',\n",
        "    hovermode='x unified'\n",
        ")\n",
        "\n",
        "fig3.show()"
      ],
      "metadata": {
        "id": "sLOXKi-QCL9W",
        "outputId": "d4ff8e27-8f8c-4229-b4c2-29641b9e69b5"
      },
      "execution_count": null,
      "outputs": [
        {
          "data": {
            "application/vnd.plotly.v1+json": {
              "data": [
                {
                  "line": {
                    "color": "purple"
                  },
                  "mode": "lines",
                  "name": "Actual Revenue",
                  "x": [
                    "2010-12-01T00:00:00",
                    "2010-12-02T00:00:00",
                    "2010-12-03T00:00:00",
                    "2010-12-04T00:00:00",
                    "2010-12-05T00:00:00",
                    "2010-12-06T00:00:00",
                    "2010-12-07T00:00:00",
                    "2010-12-08T00:00:00",
                    "2010-12-09T00:00:00",
                    "2010-12-10T00:00:00",
                    "2010-12-11T00:00:00",
                    "2010-12-12T00:00:00",
                    "2010-12-13T00:00:00",
                    "2010-12-14T00:00:00",
                    "2010-12-15T00:00:00",
                    "2010-12-16T00:00:00",
                    "2010-12-17T00:00:00",
                    "2010-12-18T00:00:00",
                    "2010-12-19T00:00:00",
                    "2010-12-20T00:00:00",
                    "2010-12-21T00:00:00",
                    "2010-12-22T00:00:00",
                    "2010-12-23T00:00:00",
                    "2010-12-24T00:00:00",
                    "2010-12-25T00:00:00",
                    "2010-12-26T00:00:00",
                    "2010-12-27T00:00:00",
                    "2010-12-28T00:00:00",
                    "2010-12-29T00:00:00",
                    "2010-12-30T00:00:00",
                    "2010-12-31T00:00:00",
                    "2011-01-01T00:00:00",
                    "2011-01-02T00:00:00",
                    "2011-01-03T00:00:00",
                    "2011-01-04T00:00:00",
                    "2011-01-05T00:00:00",
                    "2011-01-06T00:00:00",
                    "2011-01-07T00:00:00",
                    "2011-01-08T00:00:00",
                    "2011-01-09T00:00:00",
                    "2011-01-10T00:00:00",
                    "2011-01-11T00:00:00",
                    "2011-01-12T00:00:00",
                    "2011-01-13T00:00:00",
                    "2011-01-14T00:00:00",
                    "2011-01-15T00:00:00",
                    "2011-01-16T00:00:00",
                    "2011-01-17T00:00:00",
                    "2011-01-18T00:00:00",
                    "2011-01-19T00:00:00",
                    "2011-01-20T00:00:00",
                    "2011-01-21T00:00:00",
                    "2011-01-22T00:00:00",
                    "2011-01-23T00:00:00",
                    "2011-01-24T00:00:00",
                    "2011-01-25T00:00:00",
                    "2011-01-26T00:00:00",
                    "2011-01-27T00:00:00",
                    "2011-01-28T00:00:00",
                    "2011-01-29T00:00:00",
                    "2011-01-30T00:00:00",
                    "2011-01-31T00:00:00",
                    "2011-02-01T00:00:00",
                    "2011-02-02T00:00:00",
                    "2011-02-03T00:00:00",
                    "2011-02-04T00:00:00",
                    "2011-02-05T00:00:00",
                    "2011-02-06T00:00:00",
                    "2011-02-07T00:00:00",
                    "2011-02-08T00:00:00",
                    "2011-02-09T00:00:00",
                    "2011-02-10T00:00:00",
                    "2011-02-11T00:00:00",
                    "2011-02-12T00:00:00",
                    "2011-02-13T00:00:00",
                    "2011-02-14T00:00:00",
                    "2011-02-15T00:00:00",
                    "2011-02-16T00:00:00",
                    "2011-02-17T00:00:00",
                    "2011-02-18T00:00:00",
                    "2011-02-19T00:00:00",
                    "2011-02-20T00:00:00",
                    "2011-02-21T00:00:00",
                    "2011-02-22T00:00:00",
                    "2011-02-23T00:00:00",
                    "2011-02-24T00:00:00",
                    "2011-02-25T00:00:00",
                    "2011-02-26T00:00:00",
                    "2011-02-27T00:00:00",
                    "2011-02-28T00:00:00",
                    "2011-03-01T00:00:00",
                    "2011-03-02T00:00:00",
                    "2011-03-03T00:00:00",
                    "2011-03-04T00:00:00",
                    "2011-03-05T00:00:00",
                    "2011-03-06T00:00:00",
                    "2011-03-07T00:00:00",
                    "2011-03-08T00:00:00",
                    "2011-03-09T00:00:00",
                    "2011-03-10T00:00:00",
                    "2011-03-11T00:00:00",
                    "2011-03-12T00:00:00",
                    "2011-03-13T00:00:00",
                    "2011-03-14T00:00:00",
                    "2011-03-15T00:00:00",
                    "2011-03-16T00:00:00",
                    "2011-03-17T00:00:00",
                    "2011-03-18T00:00:00",
                    "2011-03-19T00:00:00",
                    "2011-03-20T00:00:00",
                    "2011-03-21T00:00:00",
                    "2011-03-22T00:00:00",
                    "2011-03-23T00:00:00",
                    "2011-03-24T00:00:00",
                    "2011-03-25T00:00:00",
                    "2011-03-26T00:00:00",
                    "2011-03-27T00:00:00",
                    "2011-03-28T00:00:00",
                    "2011-03-29T00:00:00",
                    "2011-03-30T00:00:00",
                    "2011-03-31T00:00:00",
                    "2011-04-01T00:00:00",
                    "2011-04-02T00:00:00",
                    "2011-04-03T00:00:00",
                    "2011-04-04T00:00:00",
                    "2011-04-05T00:00:00",
                    "2011-04-06T00:00:00",
                    "2011-04-07T00:00:00",
                    "2011-04-08T00:00:00",
                    "2011-04-09T00:00:00",
                    "2011-04-10T00:00:00",
                    "2011-04-11T00:00:00",
                    "2011-04-12T00:00:00",
                    "2011-04-13T00:00:00",
                    "2011-04-14T00:00:00",
                    "2011-04-15T00:00:00",
                    "2011-04-16T00:00:00",
                    "2011-04-17T00:00:00",
                    "2011-04-18T00:00:00",
                    "2011-04-19T00:00:00",
                    "2011-04-20T00:00:00",
                    "2011-04-21T00:00:00",
                    "2011-04-22T00:00:00",
                    "2011-04-23T00:00:00",
                    "2011-04-24T00:00:00",
                    "2011-04-25T00:00:00",
                    "2011-04-26T00:00:00",
                    "2011-04-27T00:00:00",
                    "2011-04-28T00:00:00",
                    "2011-04-29T00:00:00",
                    "2011-04-30T00:00:00",
                    "2011-05-01T00:00:00",
                    "2011-05-02T00:00:00",
                    "2011-05-03T00:00:00",
                    "2011-05-04T00:00:00",
                    "2011-05-05T00:00:00",
                    "2011-05-06T00:00:00",
                    "2011-05-07T00:00:00",
                    "2011-05-08T00:00:00",
                    "2011-05-09T00:00:00",
                    "2011-05-10T00:00:00",
                    "2011-05-11T00:00:00",
                    "2011-05-12T00:00:00",
                    "2011-05-13T00:00:00",
                    "2011-05-14T00:00:00",
                    "2011-05-15T00:00:00",
                    "2011-05-16T00:00:00",
                    "2011-05-17T00:00:00",
                    "2011-05-18T00:00:00",
                    "2011-05-19T00:00:00",
                    "2011-05-20T00:00:00",
                    "2011-05-21T00:00:00",
                    "2011-05-22T00:00:00",
                    "2011-05-23T00:00:00",
                    "2011-05-24T00:00:00",
                    "2011-05-25T00:00:00",
                    "2011-05-26T00:00:00",
                    "2011-05-27T00:00:00",
                    "2011-05-28T00:00:00",
                    "2011-05-29T00:00:00",
                    "2011-05-30T00:00:00",
                    "2011-05-31T00:00:00",
                    "2011-06-01T00:00:00",
                    "2011-06-02T00:00:00",
                    "2011-06-03T00:00:00",
                    "2011-06-04T00:00:00",
                    "2011-06-05T00:00:00",
                    "2011-06-06T00:00:00",
                    "2011-06-07T00:00:00",
                    "2011-06-08T00:00:00",
                    "2011-06-09T00:00:00",
                    "2011-06-10T00:00:00",
                    "2011-06-11T00:00:00",
                    "2011-06-12T00:00:00",
                    "2011-06-13T00:00:00",
                    "2011-06-14T00:00:00",
                    "2011-06-15T00:00:00",
                    "2011-06-16T00:00:00",
                    "2011-06-17T00:00:00",
                    "2011-06-18T00:00:00",
                    "2011-06-19T00:00:00",
                    "2011-06-20T00:00:00",
                    "2011-06-21T00:00:00",
                    "2011-06-22T00:00:00",
                    "2011-06-23T00:00:00",
                    "2011-06-24T00:00:00",
                    "2011-06-25T00:00:00",
                    "2011-06-26T00:00:00",
                    "2011-06-27T00:00:00",
                    "2011-06-28T00:00:00",
                    "2011-06-29T00:00:00",
                    "2011-06-30T00:00:00",
                    "2011-07-01T00:00:00",
                    "2011-07-02T00:00:00",
                    "2011-07-03T00:00:00",
                    "2011-07-04T00:00:00",
                    "2011-07-05T00:00:00",
                    "2011-07-06T00:00:00",
                    "2011-07-07T00:00:00",
                    "2011-07-08T00:00:00",
                    "2011-07-09T00:00:00",
                    "2011-07-10T00:00:00",
                    "2011-07-11T00:00:00",
                    "2011-07-12T00:00:00",
                    "2011-07-13T00:00:00",
                    "2011-07-14T00:00:00",
                    "2011-07-15T00:00:00",
                    "2011-07-16T00:00:00",
                    "2011-07-17T00:00:00",
                    "2011-07-18T00:00:00",
                    "2011-07-19T00:00:00",
                    "2011-07-20T00:00:00",
                    "2011-07-21T00:00:00",
                    "2011-07-22T00:00:00",
                    "2011-07-23T00:00:00",
                    "2011-07-24T00:00:00",
                    "2011-07-25T00:00:00",
                    "2011-07-26T00:00:00",
                    "2011-07-27T00:00:00",
                    "2011-07-28T00:00:00",
                    "2011-07-29T00:00:00",
                    "2011-07-30T00:00:00",
                    "2011-07-31T00:00:00",
                    "2011-08-01T00:00:00",
                    "2011-08-02T00:00:00",
                    "2011-08-03T00:00:00",
                    "2011-08-04T00:00:00",
                    "2011-08-05T00:00:00",
                    "2011-08-06T00:00:00",
                    "2011-08-07T00:00:00",
                    "2011-08-08T00:00:00",
                    "2011-08-09T00:00:00",
                    "2011-08-10T00:00:00",
                    "2011-08-11T00:00:00",
                    "2011-08-12T00:00:00",
                    "2011-08-13T00:00:00",
                    "2011-08-14T00:00:00",
                    "2011-08-15T00:00:00",
                    "2011-08-16T00:00:00",
                    "2011-08-17T00:00:00",
                    "2011-08-18T00:00:00",
                    "2011-08-19T00:00:00",
                    "2011-08-20T00:00:00",
                    "2011-08-21T00:00:00",
                    "2011-08-22T00:00:00",
                    "2011-08-23T00:00:00",
                    "2011-08-24T00:00:00",
                    "2011-08-25T00:00:00",
                    "2011-08-26T00:00:00",
                    "2011-08-27T00:00:00",
                    "2011-08-28T00:00:00",
                    "2011-08-29T00:00:00",
                    "2011-08-30T00:00:00",
                    "2011-08-31T00:00:00",
                    "2011-09-01T00:00:00",
                    "2011-09-02T00:00:00",
                    "2011-09-03T00:00:00",
                    "2011-09-04T00:00:00",
                    "2011-09-05T00:00:00",
                    "2011-09-06T00:00:00",
                    "2011-09-07T00:00:00",
                    "2011-09-08T00:00:00",
                    "2011-09-09T00:00:00",
                    "2011-09-10T00:00:00",
                    "2011-09-11T00:00:00",
                    "2011-09-12T00:00:00",
                    "2011-09-13T00:00:00",
                    "2011-09-14T00:00:00",
                    "2011-09-15T00:00:00",
                    "2011-09-16T00:00:00",
                    "2011-09-17T00:00:00",
                    "2011-09-18T00:00:00",
                    "2011-09-19T00:00:00",
                    "2011-09-20T00:00:00",
                    "2011-09-21T00:00:00",
                    "2011-09-22T00:00:00",
                    "2011-09-23T00:00:00",
                    "2011-09-24T00:00:00",
                    "2011-09-25T00:00:00",
                    "2011-09-26T00:00:00",
                    "2011-09-27T00:00:00",
                    "2011-09-28T00:00:00",
                    "2011-09-29T00:00:00",
                    "2011-09-30T00:00:00",
                    "2011-10-01T00:00:00",
                    "2011-10-02T00:00:00",
                    "2011-10-03T00:00:00",
                    "2011-10-04T00:00:00",
                    "2011-10-05T00:00:00",
                    "2011-10-06T00:00:00",
                    "2011-10-07T00:00:00",
                    "2011-10-08T00:00:00",
                    "2011-10-09T00:00:00",
                    "2011-10-10T00:00:00",
                    "2011-10-11T00:00:00",
                    "2011-10-12T00:00:00",
                    "2011-10-13T00:00:00",
                    "2011-10-14T00:00:00",
                    "2011-10-15T00:00:00",
                    "2011-10-16T00:00:00",
                    "2011-10-17T00:00:00",
                    "2011-10-18T00:00:00",
                    "2011-10-19T00:00:00",
                    "2011-10-20T00:00:00",
                    "2011-10-21T00:00:00",
                    "2011-10-22T00:00:00",
                    "2011-10-23T00:00:00",
                    "2011-10-24T00:00:00",
                    "2011-10-25T00:00:00",
                    "2011-10-26T00:00:00",
                    "2011-10-27T00:00:00",
                    "2011-10-28T00:00:00",
                    "2011-10-29T00:00:00",
                    "2011-10-30T00:00:00",
                    "2011-10-31T00:00:00",
                    "2011-11-01T00:00:00",
                    "2011-11-02T00:00:00",
                    "2011-11-03T00:00:00",
                    "2011-11-04T00:00:00",
                    "2011-11-05T00:00:00",
                    "2011-11-06T00:00:00",
                    "2011-11-07T00:00:00",
                    "2011-11-08T00:00:00",
                    "2011-11-09T00:00:00",
                    "2011-11-10T00:00:00",
                    "2011-11-11T00:00:00",
                    "2011-11-12T00:00:00",
                    "2011-11-13T00:00:00",
                    "2011-11-14T00:00:00",
                    "2011-11-15T00:00:00",
                    "2011-11-16T00:00:00",
                    "2011-11-17T00:00:00",
                    "2011-11-18T00:00:00",
                    "2011-11-19T00:00:00",
                    "2011-11-20T00:00:00",
                    "2011-11-21T00:00:00",
                    "2011-11-22T00:00:00",
                    "2011-11-23T00:00:00",
                    "2011-11-24T00:00:00",
                    "2011-11-25T00:00:00",
                    "2011-11-26T00:00:00",
                    "2011-11-27T00:00:00",
                    "2011-11-28T00:00:00",
                    "2011-11-29T00:00:00",
                    "2011-11-30T00:00:00",
                    "2011-12-01T00:00:00",
                    "2011-12-02T00:00:00",
                    "2011-12-03T00:00:00",
                    "2011-12-04T00:00:00",
                    "2011-12-05T00:00:00",
                    "2011-12-06T00:00:00",
                    "2011-12-07T00:00:00",
                    "2011-12-08T00:00:00"
                  ],
                  "y": [
                    46376.49,
                    47316.53,
                    23921.71,
                    0,
                    31771.6,
                    31215.64,
                    53795.31,
                    39248.82,
                    38231.9,
                    33650.28,
                    0,
                    17305.77,
                    27642.68,
                    29322.3,
                    30311.72,
                    49030.08,
                    20046.56,
                    0,
                    7417.39,
                    19621.96,
                    15951.66,
                    4886.52,
                    5648.97,
                    0,
                    0,
                    0,
                    0,
                    0,
                    0,
                    0,
                    0,
                    0,
                    0,
                    0,
                    12125.460000000001,
                    28803.63,
                    34360.19,
                    23797.79,
                    0,
                    15778.2,
                    15346.83,
                    60268.78,
                    17153.94,
                    15171.31,
                    39532.02,
                    0,
                    7242.06,
                    16597.35,
                    87589.11,
                    21646.78,
                    15244.73,
                    24279.76,
                    0,
                    10400.25,
                    17632.37,
                    24119.3,
                    17490.82,
                    22157.03,
                    17273.5,
                    0,
                    6615.75,
                    18818.08,
                    26376.5,
                    17145.23,
                    22184,
                    18114.31,
                    0,
                    3457.11,
                    23415.01,
                    14168.03,
                    11920.78,
                    14198.51,
                    18599.46,
                    0,
                    5713.63,
                    23003.99,
                    37784.65,
                    23499.22,
                    17674.79,
                    14463.06,
                    0,
                    9624.69,
                    32801.73,
                    29160.48,
                    19348.07,
                    21472.89,
                    18377.69,
                    0,
                    9526.5,
                    15107.02,
                    23631.87,
                    18686.99,
                    32855.05,
                    17322.47,
                    0,
                    9997.42,
                    20285.68,
                    22230.61,
                    20345.87,
                    24431.72,
                    20896,
                    0,
                    4148.12,
                    26009.25,
                    14936.43,
                    21820.66,
                    32028.94,
                    23398.74,
                    0,
                    20084.8,
                    16051.05,
                    19064.29,
                    21578.8,
                    36697.14,
                    27302.75,
                    0,
                    9224.4,
                    20005.16,
                    37190.52,
                    29587.420000000002,
                    25688.61,
                    24586.82,
                    0,
                    6918.5,
                    29017.77,
                    28759.37,
                    12722.32,
                    16827.77,
                    22720.71,
                    0,
                    9913.98,
                    20184.14,
                    24023.96,
                    24484.420000000002,
                    35702.7,
                    18021.481,
                    0,
                    12725.5,
                    43713.56,
                    18853.04,
                    25718.95,
                    27804.47,
                    0,
                    0,
                    0,
                    0,
                    21584.41,
                    23593.2,
                    21323.29,
                    0,
                    0,
                    6973.66,
                    0,
                    28910.41,
                    27532,
                    25232.67,
                    30786.7,
                    0,
                    18867.4,
                    21624.41,
                    29870.7,
                    31887.7,
                    59901.56,
                    25885.83,
                    0,
                    9680.05,
                    35706.7,
                    46406.09,
                    32882.87,
                    31553.51,
                    25489.66,
                    0,
                    24231.09,
                    31307.49,
                    32462.48,
                    21884.93,
                    32764.38,
                    21163.32,
                    0,
                    7394.3,
                    0,
                    18194.65,
                    15390.89,
                    28104.56,
                    15042.26,
                    0,
                    25639.54,
                    16290.98,
                    33908.26,
                    30192.13,
                    42910.38,
                    58245.12,
                    0,
                    12472.210000000001,
                    19719.11,
                    33334.47,
                    45077.54,
                    32307.77,
                    19059.23,
                    0,
                    22442.18,
                    26136.73,
                    19850.66,
                    21170.42,
                    22556.81,
                    16021.710000000001,
                    0,
                    7082.49,
                    13412.2,
                    30532.37,
                    12570.63,
                    41743.04,
                    12189.29,
                    0,
                    6032.39,
                    30985.170000000002,
                    25992.260000000002,
                    22960.48,
                    27893.66,
                    17558.3,
                    0,
                    5993.87,
                    20080.03,
                    17948.19,
                    19432.85,
                    32020.91,
                    11857.300000000001,
                    0,
                    16958.6,
                    22018.36,
                    46599.08,
                    27076.97,
                    30394.71,
                    14633.77,
                    0,
                    26796.92,
                    19687.31,
                    17293.001,
                    22855.32,
                    54198.37,
                    17240.61,
                    0,
                    33393.29,
                    19808.4,
                    20277.05,
                    26617.77,
                    62079.61,
                    19825.4,
                    0,
                    7576.96,
                    19758.62,
                    25957.12,
                    19861.56,
                    54386.17,
                    17970.170000000002,
                    0,
                    5718.57,
                    17243.97,
                    16077.84,
                    48769.64,
                    54082.81,
                    17339.59,
                    0,
                    14566.84,
                    29623.18,
                    22399.11,
                    38617.01,
                    22495.29,
                    24111.64,
                    0,
                    10805.03,
                    0,
                    8833.710000000001,
                    20540.84,
                    37370.15,
                    30297.05,
                    0,
                    17005.03,
                    35698.7,
                    25495.82,
                    21967.420000000002,
                    23188.3,
                    25142.15,
                    0,
                    35511.67,
                    27989.4,
                    48162.25,
                    22027.95,
                    71993.67,
                    23248.98,
                    0,
                    15745.73,
                    46607.22,
                    103435.81,
                    38503.06,
                    57869.36,
                    31781.1,
                    0,
                    31372.661,
                    29329.841,
                    29274.36,
                    39057.89,
                    44729.37,
                    40033.44,
                    0,
                    11582.95,
                    62275.95,
                    38690.2,
                    74108.43,
                    60387.8,
                    49187.67,
                    0,
                    12466.81,
                    43080.32,
                    46436.77,
                    27731.37,
                    33039.18,
                    32124.68,
                    0,
                    22010.96,
                    47005.24,
                    37302.4,
                    37333.52,
                    61064.06,
                    60417.26,
                    0,
                    12339.16,
                    39315.28,
                    36235.95,
                    34435.32,
                    55837.14,
                    37290.57,
                    0,
                    34571.23,
                    33048.57,
                    29132.81,
                    38734.7,
                    60672.11,
                    56099.24,
                    0,
                    42941.340000000004,
                    28779.24,
                    38295.12,
                    61489.18,
                    70513.29,
                    37081.37,
                    0,
                    28607.78,
                    58777.71,
                    47729,
                    48439.76,
                    55885.3,
                    36751.25,
                    0,
                    30190.920000000002,
                    45333.13,
                    49664.89,
                    71979.93,
                    38579.11,
                    26674.66,
                    0,
                    17300.96,
                    51831.67,
                    48851.68,
                    41481.23,
                    44533.99,
                    44713.69,
                    0,
                    20375.96,
                    58202.21,
                    46144.04,
                    69354.21,
                    50519.41
                  ],
                  "type": "scatter"
                },
                {
                  "line": {
                    "color": "pink"
                  },
                  "mode": "lines",
                  "name": "Forecast",
                  "x": [
                    "2011-12-09T00:00:00",
                    "2011-12-10T00:00:00",
                    "2011-12-11T00:00:00",
                    "2011-12-12T00:00:00",
                    "2011-12-13T00:00:00",
                    "2011-12-14T00:00:00",
                    "2011-12-15T00:00:00",
                    "2011-12-16T00:00:00",
                    "2011-12-17T00:00:00",
                    "2011-12-18T00:00:00",
                    "2011-12-19T00:00:00",
                    "2011-12-20T00:00:00",
                    "2011-12-21T00:00:00",
                    "2011-12-22T00:00:00",
                    "2011-12-23T00:00:00",
                    "2011-12-24T00:00:00",
                    "2011-12-25T00:00:00",
                    "2011-12-26T00:00:00",
                    "2011-12-27T00:00:00",
                    "2011-12-28T00:00:00",
                    "2011-12-29T00:00:00",
                    "2011-12-30T00:00:00",
                    "2011-12-31T00:00:00",
                    "2012-01-01T00:00:00",
                    "2012-01-02T00:00:00",
                    "2012-01-03T00:00:00",
                    "2012-01-04T00:00:00",
                    "2012-01-05T00:00:00",
                    "2012-01-06T00:00:00",
                    "2012-01-07T00:00:00"
                  ],
                  "y": [
                    41414.13518385947,
                    7287.233451405538,
                    25632.381349642277,
                    39623.89614614953,
                    43512.3784231661,
                    38677.469810192335,
                    45582.79063357034,
                    29044.559219573708,
                    -6227.493101741457,
                    11630.29060492766,
                    25320.72241931656,
                    29062.8134194126,
                    24261.112428276127,
                    31563.0864368942,
                    15481.677407849775,
                    -19237.6934404595,
                    18643.586288429116,
                    15439.855248614285,
                    7061.885666372718,
                    12450.833247460669,
                    21656.767311077812,
                    7382.568872371994,
                    -25625.38072553078,
                    19086.935549889964,
                    -168.38400469897232,
                    25011.355656212436,
                    23687.147734965027,
                    34668.79546989507,
                    21787.151998796628,
                    -10202.878410411828
                  ],
                  "type": "scatter"
                },
                {
                  "line": {
                    "color": "rgba(0,0,0,0)"
                  },
                  "mode": "lines",
                  "showlegend": true,
                  "x": [
                    "2011-12-09T00:00:00",
                    "2011-12-10T00:00:00",
                    "2011-12-11T00:00:00",
                    "2011-12-12T00:00:00",
                    "2011-12-13T00:00:00",
                    "2011-12-14T00:00:00",
                    "2011-12-15T00:00:00",
                    "2011-12-16T00:00:00",
                    "2011-12-17T00:00:00",
                    "2011-12-18T00:00:00",
                    "2011-12-19T00:00:00",
                    "2011-12-20T00:00:00",
                    "2011-12-21T00:00:00",
                    "2011-12-22T00:00:00",
                    "2011-12-23T00:00:00",
                    "2011-12-24T00:00:00",
                    "2011-12-25T00:00:00",
                    "2011-12-26T00:00:00",
                    "2011-12-27T00:00:00",
                    "2011-12-28T00:00:00",
                    "2011-12-29T00:00:00",
                    "2011-12-30T00:00:00",
                    "2011-12-31T00:00:00",
                    "2012-01-01T00:00:00",
                    "2012-01-02T00:00:00",
                    "2012-01-03T00:00:00",
                    "2012-01-04T00:00:00",
                    "2012-01-05T00:00:00",
                    "2012-01-06T00:00:00",
                    "2012-01-07T00:00:00"
                  ],
                  "y": [
                    54948.48940556507,
                    20704.302566195733,
                    38354.326704655075,
                    52942.34006330198,
                    57583.84190161614,
                    52436.99250809093,
                    57610.97494034319,
                    41666.33341244753,
                    7427.263363334271,
                    24407.30273537253,
                    37896.71747337392,
                    41745.3627679349,
                    36794.878839634424,
                    43866.24743016816,
                    28937.158182612777,
                    -6733.795091705565,
                    31492.47857471978,
                    28422.391629567395,
                    19205.33298130662,
                    24590.91428507858,
                    34651.337169966464,
                    19718.41056475921,
                    -13362.112008590415,
                    31828.594170249908,
                    12694.126647918414,
                    38504.37448864812,
                    36811.148975607255,
                    47090.8916941643,
                    34603.9176850665,
                    4036.5848096546874
                  ],
                  "type": "scatter"
                },
                {
                  "fill": "tonexty",
                  "fillcolor": "rgba(255,0,0,0.2)",
                  "line": {
                    "color": "rgba(0,0,0,0)"
                  },
                  "mode": "lines",
                  "name": "Confidence Interval",
                  "x": [
                    "2011-12-09T00:00:00",
                    "2011-12-10T00:00:00",
                    "2011-12-11T00:00:00",
                    "2011-12-12T00:00:00",
                    "2011-12-13T00:00:00",
                    "2011-12-14T00:00:00",
                    "2011-12-15T00:00:00",
                    "2011-12-16T00:00:00",
                    "2011-12-17T00:00:00",
                    "2011-12-18T00:00:00",
                    "2011-12-19T00:00:00",
                    "2011-12-20T00:00:00",
                    "2011-12-21T00:00:00",
                    "2011-12-22T00:00:00",
                    "2011-12-23T00:00:00",
                    "2011-12-24T00:00:00",
                    "2011-12-25T00:00:00",
                    "2011-12-26T00:00:00",
                    "2011-12-27T00:00:00",
                    "2011-12-28T00:00:00",
                    "2011-12-29T00:00:00",
                    "2011-12-30T00:00:00",
                    "2011-12-31T00:00:00",
                    "2012-01-01T00:00:00",
                    "2012-01-02T00:00:00",
                    "2012-01-03T00:00:00",
                    "2012-01-04T00:00:00",
                    "2012-01-05T00:00:00",
                    "2012-01-06T00:00:00",
                    "2012-01-07T00:00:00"
                  ],
                  "y": [
                    29385.708709137303,
                    -5613.77826387849,
                    12490.555735697208,
                    26345.22706763824,
                    30266.963258155494,
                    24681.95425817039,
                    32465.344743304948,
                    16384.37615675272,
                    -19429.459986061735,
                    -1373.7405527867788,
                    12246.372902032588,
                    15840.54999299551,
                    11408.643941069877,
                    18920.874798877943,
                    3559.8179575551676,
                    -32289.46498847321,
                    4817.520205633474,
                    3236.321801286122,
                    -5367.405546777364,
                    -844.969165867718,
                    8985.272876658946,
                    -5639.09700783171,
                    -38455.20014231618,
                    6135.739640591307,
                    -13122.491026770147,
                    13162.669570786757,
                    11215.78412909985,
                    21176.41972063958,
                    8538.53414577116,
                    -23329.964478675724
                  ],
                  "type": "scatter"
                }
              ],
              "layout": {
                "template": {
                  "data": {
                    "histogram2dcontour": [
                      {
                        "type": "histogram2dcontour",
                        "colorbar": {
                          "outlinewidth": 0,
                          "ticks": ""
                        },
                        "colorscale": [
                          [
                            0,
                            "#0d0887"
                          ],
                          [
                            0.1111111111111111,
                            "#46039f"
                          ],
                          [
                            0.2222222222222222,
                            "#7201a8"
                          ],
                          [
                            0.3333333333333333,
                            "#9c179e"
                          ],
                          [
                            0.4444444444444444,
                            "#bd3786"
                          ],
                          [
                            0.5555555555555556,
                            "#d8576b"
                          ],
                          [
                            0.6666666666666666,
                            "#ed7953"
                          ],
                          [
                            0.7777777777777778,
                            "#fb9f3a"
                          ],
                          [
                            0.8888888888888888,
                            "#fdca26"
                          ],
                          [
                            1,
                            "#f0f921"
                          ]
                        ]
                      }
                    ],
                    "choropleth": [
                      {
                        "type": "choropleth",
                        "colorbar": {
                          "outlinewidth": 0,
                          "ticks": ""
                        }
                      }
                    ],
                    "histogram2d": [
                      {
                        "type": "histogram2d",
                        "colorbar": {
                          "outlinewidth": 0,
                          "ticks": ""
                        },
                        "colorscale": [
                          [
                            0,
                            "#0d0887"
                          ],
                          [
                            0.1111111111111111,
                            "#46039f"
                          ],
                          [
                            0.2222222222222222,
                            "#7201a8"
                          ],
                          [
                            0.3333333333333333,
                            "#9c179e"
                          ],
                          [
                            0.4444444444444444,
                            "#bd3786"
                          ],
                          [
                            0.5555555555555556,
                            "#d8576b"
                          ],
                          [
                            0.6666666666666666,
                            "#ed7953"
                          ],
                          [
                            0.7777777777777778,
                            "#fb9f3a"
                          ],
                          [
                            0.8888888888888888,
                            "#fdca26"
                          ],
                          [
                            1,
                            "#f0f921"
                          ]
                        ]
                      }
                    ],
                    "heatmap": [
                      {
                        "type": "heatmap",
                        "colorbar": {
                          "outlinewidth": 0,
                          "ticks": ""
                        },
                        "colorscale": [
                          [
                            0,
                            "#0d0887"
                          ],
                          [
                            0.1111111111111111,
                            "#46039f"
                          ],
                          [
                            0.2222222222222222,
                            "#7201a8"
                          ],
                          [
                            0.3333333333333333,
                            "#9c179e"
                          ],
                          [
                            0.4444444444444444,
                            "#bd3786"
                          ],
                          [
                            0.5555555555555556,
                            "#d8576b"
                          ],
                          [
                            0.6666666666666666,
                            "#ed7953"
                          ],
                          [
                            0.7777777777777778,
                            "#fb9f3a"
                          ],
                          [
                            0.8888888888888888,
                            "#fdca26"
                          ],
                          [
                            1,
                            "#f0f921"
                          ]
                        ]
                      }
                    ],
                    "heatmapgl": [
                      {
                        "type": "heatmapgl",
                        "colorbar": {
                          "outlinewidth": 0,
                          "ticks": ""
                        },
                        "colorscale": [
                          [
                            0,
                            "#0d0887"
                          ],
                          [
                            0.1111111111111111,
                            "#46039f"
                          ],
                          [
                            0.2222222222222222,
                            "#7201a8"
                          ],
                          [
                            0.3333333333333333,
                            "#9c179e"
                          ],
                          [
                            0.4444444444444444,
                            "#bd3786"
                          ],
                          [
                            0.5555555555555556,
                            "#d8576b"
                          ],
                          [
                            0.6666666666666666,
                            "#ed7953"
                          ],
                          [
                            0.7777777777777778,
                            "#fb9f3a"
                          ],
                          [
                            0.8888888888888888,
                            "#fdca26"
                          ],
                          [
                            1,
                            "#f0f921"
                          ]
                        ]
                      }
                    ],
                    "contourcarpet": [
                      {
                        "type": "contourcarpet",
                        "colorbar": {
                          "outlinewidth": 0,
                          "ticks": ""
                        }
                      }
                    ],
                    "contour": [
                      {
                        "type": "contour",
                        "colorbar": {
                          "outlinewidth": 0,
                          "ticks": ""
                        },
                        "colorscale": [
                          [
                            0,
                            "#0d0887"
                          ],
                          [
                            0.1111111111111111,
                            "#46039f"
                          ],
                          [
                            0.2222222222222222,
                            "#7201a8"
                          ],
                          [
                            0.3333333333333333,
                            "#9c179e"
                          ],
                          [
                            0.4444444444444444,
                            "#bd3786"
                          ],
                          [
                            0.5555555555555556,
                            "#d8576b"
                          ],
                          [
                            0.6666666666666666,
                            "#ed7953"
                          ],
                          [
                            0.7777777777777778,
                            "#fb9f3a"
                          ],
                          [
                            0.8888888888888888,
                            "#fdca26"
                          ],
                          [
                            1,
                            "#f0f921"
                          ]
                        ]
                      }
                    ],
                    "surface": [
                      {
                        "type": "surface",
                        "colorbar": {
                          "outlinewidth": 0,
                          "ticks": ""
                        },
                        "colorscale": [
                          [
                            0,
                            "#0d0887"
                          ],
                          [
                            0.1111111111111111,
                            "#46039f"
                          ],
                          [
                            0.2222222222222222,
                            "#7201a8"
                          ],
                          [
                            0.3333333333333333,
                            "#9c179e"
                          ],
                          [
                            0.4444444444444444,
                            "#bd3786"
                          ],
                          [
                            0.5555555555555556,
                            "#d8576b"
                          ],
                          [
                            0.6666666666666666,
                            "#ed7953"
                          ],
                          [
                            0.7777777777777778,
                            "#fb9f3a"
                          ],
                          [
                            0.8888888888888888,
                            "#fdca26"
                          ],
                          [
                            1,
                            "#f0f921"
                          ]
                        ]
                      }
                    ],
                    "mesh3d": [
                      {
                        "type": "mesh3d",
                        "colorbar": {
                          "outlinewidth": 0,
                          "ticks": ""
                        }
                      }
                    ],
                    "scatter": [
                      {
                        "fillpattern": {
                          "fillmode": "overlay",
                          "size": 10,
                          "solidity": 0.2
                        },
                        "type": "scatter"
                      }
                    ],
                    "parcoords": [
                      {
                        "type": "parcoords",
                        "line": {
                          "colorbar": {
                            "outlinewidth": 0,
                            "ticks": ""
                          }
                        }
                      }
                    ],
                    "scatterpolargl": [
                      {
                        "type": "scatterpolargl",
                        "marker": {
                          "colorbar": {
                            "outlinewidth": 0,
                            "ticks": ""
                          }
                        }
                      }
                    ],
                    "bar": [
                      {
                        "error_x": {
                          "color": "#2a3f5f"
                        },
                        "error_y": {
                          "color": "#2a3f5f"
                        },
                        "marker": {
                          "line": {
                            "color": "#E5ECF6",
                            "width": 0.5
                          },
                          "pattern": {
                            "fillmode": "overlay",
                            "size": 10,
                            "solidity": 0.2
                          }
                        },
                        "type": "bar"
                      }
                    ],
                    "scattergeo": [
                      {
                        "type": "scattergeo",
                        "marker": {
                          "colorbar": {
                            "outlinewidth": 0,
                            "ticks": ""
                          }
                        }
                      }
                    ],
                    "scatterpolar": [
                      {
                        "type": "scatterpolar",
                        "marker": {
                          "colorbar": {
                            "outlinewidth": 0,
                            "ticks": ""
                          }
                        }
                      }
                    ],
                    "histogram": [
                      {
                        "marker": {
                          "pattern": {
                            "fillmode": "overlay",
                            "size": 10,
                            "solidity": 0.2
                          }
                        },
                        "type": "histogram"
                      }
                    ],
                    "scattergl": [
                      {
                        "type": "scattergl",
                        "marker": {
                          "colorbar": {
                            "outlinewidth": 0,
                            "ticks": ""
                          }
                        }
                      }
                    ],
                    "scatter3d": [
                      {
                        "type": "scatter3d",
                        "line": {
                          "colorbar": {
                            "outlinewidth": 0,
                            "ticks": ""
                          }
                        },
                        "marker": {
                          "colorbar": {
                            "outlinewidth": 0,
                            "ticks": ""
                          }
                        }
                      }
                    ],
                    "scattermapbox": [
                      {
                        "type": "scattermapbox",
                        "marker": {
                          "colorbar": {
                            "outlinewidth": 0,
                            "ticks": ""
                          }
                        }
                      }
                    ],
                    "scatterternary": [
                      {
                        "type": "scatterternary",
                        "marker": {
                          "colorbar": {
                            "outlinewidth": 0,
                            "ticks": ""
                          }
                        }
                      }
                    ],
                    "scattercarpet": [
                      {
                        "type": "scattercarpet",
                        "marker": {
                          "colorbar": {
                            "outlinewidth": 0,
                            "ticks": ""
                          }
                        }
                      }
                    ],
                    "carpet": [
                      {
                        "aaxis": {
                          "endlinecolor": "#2a3f5f",
                          "gridcolor": "white",
                          "linecolor": "white",
                          "minorgridcolor": "white",
                          "startlinecolor": "#2a3f5f"
                        },
                        "baxis": {
                          "endlinecolor": "#2a3f5f",
                          "gridcolor": "white",
                          "linecolor": "white",
                          "minorgridcolor": "white",
                          "startlinecolor": "#2a3f5f"
                        },
                        "type": "carpet"
                      }
                    ],
                    "table": [
                      {
                        "cells": {
                          "fill": {
                            "color": "#EBF0F8"
                          },
                          "line": {
                            "color": "white"
                          }
                        },
                        "header": {
                          "fill": {
                            "color": "#C8D4E3"
                          },
                          "line": {
                            "color": "white"
                          }
                        },
                        "type": "table"
                      }
                    ],
                    "barpolar": [
                      {
                        "marker": {
                          "line": {
                            "color": "#E5ECF6",
                            "width": 0.5
                          },
                          "pattern": {
                            "fillmode": "overlay",
                            "size": 10,
                            "solidity": 0.2
                          }
                        },
                        "type": "barpolar"
                      }
                    ],
                    "pie": [
                      {
                        "automargin": true,
                        "type": "pie"
                      }
                    ]
                  },
                  "layout": {
                    "autotypenumbers": "strict",
                    "colorway": [
                      "#636efa",
                      "#EF553B",
                      "#00cc96",
                      "#ab63fa",
                      "#FFA15A",
                      "#19d3f3",
                      "#FF6692",
                      "#B6E880",
                      "#FF97FF",
                      "#FECB52"
                    ],
                    "font": {
                      "color": "#2a3f5f"
                    },
                    "hovermode": "closest",
                    "hoverlabel": {
                      "align": "left"
                    },
                    "paper_bgcolor": "white",
                    "plot_bgcolor": "#E5ECF6",
                    "polar": {
                      "bgcolor": "#E5ECF6",
                      "angularaxis": {
                        "gridcolor": "white",
                        "linecolor": "white",
                        "ticks": ""
                      },
                      "radialaxis": {
                        "gridcolor": "white",
                        "linecolor": "white",
                        "ticks": ""
                      }
                    },
                    "ternary": {
                      "bgcolor": "#E5ECF6",
                      "aaxis": {
                        "gridcolor": "white",
                        "linecolor": "white",
                        "ticks": ""
                      },
                      "baxis": {
                        "gridcolor": "white",
                        "linecolor": "white",
                        "ticks": ""
                      },
                      "caxis": {
                        "gridcolor": "white",
                        "linecolor": "white",
                        "ticks": ""
                      }
                    },
                    "coloraxis": {
                      "colorbar": {
                        "outlinewidth": 0,
                        "ticks": ""
                      }
                    },
                    "colorscale": {
                      "sequential": [
                        [
                          0,
                          "#0d0887"
                        ],
                        [
                          0.1111111111111111,
                          "#46039f"
                        ],
                        [
                          0.2222222222222222,
                          "#7201a8"
                        ],
                        [
                          0.3333333333333333,
                          "#9c179e"
                        ],
                        [
                          0.4444444444444444,
                          "#bd3786"
                        ],
                        [
                          0.5555555555555556,
                          "#d8576b"
                        ],
                        [
                          0.6666666666666666,
                          "#ed7953"
                        ],
                        [
                          0.7777777777777778,
                          "#fb9f3a"
                        ],
                        [
                          0.8888888888888888,
                          "#fdca26"
                        ],
                        [
                          1,
                          "#f0f921"
                        ]
                      ],
                      "sequentialminus": [
                        [
                          0,
                          "#0d0887"
                        ],
                        [
                          0.1111111111111111,
                          "#46039f"
                        ],
                        [
                          0.2222222222222222,
                          "#7201a8"
                        ],
                        [
                          0.3333333333333333,
                          "#9c179e"
                        ],
                        [
                          0.4444444444444444,
                          "#bd3786"
                        ],
                        [
                          0.5555555555555556,
                          "#d8576b"
                        ],
                        [
                          0.6666666666666666,
                          "#ed7953"
                        ],
                        [
                          0.7777777777777778,
                          "#fb9f3a"
                        ],
                        [
                          0.8888888888888888,
                          "#fdca26"
                        ],
                        [
                          1,
                          "#f0f921"
                        ]
                      ],
                      "diverging": [
                        [
                          0,
                          "#8e0152"
                        ],
                        [
                          0.1,
                          "#c51b7d"
                        ],
                        [
                          0.2,
                          "#de77ae"
                        ],
                        [
                          0.3,
                          "#f1b6da"
                        ],
                        [
                          0.4,
                          "#fde0ef"
                        ],
                        [
                          0.5,
                          "#f7f7f7"
                        ],
                        [
                          0.6,
                          "#e6f5d0"
                        ],
                        [
                          0.7,
                          "#b8e186"
                        ],
                        [
                          0.8,
                          "#7fbc41"
                        ],
                        [
                          0.9,
                          "#4d9221"
                        ],
                        [
                          1,
                          "#276419"
                        ]
                      ]
                    },
                    "xaxis": {
                      "gridcolor": "white",
                      "linecolor": "white",
                      "ticks": "",
                      "title": {
                        "standoff": 15
                      },
                      "zerolinecolor": "white",
                      "automargin": true,
                      "zerolinewidth": 2
                    },
                    "yaxis": {
                      "gridcolor": "white",
                      "linecolor": "white",
                      "ticks": "",
                      "title": {
                        "standoff": 15
                      },
                      "zerolinecolor": "white",
                      "automargin": true,
                      "zerolinewidth": 2
                    },
                    "scene": {
                      "xaxis": {
                        "backgroundcolor": "#E5ECF6",
                        "gridcolor": "white",
                        "linecolor": "white",
                        "showbackground": true,
                        "ticks": "",
                        "zerolinecolor": "white",
                        "gridwidth": 2
                      },
                      "yaxis": {
                        "backgroundcolor": "#E5ECF6",
                        "gridcolor": "white",
                        "linecolor": "white",
                        "showbackground": true,
                        "ticks": "",
                        "zerolinecolor": "white",
                        "gridwidth": 2
                      },
                      "zaxis": {
                        "backgroundcolor": "#E5ECF6",
                        "gridcolor": "white",
                        "linecolor": "white",
                        "showbackground": true,
                        "ticks": "",
                        "zerolinecolor": "white",
                        "gridwidth": 2
                      }
                    },
                    "shapedefaults": {
                      "line": {
                        "color": "#2a3f5f"
                      }
                    },
                    "annotationdefaults": {
                      "arrowcolor": "#2a3f5f",
                      "arrowhead": 0,
                      "arrowwidth": 1
                    },
                    "geo": {
                      "bgcolor": "white",
                      "landcolor": "#E5ECF6",
                      "subunitcolor": "white",
                      "showland": true,
                      "showlakes": true,
                      "lakecolor": "white"
                    },
                    "title": {
                      "x": 0.05
                    },
                    "mapbox": {
                      "style": "light"
                    }
                  }
                },
                "title": {
                  "text": "30-Day Revenue Forecast with Confidence Intervals"
                },
                "xaxis": {
                  "title": {
                    "text": "Date"
                  }
                },
                "yaxis": {
                  "title": {
                    "text": "Daily Revenue (£)"
                  }
                },
                "hovermode": "x unified"
              },
              "config": {
                "plotlyServerURL": "https://plot.ly"
              }
            }
          },
          "execution_count": null,
          "metadata": {},
          "output_type": "execute_result"
        },
        {
          "data": {
            "image/png": "[encoded data removed]"
          },
          "execution_count": null,
          "metadata": {},
          "output_type": "execute_result"
        },
        {
          "data": {
            "image/png": "[encoded data removed]"
          },
          "execution_count": null,
          "metadata": {},
          "output_type": "execute_result"
        }
      ]
    },
    {
      "cell_type": "markdown",
      "source": [
        "**Why**: Interactive visualizations in Hex enable stakeholders to explore forecast details, understand uncertainty ranges, and make informed inventory decisions based on confidence levels.\n",
        "\n"
      ],
      "metadata": {
        "id": "R2dY82dHCL9W"
      }
    },
    {
      "cell_type": "markdown",
      "source": [
        "### Business Insights"
      ],
      "metadata": {
        "id": "FMq48vkgCL9b"
      }
    },
    {
      "cell_type": "code",
      "source": [
        "# Key insights summary\n",
        "forecast_summary = forecast_future.groupby(forecast_future['ds'].dt.dayofweek).agg({\n",
        "    'yhat': 'mean',\n",
        "    'yhat_lower': 'mean',\n",
        "    'yhat_upper': 'mean'\n",
        "}).round(2)\n",
        "\n",
        "forecast_summary.index = ['Mon', 'Tue', 'Wed', 'Thu', 'Fri', 'Sat', 'Sun']\n",
        "print(\"Average Daily Forecast by Day of Week:\")\n",
        "print(forecast_summary)\n",
        "\n",
        "# Monthly projections\n",
        "monthly_forecast = forecast_future.groupby(forecast_future['ds'].dt.to_period('M')).agg({\n",
        "    'yhat': 'sum',\n",
        "    'yhat_lower': 'sum',\n",
        "    'yhat_upper': 'sum'\n",
        "}).round(2)\n",
        "\n",
        "print(f\"\\nMonthly Revenue Projection:\")\n",
        "print(monthly_forecast)\n"
      ],
      "metadata": {
        "id": "n881f7C2CL9b",
        "outputId": "a818ef3b-cf04-4a48-b4b8-ea118d086314"
      },
      "execution_count": null,
      "outputs": [
        {
          "data": {
            "text/plain": "Average Daily Forecast by Day of Week:\n         yhat  yhat_lower  yhat_upper\nMon  20054.02     7176.36    32988.89\nTue  26162.11    13475.69    39259.73\nWed  24769.14    11615.35    37658.48\nThu  33367.86    20386.98    45804.86\nFri  23022.02    10445.87    35974.86\nSat -10801.24   -23823.57     2414.45\nSun  18748.30     5517.52    31520.68\n\nMonthly Revenue Projection:\n              yhat  yhat_lower  yhat_upper\nds                                        \n2011-12  439639.48   142022.39   735307.49\n2012-01  113870.12    23776.69   205569.64\n"
          },
          "execution_count": null,
          "metadata": {},
          "output_type": "execute_result"
        }
      ]
    },
    {
      "cell_type": "markdown",
      "source": [
        "**Why**: Day-of-week and monthly aggregations provide actionable insights for staffing decisions and marketing campaign timing, translating forecasts into operational planning tools.\n",
        "\n"
      ],
      "metadata": {
        "id": "yMQZhRzFCL9c"
      }
    },
    {
      "cell_type": "markdown",
      "source": [
        "## Experimenting with Hex Visualizations"
      ],
      "metadata": {
        "id": "lUOEu11BCL9c"
      }
    },
    {
      "cell_type": "code",
      "source": [
        "monthly_forecast"
      ],
      "metadata": {
        "id": "Pn8HkIEECL9c"
      },
      "execution_count": null,
      "outputs": []
    },
    {
      "cell_type": "code",
      "source": [
        "monthly_forecast"
      ],
      "metadata": {
        "id": "mGwDPsBzCL9c"
      },
      "execution_count": null,
      "outputs": []
    },
    {
      "cell_type": "code",
      "source": [
        "monthly_forecast"
      ],
      "metadata": {
        "id": "bAPDieP6CL9c"
      },
      "execution_count": null,
      "outputs": []
    },
    {
      "cell_type": "code",
      "source": [
        "import altair\n",
        "chart_merged = altair.Chart.from_json(r\"\"\"\n",
        "{\n",
        "    \"width\": \"container\",\n",
        "    \"height\": \"container\",\n",
        "    \"$schema\": \"https://vega.github.io/schema/vega-lite/v5.json\",\n",
        "    \"layer\": [\n",
        "        {\n",
        "            \"description\": \"outer data layer\",\n",
        "            \"resolve\": {\n",
        "                \"scale\": {\n",
        "                    \"color\": \"independent\",\n",
        "                    \"y\": \"shared\"\n",
        "                }\n",
        "            },\n",
        "            \"layer\": [\n",
        "                {\n",
        "                    \"description\": \"series data layer\",\n",
        "                    \"name\": \"series_01977edc-1c9f-7aa8-868b-9a5c6592d25e\",\n",
        "                    \"layer\": [\n",
        "                        {\n",
        "                            \"description\": \"line series layer\",\n",
        "                            \"transform\": [\n",
        "                                {\n",
        "                                    \"fold\": [\n",
        "                                        \"y\",\n",
        "                                        \"yhat\",\n",
        "                                        \"yhat_upper\",\n",
        "                                        \"yhat_lower\"\n",
        "                                    ],\n",
        "                                    \"as\": [\n",
        "                                        \"CHART_FOLD_KEYS\",\n",
        "                                        \"CHART_FOLD_VALUES\"\n",
        "                                    ]\n",
        "                                },\n",
        "                                {\n",
        "                                    \"calculate\": \"if(datum[\\\"CHART_FOLD_KEYS\\\"] === \\\"y\\\", \\\"y\\\", if(datum[\\\"CHART_FOLD_KEYS\\\"] === \\\"yhat\\\", \\\"yhat\\\", if(datum[\\\"CHART_FOLD_KEYS\\\"] === \\\"yhat_upper\\\", \\\"yhat_upper\\\", if(datum[\\\"CHART_FOLD_KEYS\\\"] === \\\"yhat_lower\\\", \\\"yhat_lower\\\", \\\"\\\"))))\",\n",
        "                                    \"as\": \"CHART_FOLD_KEYS\"\n",
        "                                },\n",
        "                                {\n",
        "                                    \"joinaggregate\": [\n",
        "                                        {\n",
        "                                            \"field\": \"CHART_FOLD_VALUES\",\n",
        "                                            \"op\": \"sum\",\n",
        "                                            \"as\": \"sum_y_by_x\"\n",
        "                                        }\n",
        "                                    ],\n",
        "                                    \"groupby\": [\n",
        "                                        \"ds\"\n",
        "                                    ]\n",
        "                                },\n",
        "                                {\n",
        "                                    \"calculate\": \"toDate(datum[\\\"ds\\\"])\",\n",
        "                                    \"as\": \"ds\"\n",
        "                                },\n",
        "                                {\n",
        "                                    \"filter\": \"isValid(datum[\\\"ds\\\"])\"\n",
        "                                }\n",
        "                            ],\n",
        "                            \"layer\": [\n",
        "                                {\n",
        "                                    \"description\": \"line mark layer\",\n",
        "                                    \"mark\": {\n",
        "                                        \"type\": \"line\",\n",
        "                                        \"point\": false,\n",
        "                                        \"clip\": true,\n",
        "                                        \"strokeCap\": \"square\",\n",
        "                                        \"strokeJoin\": \"round\",\n",
        "                                        \"cursor\": \"crosshair\"\n",
        "                                    },\n",
        "                                    \"params\": [\n",
        "                                        {\n",
        "                                            \"name\": \"interval_intervalselection_0\",\n",
        "                                            \"select\": {\n",
        "                                                \"type\": \"interval\",\n",
        "                                                \"encodings\": [\n",
        "                                                    \"x\"\n",
        "                                                ],\n",
        "                                                \"zoom\": false,\n",
        "                                                \"mark\": {\n",
        "                                                    \"fill\": \"#669EFF\",\n",
        "                                                    \"fillOpacity\": 0.07,\n",
        "                                                    \"stroke\": \"#669EFF\",\n",
        "                                                    \"strokeOpacity\": 0.4\n",
        "                                                }\n",
        "                                            }\n",
        "                                        },\n",
        "                                        {\n",
        "                                            \"name\": \"legend_pointselection_0\",\n",
        "                                            \"select\": {\n",
        "                                                \"type\": \"point\",\n",
        "                                                \"encodings\": [\n",
        "                                                    \"color\"\n",
        "                                                ]\n",
        "                                            },\n",
        "                                            \"bind\": \"legend\"\n",
        "                                        },\n",
        "                                        {\n",
        "                                            \"name\": \"legend_pointhover_0\",\n",
        "                                            \"select\": {\n",
        "                                                \"type\": \"point\",\n",
        "                                                \"encodings\": [\n",
        "                                                    \"color\"\n",
        "                                                ]\n",
        "                                            },\n",
        "                                            \"bind\": \"legend\"\n",
        "                                        }\n",
        "                                    ],\n",
        "                                    \"encoding\": {\n",
        "                                        \"opacity\": {\n",
        "                                            \"value\": 1\n",
        "                                        }\n",
        "                                    }\n",
        "                                },\n",
        "                                {\n",
        "                                    \"description\": \"line point mark layer\",\n",
        "                                    \"mark\": {\n",
        "                                        \"type\": \"point\",\n",
        "                                        \"filled\": true,\n",
        "                                        \"clip\": true\n",
        "                                    },\n",
        "                                    \"encoding\": {\n",
        "                                        \"size\": {\n",
        "                                            \"value\": 50\n",
        "                                        },\n",
        "                                        \"opacity\": {\n",
        "                                            \"condition\": {\n",
        "                                                \"test\": {\n",
        "                                                    \"or\": [\n",
        "                                                        {\n",
        "                                                            \"param\": \"legend_pointhover_0\",\n",
        "                                                            \"empty\": false\n",
        "                                                        }\n",
        "                                                    ],\n",
        "                                                    \"empty\": false\n",
        "                                                },\n",
        "                                                \"value\": 1\n",
        "                                            },\n",
        "                                            \"value\": 0\n",
        "                                        }\n",
        "                                    }\n",
        "                                },\n",
        "                                {\n",
        "                                    \"description\": \"pivot tooltip point mark layer\",\n",
        "                                    \"mark\": {\n",
        "                                        \"type\": \"point\",\n",
        "                                        \"tooltip\": true,\n",
        "                                        \"clip\": true\n",
        "                                    },\n",
        "                                    \"encoding\": {\n",
        "                                        \"opacity\": {\n",
        "                                            \"value\": 0,\n",
        "                                            \"condition\": {\n",
        "                                                \"param\": \"pivot_hover_01977edc-1c9f-7aa8-868b-9a5c6592d25e\",\n",
        "                                                \"value\": 1,\n",
        "                                                \"empty\": false\n",
        "                                            }\n",
        "                                        },\n",
        "                                        \"size\": {\n",
        "                                            \"value\": 80\n",
        "                                        },\n",
        "                                        \"tooltip\": [\n",
        "                                            {\n",
        "                                                \"field\": \"ds\",\n",
        "                                                \"type\": \"temporal\",\n",
        "                                                \"timeUnit\": \"yearmonthdate\",\n",
        "                                                \"title\": \"Date\"\n",
        "                                            },\n",
        "                                            {\n",
        "                                                \"field\": \"CHART_FOLD_VALUES\",\n",
        "                                                \"type\": \"quantitative\",\n",
        "                                                \"formatType\": \"NUMBER_FORMATTER\",\n",
        "                                                \"format\": {\n",
        "                                                    \"format\": \"NUMBER\",\n",
        "                                                    \"columnType\": \"NUMBER\",\n",
        "                                                    \"numDecimalDigits\": -1,\n",
        "                                                    \"currency\": \"USD\",\n",
        "                                                    \"nanFormat\": \"\"\n",
        "                                                },\n",
        "                                                \"title\": \"Revenue\"\n",
        "                                            },\n",
        "                                            {\n",
        "                                                \"field\": \"CHART_FOLD_KEYS\",\n",
        "                                                \"type\": \"ordinal\",\n",
        "                                                \"title\": \"Y-Axis Field\"\n",
        "                                            }\n",
        "                                        ]\n",
        "                                    },\n",
        "                                    \"params\": [\n",
        "                                        {\n",
        "                                            \"name\": \"pivot_hover_01977edc-1c9f-7aa8-868b-9a5c6592d25e\",\n",
        "                                            \"select\": {\n",
        "                                                \"type\": \"point\",\n",
        "                                                \"on\": \"mouseover\",\n",
        "                                                \"clear\": \"mouseout\",\n",
        "                                                \"nearest\": true,\n",
        "                                                \"fields\": [\n",
        "                                                    \"ds\",\n",
        "                                                    \"CHART_FOLD_KEYS\",\n",
        "                                                    \"CHART_FOLD_KEYS\"\n",
        "                                                ]\n",
        "                                            }\n",
        "                                        }\n",
        "                                    ]\n",
        "                                }\n",
        "                            ],\n",
        "                            \"encoding\": {\n",
        "                                \"x\": {\n",
        "                                    \"field\": \"ds\",\n",
        "                                    \"type\": \"temporal\",\n",
        "                                    \"title\": \"Date\",\n",
        "                                    \"scale\": {},\n",
        "                                    \"axis\": {\n",
        "                                        \"grid\": true,\n",
        "                                        \"ticks\": true,\n",
        "                                        \"tickCount\": {\n",
        "                                            \"expr\": \"length(domain('x')) > 0 ? min(ceil(width / 40), ceil((domain('x')[1] - domain('x')[0]) / 86400000)) : ceil(width / 40)\"\n",
        "                                        },\n",
        "                                        \"labels\": true,\n",
        "                                        \"labelFlush\": false\n",
        "                                    },\n",
        "                                    \"timeUnit\": \"yearmonthdate\"\n",
        "                                },\n",
        "                                \"y\": {\n",
        "                                    \"field\": \"CHART_FOLD_VALUES\",\n",
        "                                    \"type\": \"quantitative\",\n",
        "                                    \"title\": \"Revenue\",\n",
        "                                    \"scale\": {},\n",
        "                                    \"axis\": {\n",
        "                                        \"grid\": true,\n",
        "                                        \"ticks\": true,\n",
        "                                        \"labels\": true,\n",
        "                                        \"labelFlush\": false,\n",
        "                                        \"format\": {\n",
        "                                            \"format\": \"NUMBER\",\n",
        "                                            \"columnType\": \"NUMBER\",\n",
        "                                            \"numDecimalDigits\": -1,\n",
        "                                            \"currency\": \"USD\",\n",
        "                                            \"nanFormat\": \"\"\n",
        "                                        },\n",
        "                                        \"formatType\": \"NUMBER_FORMATTER\"\n",
        "                                    }\n",
        "                                },\n",
        "                                \"color\": {\n",
        "                                    \"field\": \"CHART_FOLD_KEYS\",\n",
        "                                    \"scale\": {\n",
        "                                        \"range\": [\n",
        "                                            \"#4C78A8\",\n",
        "                                            \"#F58518\",\n",
        "                                            \"#E45756\",\n",
        "                                            \"#72B7B2\",\n",
        "                                            \"#54A24B\",\n",
        "                                            \"#EECA3B\",\n",
        "                                            \"#B279A2\",\n",
        "                                            \"#FF9DA6\",\n",
        "                                            \"#9D755D\",\n",
        "                                            \"#BAB0AC\"\n",
        "                                        ]\n",
        "                                    },\n",
        "                                    \"sort\": {\n",
        "                                        \"field\": \"CHART_FOLD_KEYS\",\n",
        "                                        \"order\": \"ascending\"\n",
        "                                    },\n",
        "                                    \"legend\": {\n",
        "                                        \"symbolOpacity\": 1,\n",
        "                                        \"symbolType\": \"stroke\"\n",
        "                                    },\n",
        "                                    \"title\": \"Y-Axis Field\"\n",
        "                                },\n",
        "                                \"detail\": [\n",
        "                                    {\n",
        "                                        \"field\": \"CHART_FOLD_KEYS\",\n",
        "                                        \"type\": \"ordinal\",\n",
        "                                        \"title\": \"Y-Axis Field\"\n",
        "                                    }\n",
        "                                ]\n",
        "                            }\n",
        "                        }\n",
        "                    ]\n",
        "                }\n",
        "            ],\n",
        "            \"transform\": []\n",
        "        }\n",
        "    ],\n",
        "    \"config\": {\n",
        "        \"legend\": {\n",
        "            \"orient\": \"right\"\n",
        "        },\n",
        "        \"font\": \"\\\"IBM Plex Sans\\\", system-ui, -apple-system, BlinkMacSystemFont, sans-serif\",\n",
        "        \"view\": {}\n",
        "    },\n",
        "    \"datasets\": {\n",
        "        \"layer00\": [\n",
        "            {\n",
        "                \"name\": \"dummy\",\n",
        "                \"value\": 0\n",
        "            }\n",
        "        ]\n",
        "    },\n",
        "    \"usermeta\": {\n",
        "        \"selectionConfigs\": {\n",
        "            \"interval_intervalselection_0\": {\n",
        "                \"type\": \"interval\",\n",
        "                \"datetimeFields\": [\n",
        "                    \"yearmonthdate_ds\"\n",
        "                ],\n",
        "                \"derived\": [\n",
        "                    {\n",
        "                        \"type\": \"timeunit\",\n",
        "                        \"sourceName\": \"ds\",\n",
        "                        \"derivedName\": \"yearmonthdate_ds\",\n",
        "                        \"timeUnit\": \"yearmonthdate\"\n",
        "                    }\n",
        "                ]\n",
        "            }\n",
        "        },\n",
        "        \"columnNameMappings\": {\n",
        "            \"CHART_FOLD_KEYS\": \"Y-Axis Field\",\n",
        "            \"CHART_FOLD_VALUES\": \"Values\"\n",
        "        }\n",
        "    }\n",
        "}\n",
        "\"\"\")\n",
        "chart_merged.datasets.layer00 = merged.to_json(orient='records')\n",
        "chart_merged.display(actions=False)"
      ],
      "metadata": {
        "id": "GZ2Mcm1iCL9c"
      },
      "execution_count": null,
      "outputs": []
    },
    {
      "cell_type": "code",
      "source": [
        "import altair\n",
        "chart_merged = altair.Chart.from_json(r\"\"\"\n",
        "{\n",
        "    \"width\": \"container\",\n",
        "    \"height\": \"container\",\n",
        "    \"$schema\": \"https://vega.github.io/schema/vega-lite/v5.json\",\n",
        "    \"layer\": [\n",
        "        {\n",
        "            \"description\": \"outer data layer\",\n",
        "            \"resolve\": {\n",
        "                \"scale\": {\n",
        "                    \"color\": \"independent\",\n",
        "                    \"y\": \"shared\"\n",
        "                }\n",
        "            },\n",
        "            \"layer\": [\n",
        "                {\n",
        "                    \"description\": \"series data layer\",\n",
        "                    \"name\": \"series_01977ef1-8407-7aa8-869a-04106f1eefae\",\n",
        "                    \"layer\": [\n",
        "                        {\n",
        "                            \"description\": \"bar series layer\",\n",
        "                            \"transform\": [\n",
        "                                {\n",
        "                                    \"fold\": [\n",
        "                                        \"y\",\n",
        "                                        \"yhat\"\n",
        "                                    ],\n",
        "                                    \"as\": [\n",
        "                                        \"CHART_FOLD_KEYS\",\n",
        "                                        \"CHART_FOLD_VALUES\"\n",
        "                                    ]\n",
        "                                },\n",
        "                                {\n",
        "                                    \"calculate\": \"if(datum[\\\"CHART_FOLD_KEYS\\\"] === \\\"y\\\", \\\"y\\\", if(datum[\\\"CHART_FOLD_KEYS\\\"] === \\\"yhat\\\", \\\"yhat\\\", \\\"\\\"))\",\n",
        "                                    \"as\": \"CHART_FOLD_KEYS\"\n",
        "                                },\n",
        "                                {\n",
        "                                    \"joinaggregate\": [\n",
        "                                        {\n",
        "                                            \"field\": \"CHART_FOLD_VALUES\",\n",
        "                                            \"op\": \"sum\",\n",
        "                                            \"as\": \"sum_y_by_x\"\n",
        "                                        }\n",
        "                                    ],\n",
        "                                    \"groupby\": [\n",
        "                                        \"ds\"\n",
        "                                    ]\n",
        "                                },\n",
        "                                {\n",
        "                                    \"filter\": \"isValid(datum[\\\"ds\\\"])\"\n",
        "                                }\n",
        "                            ],\n",
        "                            \"layer\": [\n",
        "                                {\n",
        "                                    \"description\": \"bar mark layer\",\n",
        "                                    \"mark\": {\n",
        "                                        \"type\": \"bar\",\n",
        "                                        \"clip\": true,\n",
        "                                        \"filled\": true,\n",
        "                                        \"cursor\": \"default\",\n",
        "                                        \"orient\": \"vertical\"\n",
        "                                    },\n",
        "                                    \"params\": [\n",
        "                                        {\n",
        "                                            \"name\": \"interval_intervalselection_0\",\n",
        "                                            \"select\": {\n",
        "                                                \"type\": \"interval\",\n",
        "                                                \"encodings\": [\n",
        "                                                    \"x\"\n",
        "                                                ],\n",
        "                                                \"mark\": {\n",
        "                                                    \"fill\": \"#669EFF\",\n",
        "                                                    \"fillOpacity\": 0.07,\n",
        "                                                    \"stroke\": \"#669EFF\",\n",
        "                                                    \"strokeOpacity\": 0.4\n",
        "                                                },\n",
        "                                                \"zoom\": false\n",
        "                                            }\n",
        "                                        },\n",
        "                                        {\n",
        "                                            \"name\": \"legend_pointselection_0\",\n",
        "                                            \"select\": {\n",
        "                                                \"type\": \"point\",\n",
        "                                                \"encodings\": [\n",
        "                                                    \"color\"\n",
        "                                                ]\n",
        "                                            },\n",
        "                                            \"bind\": \"legend\"\n",
        "                                        },\n",
        "                                        {\n",
        "                                            \"name\": \"legend_pointhover_0\",\n",
        "                                            \"select\": {\n",
        "                                                \"type\": \"point\",\n",
        "                                                \"encodings\": [\n",
        "                                                    \"color\"\n",
        "                                                ]\n",
        "                                            },\n",
        "                                            \"bind\": \"legend\"\n",
        "                                        }\n",
        "                                    ],\n",
        "                                    \"encoding\": {\n",
        "                                        \"opacity\": {\n",
        "                                            \"field\": \"yhat\",\n",
        "                                            \"type\": \"quantitative\",\n",
        "                                            \"legend\": null\n",
        "                                        },\n",
        "                                        \"tooltip\": [\n",
        "                                            {\n",
        "                                                \"field\": \"ds\",\n",
        "                                                \"type\": \"ordinal\",\n",
        "                                                \"timeUnit\": \"yearmonth\",\n",
        "                                                \"title\": \"Month\"\n",
        "                                            },\n",
        "                                            {\n",
        "                                                \"field\": \"CHART_FOLD_VALUES\",\n",
        "                                                \"type\": \"quantitative\",\n",
        "                                                \"formatType\": \"NUMBER_FORMATTER\",\n",
        "                                                \"format\": {\n",
        "                                                    \"format\": \"FINANCIAL\",\n",
        "                                                    \"currency\": \"GBP\",\n",
        "                                                    \"columnType\": \"NUMBER\",\n",
        "                                                    \"showSeparators\": true,\n",
        "                                                    \"numDecimalDigits\": 0,\n",
        "                                                    \"abbreviateLargeNumbers\": false,\n",
        "                                                    \"nanFormat\": \"\"\n",
        "                                                },\n",
        "                                                \"title\": \"Revenue\"\n",
        "                                            },\n",
        "                                            {\n",
        "                                                \"field\": \"CHART_FOLD_KEYS\",\n",
        "                                                \"type\": \"ordinal\",\n",
        "                                                \"title\": \"Y-Axis Field\"\n",
        "                                            }\n",
        "                                        ],\n",
        "                                        \"color\": {\n",
        "                                            \"field\": \"CHART_FOLD_KEYS\",\n",
        "                                            \"scale\": {\n",
        "                                                \"range\": [\n",
        "                                                    \"#4C78A8\",\n",
        "                                                    \"#F58518\",\n",
        "                                                    \"#E45756\",\n",
        "                                                    \"#72B7B2\",\n",
        "                                                    \"#54A24B\",\n",
        "                                                    \"#EECA3B\",\n",
        "                                                    \"#B279A2\",\n",
        "                                                    \"#FF9DA6\",\n",
        "                                                    \"#9D755D\",\n",
        "                                                    \"#BAB0AC\"\n",
        "                                                ]\n",
        "                                            },\n",
        "                                            \"sort\": {\n",
        "                                                \"field\": \"CHART_FOLD_KEYS\",\n",
        "                                                \"order\": \"ascending\"\n",
        "                                            },\n",
        "                                            \"legend\": {\n",
        "                                                \"symbolOpacity\": 1\n",
        "                                            },\n",
        "                                            \"title\": \"Y-Axis Field\"\n",
        "                                        },\n",
        "                                        \"detail\": [\n",
        "                                            {\n",
        "                                                \"field\": \"CHART_FOLD_KEYS\",\n",
        "                                                \"type\": \"ordinal\",\n",
        "                                                \"title\": \"Y-Axis Field\"\n",
        "                                            }\n",
        "                                        ],\n",
        "                                        \"x\": {\n",
        "                                            \"field\": \"ds\",\n",
        "                                            \"type\": \"ordinal\",\n",
        "                                            \"title\": \"Month\",\n",
        "                                            \"scale\": {},\n",
        "                                            \"axis\": {\n",
        "                                                \"grid\": true,\n",
        "                                                \"gridDash\": [\n",
        "                                                    5,\n",
        "                                                    5\n",
        "                                                ],\n",
        "                                                \"ticks\": true,\n",
        "                                                \"tickCount\": {\n",
        "                                                    \"expr\": \"length(domain('x')) > 0 ? min(ceil(width / 40), ceil((domain('x')[1] - domain('x')[0]) / 2592000000)) : ceil(width / 40)\"\n",
        "                                                },\n",
        "                                                \"labels\": true,\n",
        "                                                \"labelFlush\": false,\n",
        "                                                \"labelOverlap\": \"greedy\"\n",
        "                                            },\n",
        "                                            \"timeUnit\": \"yearmonth\",\n",
        "                                            \"bandPosition\": 0\n",
        "                                        },\n",
        "                                        \"y\": {\n",
        "                                            \"field\": \"CHART_FOLD_VALUES\",\n",
        "                                            \"type\": \"quantitative\",\n",
        "                                            \"title\": \"Revenue\",\n",
        "                                            \"scale\": {},\n",
        "                                            \"axis\": {\n",
        "                                                \"grid\": true,\n",
        "                                                \"ticks\": true,\n",
        "                                                \"labels\": true,\n",
        "                                                \"labelFlush\": false,\n",
        "                                                \"format\": {\n",
        "                                                    \"format\": \"FINANCIAL\",\n",
        "                                                    \"currency\": \"GBP\",\n",
        "                                                    \"columnType\": \"NUMBER\",\n",
        "                                                    \"showSeparators\": true,\n",
        "                                                    \"numDecimalDigits\": 0,\n",
        "                                                    \"abbreviateLargeNumbers\": false,\n",
        "                                                    \"nanFormat\": \"\"\n",
        "                                                },\n",
        "                                                \"formatType\": \"NUMBER_FORMATTER\"\n",
        "                                            },\n",
        "                                            \"stack\": \"zero\"\n",
        "                                        }\n",
        "                                    }\n",
        "                                }\n",
        "                            ],\n",
        "                            \"encoding\": {\n",
        "                                \"x\": {\n",
        "                                    \"field\": \"ds\",\n",
        "                                    \"type\": \"ordinal\",\n",
        "                                    \"title\": \"Month\",\n",
        "                                    \"scale\": {},\n",
        "                                    \"axis\": {\n",
        "                                        \"grid\": true,\n",
        "                                        \"gridDash\": [\n",
        "                                            5,\n",
        "                                            5\n",
        "                                        ],\n",
        "                                        \"ticks\": true,\n",
        "                                        \"tickCount\": {\n",
        "                                            \"expr\": \"length(domain('x')) > 0 ? min(ceil(width / 40), ceil((domain('x')[1] - domain('x')[0]) / 2592000000)) : ceil(width / 40)\"\n",
        "                                        },\n",
        "                                        \"labels\": true,\n",
        "                                        \"labelFlush\": false,\n",
        "                                        \"labelOverlap\": \"greedy\"\n",
        "                                    },\n",
        "                                    \"timeUnit\": \"yearmonth\"\n",
        "                                },\n",
        "                                \"y\": {\n",
        "                                    \"field\": \"CHART_FOLD_VALUES\",\n",
        "                                    \"type\": \"quantitative\",\n",
        "                                    \"title\": \"Revenue\",\n",
        "                                    \"scale\": {},\n",
        "                                    \"axis\": {\n",
        "                                        \"grid\": true,\n",
        "                                        \"ticks\": true,\n",
        "                                        \"labels\": true,\n",
        "                                        \"labelFlush\": false,\n",
        "                                        \"format\": {\n",
        "                                            \"format\": \"FINANCIAL\",\n",
        "                                            \"currency\": \"GBP\",\n",
        "                                            \"columnType\": \"NUMBER\",\n",
        "                                            \"showSeparators\": true,\n",
        "                                            \"numDecimalDigits\": 0,\n",
        "                                            \"abbreviateLargeNumbers\": false,\n",
        "                                            \"nanFormat\": \"\"\n",
        "                                        },\n",
        "                                        \"formatType\": \"NUMBER_FORMATTER\"\n",
        "                                    },\n",
        "                                    \"stack\": \"zero\"\n",
        "                                },\n",
        "                                \"xOffset\": {\n",
        "                                    \"field\": \"CHART_FOLD_KEYS\",\n",
        "                                    \"sort\": {\n",
        "                                        \"field\": \"CHART_FOLD_KEYS\",\n",
        "                                        \"order\": \"ascending\"\n",
        "                                    }\n",
        "                                }\n",
        "                            }\n",
        "                        }\n",
        "                    ]\n",
        "                }\n",
        "            ],\n",
        "            \"transform\": []\n",
        "        }\n",
        "    ],\n",
        "    \"config\": {\n",
        "        \"legend\": {\n",
        "            \"orient\": \"right\"\n",
        "        },\n",
        "        \"font\": \"\\\"IBM Plex Sans\\\", system-ui, -apple-system, BlinkMacSystemFont, sans-serif\",\n",
        "        \"view\": {}\n",
        "    },\n",
        "    \"datasets\": {\n",
        "        \"layer00\": [\n",
        "            {\n",
        "                \"name\": \"dummy\",\n",
        "                \"value\": 0\n",
        "            }\n",
        "        ]\n",
        "    },\n",
        "    \"usermeta\": {\n",
        "        \"selectionConfigs\": {\n",
        "            \"interval_intervalselection_0\": {\n",
        "                \"type\": \"interval\",\n",
        "                \"datetimeFields\": [\n",
        "                    \"yearmonth_ds\"\n",
        "                ],\n",
        "                \"derived\": [\n",
        "                    {\n",
        "                        \"type\": \"timeunit\",\n",
        "                        \"sourceName\": \"ds\",\n",
        "                        \"derivedName\": \"yearmonth_ds\",\n",
        "                        \"timeUnit\": \"yearmonth\"\n",
        "                    }\n",
        "                ]\n",
        "            }\n",
        "        },\n",
        "        \"columnNameMappings\": {\n",
        "            \"CHART_FOLD_KEYS\": \"Y-Axis Field\",\n",
        "            \"CHART_FOLD_VALUES\": \"Values\"\n",
        "        }\n",
        "    }\n",
        "}\n",
        "\"\"\")\n",
        "chart_merged.datasets.layer00 = merged.to_json(orient='records')\n",
        "chart_merged.display(actions=False)"
      ],
      "metadata": {
        "id": "UWxat9BHCL9d"
      },
      "execution_count": null,
      "outputs": []
    },
    {
      "cell_type": "code",
      "source": [
        "import altair\n",
        "chart_forecast_summary = altair.Chart.from_json(r\"\"\"\n",
        "{\n",
        "    \"width\": \"container\",\n",
        "    \"height\": \"container\",\n",
        "    \"$schema\": \"https://vega.github.io/schema/vega-lite/v5.json\",\n",
        "    \"layer\": [],\n",
        "    \"config\": {\n",
        "        \"font\": \"\\\"IBM Plex Sans\\\", system-ui, -apple-system, BlinkMacSystemFont, sans-serif\",\n",
        "        \"view\": {}\n",
        "    },\n",
        "    \"datasets\": {\n",
        "        \"layer00\": [\n",
        "            {\n",
        "                \"name\": \"dummy\",\n",
        "                \"value\": 0\n",
        "            }\n",
        "        ]\n",
        "    }\n",
        "}\n",
        "\"\"\")\n",
        "chart_forecast_summary.datasets.layer00 = forecast_summary.to_json(orient='records')\n",
        "chart_forecast_summary.display(actions=False)"
      ],
      "metadata": {
        "id": "F0YwEWeJCL9e"
      },
      "execution_count": null,
      "outputs": []
    },
    {
      "cell_type": "code",
      "source": [
        "monthly_forecast"
      ],
      "metadata": {
        "id": "Ob65g053CL9e"
      },
      "execution_count": null,
      "outputs": []
    }
  ],
  "metadata": {
    "orig_nbformat": 4,
    "kernelspec": {
      "display_name": "Python 3",
      "language": "python",
      "name": "python3"
    },
    "hex_info": {
      "author": "Alexa Ziegler",
      "project_id": "01977519-2eef-7bb1-b33d-2131813996eb",
      "version": "draft",
      "exported_date": "Tue Jun 17 2025 17:54:41 GMT+0000 (Coordinated Universal Time)"
    },
    "colab": {
      "provenance": [],
      "include_colab_link": true
    }
  },
  "nbformat": 4,
  "nbformat_minor": 0
}
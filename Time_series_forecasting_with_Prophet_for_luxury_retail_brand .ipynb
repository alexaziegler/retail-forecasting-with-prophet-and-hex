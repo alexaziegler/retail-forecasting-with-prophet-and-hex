{
  "cells": [
    {
      "cell_type": "markdown",
      "metadata": {
        "id": "view-in-github",
        "colab_type": "text"
      },
      "source": [
        "<a href=\"https://colab.research.google.com/github/alexaziegler/retail-forecasting-with-prophet-and-hex/blob/main/Time_series_forecasting_with_Prophet_for_luxury_retail_brand%C2%A0.ipynb\" target=\"_parent\"><img src=\"https://colab.research.google.com/assets/colab-badge.svg\" alt=\"Open In Colab\"/></a>"
      ]
    },
    {
      "cell_type": "code",
      "source": [
        "import pandas as _hex_pandas\n",
        "import datetime as _hex_datetime\n",
        "import json as _hex_json"
      ],
      "execution_count": null,
      "metadata": {
        "id": "Jfg5NJf-Xr4F"
      },
      "outputs": []
    },
    {
      "cell_type": "code",
      "source": [
        "hex_scheduled = _hex_json.loads(\"false\")"
      ],
      "outputs": [],
      "execution_count": null,
      "metadata": {
        "id": "mS_MdzbzXr4I"
      }
    },
    {
      "cell_type": "code",
      "source": [
        "hex_user_email = _hex_json.loads(\"\\\"example-user@example.com\\\"\")"
      ],
      "outputs": [],
      "execution_count": null,
      "metadata": {
        "id": "AQwFDsBJXr4J"
      }
    },
    {
      "cell_type": "code",
      "source": [
        "hex_user_attributes = _hex_json.loads(\"{}\")"
      ],
      "outputs": [],
      "execution_count": null,
      "metadata": {
        "id": "WqPi7JZYXr4J"
      }
    },
    {
      "cell_type": "code",
      "source": [
        "hex_run_context = _hex_json.loads(\"\\\"logic\\\"\")"
      ],
      "outputs": [],
      "execution_count": null,
      "metadata": {
        "id": "7L1pkYRZXr4K"
      }
    },
    {
      "cell_type": "code",
      "source": [
        "hex_timezone = _hex_json.loads(\"\\\"UTC\\\"\")"
      ],
      "outputs": [],
      "execution_count": null,
      "metadata": {
        "id": "ON8pnjaMXr4K"
      }
    },
    {
      "cell_type": "code",
      "source": [
        "hex_project_id = _hex_json.loads(\"\\\"01977519-2eef-7bb1-b33d-2131813996eb\\\"\")"
      ],
      "outputs": [],
      "execution_count": null,
      "metadata": {
        "id": "jSynPZVgXr4K"
      }
    },
    {
      "cell_type": "code",
      "source": [
        "hex_project_name = _hex_json.loads(\"\\\"Time series forecasting with Prophet for luxury retail brand \\\"\")"
      ],
      "outputs": [],
      "execution_count": null,
      "metadata": {
        "id": "7In6vOh-Xr4L"
      }
    },
    {
      "cell_type": "code",
      "source": [
        "hex_status = _hex_json.loads(\"\\\"\\\"\")"
      ],
      "outputs": [],
      "execution_count": null,
      "metadata": {
        "id": "TuvjUhd1Xr4L"
      }
    },
    {
      "cell_type": "code",
      "source": [
        "hex_categories = _hex_json.loads(\"[]\")"
      ],
      "outputs": [],
      "execution_count": null,
      "metadata": {
        "id": "5giugQYcXr4L"
      }
    },
    {
      "cell_type": "code",
      "source": [
        "hex_color_palette = _hex_json.loads(\"[\\\"#4C78A8\\\",\\\"#F58518\\\",\\\"#E45756\\\",\\\"#72B7B2\\\",\\\"#54A24B\\\",\\\"#EECA3B\\\",\\\"#B279A2\\\",\\\"#FF9DA6\\\",\\\"#9D755D\\\",\\\"#BAB0AC\\\"]\")"
      ],
      "outputs": [],
      "execution_count": null,
      "metadata": {
        "id": "eFxww4awXr4M"
      }
    },
    {
      "cell_type": "markdown",
      "source": [
        "# Prophet model step by step"
      ],
      "metadata": {
        "id": "6p8LYUR8Xr4M"
      }
    },
    {
      "cell_type": "markdown",
      "source": [
        "### Data processing & Preparation\n",
        "\n"
      ],
      "metadata": {
        "id": "RkD9jz-qXr4N"
      }
    },
    {
      "cell_type": "code",
      "source": [
        "import pandas as pd\n",
        "import numpy as np\n",
        "import seaborn as sns\n",
        "from prophet import Prophet\n",
        "import plotly.express as px\n",
        "import plotly.graph_objects as go\n",
        "\n",
        "code = \"\"\"\n",
        "import pandas as pd\n",
        "import numpy as np\n",
        "import seaborn as sns\n",
        "from prophet import Prophet\n",
        "import plotly.express as px\n",
        "import plotly.graph_objects as go\n",
        "\"\"\"\n",
        "\n",
        "print(code)"
      ],
      "metadata": {
        "id": "ECvzIi9AXr4N",
        "outputId": "1662d437-c83d-43e3-bc22-8487ad5e62d8"
      },
      "execution_count": null,
      "outputs": [
        {
          "data": {
            "text/plain": "\nimport pandas as pd\nimport numpy as np\nimport seaborn as sns\nfrom prophet import Prophet\nimport plotly.express as px\nimport plotly.graph_objects as go\n\n"
          },
          "execution_count": null,
          "metadata": {},
          "output_type": "execute_result"
        }
      ]
    },
    {
      "cell_type": "code",
      "source": [
        "file_path = \"ecommerce_retail_data.csv\"\n",
        "encodings = [\"ISO-8859-1\", \"latin1\"]\n",
        "\n",
        "for enc in encodings:\n",
        "    try:\n",
        "        df = pd.read_csv(file_path, encoding=enc)\n",
        "        print(f\"Loaded data with encoding: {enc}\")\n",
        "        break\n",
        "    except UnicodeDecodeError:\n",
        "        print(f\"Failed with encoding: {enc}\")\n",
        "else:\n",
        "    raise ValueError(\"Unable to read the file with tried encodings.\")"
      ],
      "metadata": {
        "id": "l_4vUDPyXr4O",
        "outputId": "9d864356-eca7-40cc-d757-e3555c42cf93"
      },
      "execution_count": null,
      "outputs": [
        {
          "data": {
            "text/plain": "Loaded data with encoding: ISO-8859-1\n"
          },
          "execution_count": null,
          "metadata": {},
          "output_type": "execute_result"
        }
      ]
    },
    {
      "cell_type": "code",
      "source": [
        "df.shape"
      ],
      "metadata": {
        "id": "wtO8wzMyXr4O",
        "outputId": "7dce7ead-32ff-49ef-c506-df604a821ee2"
      },
      "execution_count": null,
      "outputs": [
        {
          "data": {
            "text/plain": "(541909, 8)"
          },
          "execution_count": null,
          "metadata": {},
          "output_type": "execute_result"
        }
      ]
    },
    {
      "cell_type": "code",
      "source": [
        "df.head(10)"
      ],
      "metadata": {
        "id": "SPa_GnetXr4O",
        "outputId": "57508746-9ea4-465f-ad69-dfba3668f806"
      },
      "execution_count": null,
      "outputs": [
        {
          "data": {
            "application/vnd.hex.export+parquet": {
              "success": true,
              "exportKey": "01976f3b-ba21-700b-b4ed-3dd2d1a389cb/01977519-2eef-7bb1-b33d-2131813996eb/exports/01979847-497d-7660-add8-8ef05a32e86b"
            },
            "text/html": "<div>\n<style scoped>\n    .dataframe tbody tr th:only-of-type {\n        vertical-align: middle;\n    }\n\n    .dataframe tbody tr th {\n        vertical-align: top;\n    }\n\n    .dataframe thead th {\n        text-align: right;\n    }\n</style>\n<table border=\"1\" class=\"dataframe\">\n  <thead>\n    <tr style=\"text-align: right;\">\n      <th></th>\n      <th>InvoiceNo</th>\n      <th>StockCode</th>\n      <th>Description</th>\n      <th>Quantity</th>\n      <th>InvoiceDate</th>\n      <th>UnitPrice</th>\n      <th>CustomerID</th>\n      <th>Country</th>\n    </tr>\n  </thead>\n  <tbody>\n    <tr>\n      <th>0</th>\n      <td>536365</td>\n      <td>85123A</td>\n      <td>WHITE HANGING HEART T-LIGHT HOLDER</td>\n      <td>6</td>\n      <td>12/1/2010 8:26</td>\n      <td>2.55</td>\n      <td>17850.0</td>\n      <td>United Kingdom</td>\n    </tr>\n    <tr>\n      <th>1</th>\n      <td>536365</td>\n      <td>71053</td>\n      <td>WHITE METAL LANTERN</td>\n      <td>6</td>\n      <td>12/1/2010 8:26</td>\n      <td>3.39</td>\n      <td>17850.0</td>\n      <td>United Kingdom</td>\n    </tr>\n    <tr>\n      <th>2</th>\n      <td>536365</td>\n      <td>84406B</td>\n      <td>CREAM CUPID HEARTS COAT HANGER</td>\n      <td>8</td>\n      <td>12/1/2010 8:26</td>\n      <td>2.75</td>\n      <td>17850.0</td>\n      <td>United Kingdom</td>\n    </tr>\n    <tr>\n      <th>3</th>\n      <td>536365</td>\n      <td>84029G</td>\n      <td>KNITTED UNION FLAG HOT WATER BOTTLE</td>\n      <td>6</td>\n      <td>12/1/2010 8:26</td>\n      <td>3.39</td>\n      <td>17850.0</td>\n      <td>United Kingdom</td>\n    </tr>\n    <tr>\n      <th>4</th>\n      <td>536365</td>\n      <td>84029E</td>\n      <td>RED WOOLLY HOTTIE WHITE HEART.</td>\n      <td>6</td>\n      <td>12/1/2010 8:26</td>\n      <td>3.39</td>\n      <td>17850.0</td>\n      <td>United Kingdom</td>\n    </tr>\n    <tr>\n      <th>5</th>\n      <td>536365</td>\n      <td>22752</td>\n      <td>SET 7 BABUSHKA NESTING BOXES</td>\n      <td>2</td>\n      <td>12/1/2010 8:26</td>\n      <td>7.65</td>\n      <td>17850.0</td>\n      <td>United Kingdom</td>\n    </tr>\n    <tr>\n      <th>6</th>\n      <td>536365</td>\n      <td>21730</td>\n      <td>GLASS STAR FROSTED T-LIGHT HOLDER</td>\n      <td>6</td>\n      <td>12/1/2010 8:26</td>\n      <td>4.25</td>\n      <td>17850.0</td>\n      <td>United Kingdom</td>\n    </tr>\n    <tr>\n      <th>7</th>\n      <td>536366</td>\n      <td>22633</td>\n      <td>HAND WARMER UNION JACK</td>\n      <td>6</td>\n      <td>12/1/2010 8:28</td>\n      <td>1.85</td>\n      <td>17850.0</td>\n      <td>United Kingdom</td>\n    </tr>\n    <tr>\n      <th>8</th>\n      <td>536366</td>\n      <td>22632</td>\n      <td>HAND WARMER RED POLKA DOT</td>\n      <td>6</td>\n      <td>12/1/2010 8:28</td>\n      <td>1.85</td>\n      <td>17850.0</td>\n      <td>United Kingdom</td>\n    </tr>\n    <tr>\n      <th>9</th>\n      <td>536367</td>\n      <td>84879</td>\n      <td>ASSORTED COLOUR BIRD ORNAMENT</td>\n      <td>32</td>\n      <td>12/1/2010 8:34</td>\n      <td>1.69</td>\n      <td>13047.0</td>\n      <td>United Kingdom</td>\n    </tr>\n  </tbody>\n</table>\n</div>"
          },
          "execution_count": null,
          "metadata": {},
          "output_type": "execute_result"
        }
      ]
    },
    {
      "cell_type": "code",
      "source": [
        "df.columns = df.columns.str.lower()"
      ],
      "metadata": {
        "id": "BuGhWbY4Xr4O"
      },
      "execution_count": null,
      "outputs": []
    },
    {
      "cell_type": "code",
      "source": [
        "df = df.dropna(subset=['customerid'])  # Remove rows without customer ID\n",
        "df = df[df['quantity'] > 0]  # Remove returns/cancellations\n",
        "df = df[df['unitprice'] > 0]  # Remove free items\n",
        "\n",
        "code2 = \"\"\"\n",
        "df = df.dropna(subset=['customerid'])  # Remove rows without customer ID\n",
        "df = df[df['quantity'] > 0]  # Remove returns/cancellations\n",
        "df = df[df['unitprice'] > 0]  # Remove free items\n",
        "\"\"\"\n",
        "\n",
        "print(code2)"
      ],
      "metadata": {
        "id": "Fkx8AUGtXr4O",
        "outputId": "626e2989-1d16-4db7-bee0-1b6ec450bfac"
      },
      "execution_count": null,
      "outputs": [
        {
          "data": {
            "text/plain": "\ndf = df.dropna(subset=['customerid'])  # Remove rows without customer ID\ndf = df[df['quantity'] > 0]  # Remove returns/cancellations\ndf = df[df['unitprice'] > 0]  # Remove free items\n\n"
          },
          "execution_count": null,
          "metadata": {},
          "output_type": "execute_result"
        }
      ]
    },
    {
      "cell_type": "markdown",
      "source": [
        "**Why:  **I'm removing rows without customer ID in case there are any incomplete or system generated records, removing rows where quantity is less than 0 which typically is a return or anywhere the unit price is 0, which can just be dirty data or even free items. Removing these values ensures that data is clean and relevant for prophet model forecast.\n",
        "\n"
      ],
      "metadata": {
        "id": "dzy-XtdbXr4P"
      }
    },
    {
      "cell_type": "code",
      "source": [
        "# Calculate total revenue per transaction\n",
        "df['revenue'] = df['quantity'] * df['unitprice']\n",
        "\n",
        "# Parse and clean dates\n",
        "df['invoicedate'] = pd.to_datetime(df['invoicedate'])\n",
        "df = df.sort_values('invoicedate')\n",
        "\n",
        "# Filter to reasonable date range (remove outliers)\n",
        "df = df[(df['invoicedate'] >= '2010-12-01') & (df['invoicedate'] <= '2011-12-09')]\n",
        "\n",
        "code3 = \"\"\"\n",
        "# Calculate total revenue per transaction\n",
        "df['revenue'] = df['quantity'] * df['unitprice']\n",
        "\n",
        "# Parse and clean dates\n",
        "df['invoicedate'] = pd.to_datetime(df['invoicedate'])\n",
        "df = df.sort_values('invoicedate')\n",
        "\n",
        "# Filter to reasonable date range (remove outliers)\n",
        "df = df[(df['invoicedate'] >= '2010-12-01') & (df['invoicedate'] <= '2011-12-09')]\n",
        "\"\"\"\n",
        "\n",
        "print(code3)\n"
      ],
      "metadata": {
        "id": "lWfWnFESXr4P",
        "outputId": "d36bd973-80c0-4c4b-fa7e-a57fb06fcf9c"
      },
      "execution_count": null,
      "outputs": [
        {
          "data": {
            "text/plain": "\n# Calculate total revenue per transaction\ndf['revenue'] = df['quantity'] * df['unitprice']\n\n# Parse and clean dates\ndf['invoicedate'] = pd.to_datetime(df['invoicedate'])\ndf = df.sort_values('invoicedate')\n\n# Filter to reasonable date range (remove outliers)\ndf = df[(df['invoicedate'] >= '2010-12-01') & (df['invoicedate'] <= '2011-12-09')]\n\n"
          },
          "execution_count": null,
          "metadata": {},
          "output_type": "execute_result"
        }
      ]
    },
    {
      "cell_type": "markdown",
      "source": [
        "**Why**: Creating a target variable for revenue is a crucial part of the forecasting model. That's why we are here! For this exercise quantity x unit price works as the basis for the new target variable 'revenue'. 🤑\n",
        "\n",
        "I'm also converting the invoice date column to date time format and sorting chronologically. This step is crucial for prophet to detect patterns in the time series.\n",
        "\n",
        "Finally, filtering the data (which has over 500k rows) to a targeted timeframe will help with forecast reliability. Even though the new df still has over 300k rows\n",
        "\n"
      ],
      "metadata": {
        "id": "a5JFbALTXr4P"
      }
    },
    {
      "cell_type": "markdown",
      "source": [
        "### Time Series Aggregation\n",
        "\n"
      ],
      "metadata": {
        "id": "xL3MjbGeXr4P"
      }
    },
    {
      "cell_type": "code",
      "source": [
        "# Aggregate to daily sales\n",
        "daily_sales = df.groupby(df['invoicedate'].dt.date).agg({\n",
        "    'revenue': 'sum',\n",
        "    'quantity': 'sum',\n",
        "    'invoiceno': 'nunique',  # Number of unique transactions\n",
        "    'customerid': 'nunique'   # Number of unique custmers\n",
        "}).reset_index()\n",
        "\n",
        "# Rename for prophet format\n",
        "daily_sales = daily_sales.rename(columns={\n",
        "    'invoicedate': 'ds',\n",
        "    'revenue': 'y'\n",
        "})\n",
        "\n",
        "# Ensure daily frequency (aka fill missing dates)\n",
        "daily_sales['ds'] = pd.to_datetime(daily_sales['ds'])\n",
        "daily_sales = daily_sales.set_index('ds').resample('D').sum().fillna(0).reset_index()\n",
        "\n",
        "code4 = \"\"\"\n",
        "# Aggregate to daily sales\n",
        "daily_sales = df.groupby(df['invoicedate'].dt.date).agg({\n",
        "    'revenue': 'sum',\n",
        "    'quantity': 'sum',\n",
        "    'invoiceno': 'nunique',  # Number of unique transactions\n",
        "    'customerid': 'nunique'   # Number of unique custmers\n",
        "}).reset_index()\n",
        "\n",
        "# Rename for prophet format\n",
        "daily_sales = daily_sales.rename(columns={\n",
        "    'invoicedate': 'ds',\n",
        "    'revenue': 'y'\n",
        "})\n",
        "\n",
        "# Ensure daily frequency (aka fill missing dates)\n",
        "daily_sales['ds'] = pd.to_datetime(daily_sales['ds'])\n",
        "daily_sales = daily_sales.set_index('ds').resample('D').sum().fillna(0).reset_index()\n",
        "\"\"\"\n",
        "\n",
        "print(code4)"
      ],
      "metadata": {
        "id": "5JgKKGN0Xr4P",
        "outputId": "69d233db-c126-4f74-afa6-7471ba82b5d6"
      },
      "execution_count": null,
      "outputs": [
        {
          "data": {
            "text/plain": "\n# Aggregate to daily sales\ndaily_sales = df.groupby(df['invoicedate'].dt.date).agg({\n    'revenue': 'sum',\n    'quantity': 'sum',\n    'invoiceno': 'nunique',  # Number of unique transactions\n    'customerid': 'nunique'   # Number of unique custmers\n}).reset_index()\n\n# Rename for prophet format\ndaily_sales = daily_sales.rename(columns={\n    'invoicedate': 'ds',\n    'revenue': 'y'\n})\n\n# Ensure daily frequency (aka fill missing dates)\ndaily_sales['ds'] = pd.to_datetime(daily_sales['ds'])\ndaily_sales = daily_sales.set_index('ds').resample('D').sum().fillna(0).reset_index()\n\n"
          },
          "execution_count": null,
          "metadata": {},
          "output_type": "execute_result"
        }
      ]
    },
    {
      "cell_type": "markdown",
      "source": [
        "**Why**: The data was in a extremely granular level of detail format and needs to be structured so that each row represents a single day with each measure (revenue, qty, etc) aggregated per day. This is a crucial step for prophet to detect seasonality.\n",
        "\n",
        "Also, prophet requires that the date column is 'ds' and target variable is 'y'. prophet won't be able to recognize the correct columns otherwise. Another tweak is making sure that any missing dates are filled in with resampling beause prophet requires that there is no break in the time series data.\n",
        "\n"
      ],
      "metadata": {
        "id": "0RKmwQ7hXr4Q"
      }
    },
    {
      "cell_type": "markdown",
      "source": [
        "### Prophet model configuration\n",
        "\n"
      ],
      "metadata": {
        "id": "ufph7sAWXr4Q"
      }
    },
    {
      "cell_type": "code",
      "source": [
        "# Initialize Prophet with retail settings\n",
        "model = Prophet(\n",
        "    yearly_seasonality=True,      # Capture seasonal patterns\n",
        "    weekly_seasonality=True,      # Weekly shopping patterns\n",
        "    daily_seasonality=False,      # Not meaningful for aggregated daily data\n",
        "    seasonality_mode='multiplicative',  # Revenue grows with base level\n",
        "    changepoint_prior_scale=0.05,      # Moderate trend flexibility\n",
        "    interval_width=0.8           # 80% confidence intervals\n",
        ")\n",
        "\n",
        "# Add UK holidays (this is UK retail data)\n",
        "from prophet.utilities import regressor_coefficients\n",
        "model.add_country_holidays(country_name='UK')\n",
        "\n",
        "code_seasonality = \"\"\"\n",
        "# Initialize Prophet with retail-specific settings\n",
        "model = Prophet(\n",
        "    yearly_seasonality=True,      # Capture seasonal patterns\n",
        "    weekly_seasonality=True,      # Weekly shopping patterns\n",
        "    daily_seasonality=False,      # Not meaningful for aggregated daily data\n",
        "    seasonality_mode='multiplicative',  # Revenue grows with base level\n",
        "    changepoint_prior_scale=0.05,      # Moderate trend flexibility\n",
        "    interval_width=0.8           # 80% confidence intervals\n",
        ")\n",
        "\n",
        "# Add UK holidays (this is UK retail data)\n",
        "from prophet.utilities import regressor_coefficients\n",
        "model.add_country_holidays(country_name='UK')\n",
        "\"\"\"\n",
        "\n",
        "print(code_seasonality)"
      ],
      "metadata": {
        "id": "SzR3qVkPXr4Q",
        "outputId": "23f2eefc-3862-4fcb-ad9c-3e440ce4ffd6"
      },
      "execution_count": null,
      "outputs": [
        {
          "data": {
            "text/plain": "\n# Initialize Prophet with retail-specific settings\nmodel = Prophet(\n    yearly_seasonality=True,      # Capture seasonal patterns\n    weekly_seasonality=True,      # Weekly shopping patterns\n    daily_seasonality=False,      # Not meaningful for aggregated daily data\n    seasonality_mode='multiplicative',  # Revenue grows with base level\n    changepoint_prior_scale=0.05,      # Moderate trend flexibility\n    interval_width=0.8           # 80% confidence intervals\n)\n\n# Add UK holidays (this is UK retail data)\nfrom prophet.utilities import regressor_coefficients\nmodel.add_country_holidays(country_name='UK')\n\n"
          },
          "execution_count": null,
          "metadata": {},
          "output_type": "execute_result"
        }
      ]
    },
    {
      "cell_type": "markdown",
      "source": [
        "**Why**: Since this analysis is for a luxury retail brand, I wanted to incorporate some retail specific prophet settings. Based on my research, for retail industry,  multiplicative seasonality is important because increase/decreases are relative to the baseline rather than an additive increase in dollars or units. For example, in december sales will spike but the total revenue is dependent on baseline sales volume.\n",
        "\n",
        "For changepoint_prior_scale, this determines how sensitive the prophet model will be to detected trends. For the retail industry, moderate flexibility is good because a one day sharp change (for example, a one day big sales or heavy discount) will not completely change the trend.\n",
        "\n",
        "Third, interval width or 80% confidence interval is also more realistic for retail. Basically it's saying that there's an 80% probability that the true value will fall between the upper and lower predicted bands. Again, this is based on industry standards for retail.\n",
        "\n",
        "Finally, I think it's super neat to be able to add in holiday data in this model! Since this is a UK dataset, adding in UK holidays. Retail is an industry very much affected by holidays so this is another valuable step.\n",
        "\n"
      ],
      "metadata": {
        "id": "ASgvoM8VXr4Q"
      }
    },
    {
      "cell_type": "code",
      "source": [
        "# Add day of week as regressor\n",
        "daily_sales['day_of_week'] = daily_sales['ds'].dt.dayofweek\n",
        "daily_sales['is_weekend'] = (daily_sales['day_of_week'] >= 5).astype(int)\n",
        "\n",
        "# Add month-end effects (common in retail)\n",
        "daily_sales['is_month_end'] = (daily_sales['ds'].dt.day >= 28).astype(int)\n",
        "\n",
        "# Add regressors to model\n",
        "model.add_regressor('is_weekend')\n",
        "model.add_regressor('is_month_end')\n",
        "\n",
        "code_regressors = \"\"\"\n",
        "# Add day of week as regressor\n",
        "daily_sales['day_of_week'] = daily_sales['ds'].dt.dayofweek\n",
        "daily_sales['is_weekend'] = (daily_sales['day_of_week'] >= 5).astype(int)\n",
        "\n",
        "# Add month-end effects (common in retail)\n",
        "daily_sales['is_month_end'] = (daily_sales['ds'].dt.day >= 28).astype(int)\n",
        "\n",
        "# Add regressors to model\n",
        "model.add_regressor('is_weekend')\n",
        "model.add_regressor('is_month_end')\n",
        "\"\"\"\n",
        "\n",
        "print(code_regressors)"
      ],
      "metadata": {
        "id": "hwHgjzplXr4Q",
        "outputId": "f43a7b5e-4e07-4244-a813-d9f8003b0276"
      },
      "execution_count": null,
      "outputs": [
        {
          "data": {
            "text/plain": "\n# Add day of week as regressor\ndaily_sales['day_of_week'] = daily_sales['ds'].dt.dayofweek\ndaily_sales['is_weekend'] = (daily_sales['day_of_week'] >= 5).astype(int)\n\n# Add month-end effects (common in retail)\ndaily_sales['is_month_end'] = (daily_sales['ds'].dt.day >= 28).astype(int)\n\n# Add regressors to model\nmodel.add_regressor('is_weekend')\nmodel.add_regressor('is_month_end')\n\n"
          },
          "execution_count": null,
          "metadata": {},
          "output_type": "execute_result"
        }
      ]
    },
    {
      "cell_type": "markdown",
      "source": [
        "**Why**:  Prophet has additional features called regressors that can help capture patterns beyond standard seasonality. For the retail industry there is usually a pattern during end of the month and weekends. So using regressors to tell prophet to add this as additional predictors. I need to explore regressors further because so many more features can be added like promotions, weather...or maybe tariffs?!? 😬\n",
        "\n"
      ],
      "metadata": {
        "id": "bJGKPU8nXr4R"
      }
    },
    {
      "cell_type": "markdown",
      "source": [
        "### Model Training & Forecasting\n",
        "\n"
      ],
      "metadata": {
        "id": "yAJ6q6qrXr4R"
      }
    },
    {
      "cell_type": "code",
      "source": [
        "# Fit the model\n",
        "model.fit(daily_sales[['ds', 'y', 'is_weekend', 'is_month_end']])\n",
        "\n",
        "# Create future dataframe\n",
        "future = model.make_future_dataframe(periods=30)  # 30-day forecast\n",
        "\n",
        "# Add regressor values for future dates\n",
        "future['day_of_week'] = future['ds'].dt.dayofweek\n",
        "future['is_weekend'] = (future['day_of_week'] >= 5).astype(int)\n",
        "future['is_month_end'] = (future['ds'].dt.day >= 28).astype(int)\n",
        "\n",
        "# generate forecast (it's happening!)\n",
        "forecast = model.predict(future)\n",
        "\n",
        "code5 = \"\"\"\n",
        "# Fit the model\n",
        "model.fit(daily_sales[['ds', 'y', 'is_weekend', 'is_month_end']])\n",
        "\n",
        "# Create future dataframe\n",
        "future = model.make_future_dataframe(periods=30)  # 30-day forecast\n",
        "\n",
        "# Add regressor values for future dates\n",
        "future['day_of_week'] = future['ds'].dt.dayofweek\n",
        "future['is_weekend'] = (future['day_of_week'] >= 5).astype(int)\n",
        "future['is_month_end'] = (future['ds'].dt.day >= 28).astype(int)\n",
        "\n",
        "# generate forecast (it's happening!)\n",
        "forecast = model.predict(future)\n",
        "\"\"\"\n",
        "\n",
        "print(code5)"
      ],
      "metadata": {
        "id": "VlZVf-hTXr4R",
        "outputId": "ec400218-401b-439a-d72f-aa3f847a2efc"
      },
      "execution_count": null,
      "outputs": [
        {
          "data": {
            "text/plain": "15:34:59 - cmdstanpy - INFO - Chain [1] start processing\n15:34:59 - cmdstanpy - INFO - Chain [1] done processing\n\n# Fit the model\nmodel.fit(daily_sales[['ds', 'y', 'is_weekend', 'is_month_end']])\n\n# Create future dataframe\nfuture = model.make_future_dataframe(periods=30)  # 30-day forecast\n\n# Add regressor values for future dates\nfuture['day_of_week'] = future['ds'].dt.dayofweek\nfuture['is_weekend'] = (future['day_of_week'] >= 5).astype(int)\nfuture['is_month_end'] = (future['ds'].dt.day >= 28).astype(int)\n\n# generate forecast (it's happening!)\nforecast = model.predict(future)\n\n"
          },
          "execution_count": null,
          "metadata": {},
          "output_type": "execute_result"
        }
      ]
    },
    {
      "cell_type": "markdown",
      "source": [
        "**Why**: I'm training the model with daily sales 'y', day 'ds', and the regressors I just described. The next part is to create a dataframe for the future 🔮 This dataframe is looking at 30 days into the future. For retail, 30 days is the ideal forecasting period. The other part is calculating regressors for the future period.\n",
        "\n",
        "For this exercise I'm keeping the forecast at 30 days but I'm really curious about seeing how far into the future I can push the forecast before it starts breaking down.\n",
        "\n",
        "The final step is generating the forecast.\n",
        "\n"
      ],
      "metadata": {
        "id": "Fey17_s0Xr4R"
      }
    },
    {
      "cell_type": "markdown",
      "source": [
        "### Model evaluation"
      ],
      "metadata": {
        "id": "BM2pmyW6Xr4R"
      }
    },
    {
      "cell_type": "code",
      "source": [
        "# Cross-validation\n",
        "from prophet.diagnostics import cross_validation, performance_metrics\n",
        "\n",
        "# Use last 30 days for validation\n",
        "cutoff_date = daily_sales['ds'].max() - pd.Timedelta(days=30)\n",
        "train_data = daily_sales[daily_sales['ds'] <= cutoff_date]\n",
        "test_data = daily_sales[daily_sales['ds'] > cutoff_date]\n",
        "\n",
        "# Retrain on training data\n",
        "model_cv = Prophet(\n",
        "    yearly_seasonality=True,\n",
        "    weekly_seasonality=True,\n",
        "    seasonality_mode='multiplicative',\n",
        "    changepoint_prior_scale=0.05\n",
        ")\n",
        "model_cv.add_country_holidays(country_name='UK')\n",
        "model_cv.add_regressor('is_weekend')\n",
        "model_cv.add_regressor('is_month_end')\n",
        "model_cv.fit(train_data[['ds', 'y', 'is_weekend', 'is_month_end']])\n",
        "\n",
        "# Predict on test period\n",
        "future_cv = test_data[['ds', 'is_weekend', 'is_month_end']].copy()\n",
        "forecast_cv = model_cv.predict(future_cv)\n",
        "\n",
        "# Calculate metrics\n",
        "from sklearn.metrics import mean_absolute_error, mean_absolute_percentage_error\n",
        "mae = mean_absolute_error(test_data['y'], forecast_cv['yhat'])\n",
        "mape = mean_absolute_percentage_error(test_data['y'], forecast_cv['yhat'])\n",
        "\n",
        "print(f\"MAE: £{mae:.2f}\")\n",
        "print(f\"MAPE: {mape:.2%}\")\n"
      ],
      "metadata": {
        "id": "ELGq180jXr4S",
        "outputId": "888bf587-833c-4b70-cf24-bfb63bffc800"
      },
      "execution_count": null,
      "outputs": [
        {
          "data": {
            "text/plain": "15:34:59 - cmdstanpy - INFO - Chain [1] start processing\n15:34:59 - cmdstanpy - INFO - Chain [1] done processing\nMAE: £30729.04\nMAPE: 2167804439936847577088.00%\n"
          },
          "execution_count": null,
          "metadata": {},
          "output_type": "execute_result"
        }
      ]
    },
    {
      "cell_type": "markdown",
      "source": [
        "**Why: **Now it's time to evaluate the model and see how it performs on new, unseen data. This process is called cross validation.\n",
        "\n",
        "First part is splitting the data into train and test. Then model is retrained on the training data for this process. Then the model will predict the next 30 days and compared to the last 30 days which were set aside as the test data. MAE and MAPE are measures of how close the predicted value was to the forecasted value.\n",
        "\n",
        "**Results**:\n",
        "\n",
        "The resulting MAE or mean absolutel error was £30729.04, so my predictions are off by ~30k a day. This is not good considering average daily sales is 23k in this dataset.\n",
        "\n",
        "The resulting MAPE or mean absolute percentage error was 2167804439936847577088.00%. Crying, this is basically worthless. But it should be something like \"prediction is off by 10%\". I did read that MAPE for retail and ecomm data is hard to come by since there are typically actual values that are close to zero...\n",
        "\n"
      ],
      "metadata": {
        "id": "_UB0SZ7_Xr4S"
      }
    },
    {
      "cell_type": "code",
      "source": [
        "from sklearn.metrics import median_absolute_error, mean_squared_error\n",
        "import numpy as np\n",
        "\n",
        "# Cross-validation setup\n",
        "cutoff_date = daily_sales['ds'].max() - pd.Timedelta(days=30)\n",
        "train_data = daily_sales[daily_sales['ds'] <= cutoff_date]\n",
        "test_data = daily_sales[daily_sales['ds'] > cutoff_date]\n",
        "\n",
        "# Retrain on training data\n",
        "model_cv = Prophet(\n",
        "    yearly_seasonality=True,\n",
        "    weekly_seasonality=True,\n",
        "    seasonality_mode='multiplicative',\n",
        "    changepoint_prior_scale=0.05\n",
        ")\n",
        "model_cv.add_country_holidays(country_name='UK')\n",
        "model_cv.add_regressor('is_weekend')\n",
        "model_cv.add_regressor('is_month_end')\n",
        "model_cv.fit(train_data[['ds', 'y', 'is_weekend', 'is_month_end']])\n",
        "\n",
        "# Predict on test period\n",
        "future_cv = test_data[['ds', 'is_weekend', 'is_month_end']].copy()\n",
        "forecast_cv = model_cv.predict(future_cv)\n",
        "\n",
        "# Calculate MedAE and RMSE\n",
        "medae = median_absolute_error(test_data['y'], forecast_cv['yhat'])\n",
        "rmse = np.sqrt(mean_squared_error(test_data['y'], forecast_cv['yhat']))\n",
        "\n",
        "print(f\"Median Absolute Error (MedAE): £{medae:.2f}\")\n",
        "print(f\"Root Mean Squared Error (RMSE): £{rmse:.2f}\")\n"
      ],
      "metadata": {
        "id": "T4RYfBb2Xr4S",
        "outputId": "a69a98e1-2557-43de-a4d8-762fc7f2c974"
      },
      "execution_count": null,
      "outputs": [
        {
          "data": {
            "text/plain": "15:37:27 - cmdstanpy - INFO - Chain [1] start processing\n15:37:27 - cmdstanpy - INFO - Chain [1] done processing\nMedian Absolute Error (MedAE): £28911.13\nRoot Mean Squared Error (RMSE): £35606.00\n"
          },
          "execution_count": null,
          "metadata": {},
          "output_type": "execute_result"
        }
      ]
    },
    {
      "cell_type": "code",
      "source": [
        "forecast.head(5)"
      ],
      "metadata": {
        "id": "C5oCY6X-Xr4S",
        "outputId": "056c9654-9983-4e85-aa04-b2590ee1d1de"
      },
      "execution_count": null,
      "outputs": [
        {
          "data": {
            "application/vnd.hex.export+parquet": {
              "success": true,
              "exportKey": "01976f3b-ba21-700b-b4ed-3dd2d1a389cb/01977519-2eef-7bb1-b33d-2131813996eb/exports/01979847-53de-700c-891a-684e79bf50ce"
            },
            "text/html": "<div>\n<style scoped>\n    .dataframe tbody tr th:only-of-type {\n        vertical-align: middle;\n    }\n\n    .dataframe tbody tr th {\n        vertical-align: top;\n    }\n\n    .dataframe thead th {\n        text-align: right;\n    }\n</style>\n<table border=\"1\" class=\"dataframe\">\n  <thead>\n    <tr style=\"text-align: right;\">\n      <th></th>\n      <th>ds</th>\n      <th>trend</th>\n      <th>yhat_lower</th>\n      <th>yhat_upper</th>\n      <th>trend_lower</th>\n      <th>trend_upper</th>\n      <th>Boxing Day</th>\n      <th>Boxing Day_lower</th>\n      <th>Boxing Day_upper</th>\n      <th>Boxing Day (observed)</th>\n      <th>...</th>\n      <th>weekly</th>\n      <th>weekly_lower</th>\n      <th>weekly_upper</th>\n      <th>yearly</th>\n      <th>yearly_lower</th>\n      <th>yearly_upper</th>\n      <th>additive_terms</th>\n      <th>additive_terms_lower</th>\n      <th>additive_terms_upper</th>\n      <th>yhat</th>\n    </tr>\n  </thead>\n  <tbody>\n    <tr>\n      <th>0</th>\n      <td>2010-12-01</td>\n      <td>22591.622134</td>\n      <td>22966.833299</td>\n      <td>47301.474572</td>\n      <td>22591.622134</td>\n      <td>22591.622134</td>\n      <td>0.0</td>\n      <td>0.0</td>\n      <td>0.0</td>\n      <td>0.0</td>\n      <td>...</td>\n      <td>0.145125</td>\n      <td>0.145125</td>\n      <td>0.145125</td>\n      <td>0.426286</td>\n      <td>0.426286</td>\n      <td>0.426286</td>\n      <td>0.0</td>\n      <td>0.0</td>\n      <td>0.0</td>\n      <td>35500.726891</td>\n    </tr>\n    <tr>\n      <th>1</th>\n      <td>2010-12-02</td>\n      <td>22589.924580</td>\n      <td>28204.727614</td>\n      <td>53992.483991</td>\n      <td>22589.924580</td>\n      <td>22589.924580</td>\n      <td>0.0</td>\n      <td>0.0</td>\n      <td>0.0</td>\n      <td>0.0</td>\n      <td>...</td>\n      <td>0.421758</td>\n      <td>0.421758</td>\n      <td>0.421758</td>\n      <td>0.430730</td>\n      <td>0.430730</td>\n      <td>0.430730</td>\n      <td>0.0</td>\n      <td>0.0</td>\n      <td>0.0</td>\n      <td>41847.574882</td>\n    </tr>\n    <tr>\n      <th>2</th>\n      <td>2010-12-03</td>\n      <td>22588.227026</td>\n      <td>19414.042542</td>\n      <td>44748.340034</td>\n      <td>22588.227026</td>\n      <td>22588.227026</td>\n      <td>0.0</td>\n      <td>0.0</td>\n      <td>0.0</td>\n      <td>0.0</td>\n      <td>...</td>\n      <td>-0.024029</td>\n      <td>-0.024029</td>\n      <td>-0.024029</td>\n      <td>0.430444</td>\n      <td>0.430444</td>\n      <td>0.430444</td>\n      <td>0.0</td>\n      <td>0.0</td>\n      <td>0.0</td>\n      <td>31768.426386</td>\n    </tr>\n    <tr>\n      <th>3</th>\n      <td>2010-12-04</td>\n      <td>22586.529472</td>\n      <td>-5089.164608</td>\n      <td>20855.972832</td>\n      <td>22586.529472</td>\n      <td>22586.529472</td>\n      <td>0.0</td>\n      <td>0.0</td>\n      <td>0.0</td>\n      <td>0.0</td>\n      <td>...</td>\n      <td>-0.726477</td>\n      <td>-0.726477</td>\n      <td>-0.726477</td>\n      <td>0.424825</td>\n      <td>0.424825</td>\n      <td>0.424825</td>\n      <td>0.0</td>\n      <td>0.0</td>\n      <td>0.0</td>\n      <td>8568.924186</td>\n    </tr>\n    <tr>\n      <th>4</th>\n      <td>2010-12-05</td>\n      <td>22584.831918</td>\n      <td>9769.325583</td>\n      <td>35078.954520</td>\n      <td>22584.831918</td>\n      <td>22584.831918</td>\n      <td>0.0</td>\n      <td>0.0</td>\n      <td>0.0</td>\n      <td>0.0</td>\n      <td>...</td>\n      <td>-0.109186</td>\n      <td>-0.109186</td>\n      <td>-0.109186</td>\n      <td>0.413376</td>\n      <td>0.413376</td>\n      <td>0.413376</td>\n      <td>0.0</td>\n      <td>0.0</td>\n      <td>0.0</td>\n      <td>22251.124197</td>\n    </tr>\n  </tbody>\n</table>\n<p>5 rows × 61 columns</p>\n</div>"
          },
          "execution_count": null,
          "metadata": {},
          "output_type": "execute_result"
        }
      ]
    },
    {
      "cell_type": "code",
      "source": [
        "merged = pd.merge(forecast, daily_sales[['ds', 'y']], on='ds', how='left')\n",
        "\n",
        "code5 = \"\"\"\n",
        "merged = pd.merge(forecast, daily_sales[['ds', 'y']], on='ds', how='left')\n",
        "\"\"\"\n",
        "\n",
        "print(code5)"
      ],
      "metadata": {
        "id": "Ss6pzKiCXr4S",
        "outputId": "f33160d7-b925-401b-b2b3-b526f4e3c708"
      },
      "execution_count": null,
      "outputs": [
        {
          "data": {
            "text/plain": "\nmerged = pd.merge(forecast, daily_sales[['ds', 'y']], on='ds', how='left')\n\n"
          },
          "execution_count": null,
          "metadata": {},
          "output_type": "execute_result"
        }
      ]
    },
    {
      "cell_type": "code",
      "source": [
        "merged.head(5)"
      ],
      "metadata": {
        "id": "Q843dzobXr4X",
        "outputId": "bb3f462f-341c-478a-9492-684acb23997a"
      },
      "execution_count": null,
      "outputs": [
        {
          "data": {
            "application/vnd.hex.export+parquet": {
              "success": true,
              "exportKey": "01976f3b-ba21-700b-b4ed-3dd2d1a389cb/01977519-2eef-7bb1-b33d-2131813996eb/exports/01979847-5608-7006-8145-0f0cf2ccb478"
            },
            "text/html": "<div>\n<style scoped>\n    .dataframe tbody tr th:only-of-type {\n        vertical-align: middle;\n    }\n\n    .dataframe tbody tr th {\n        vertical-align: top;\n    }\n\n    .dataframe thead th {\n        text-align: right;\n    }\n</style>\n<table border=\"1\" class=\"dataframe\">\n  <thead>\n    <tr style=\"text-align: right;\">\n      <th></th>\n      <th>ds</th>\n      <th>trend</th>\n      <th>yhat_lower</th>\n      <th>yhat_upper</th>\n      <th>trend_lower</th>\n      <th>trend_upper</th>\n      <th>Boxing Day</th>\n      <th>Boxing Day_lower</th>\n      <th>Boxing Day_upper</th>\n      <th>Boxing Day (observed)</th>\n      <th>...</th>\n      <th>weekly_lower</th>\n      <th>weekly_upper</th>\n      <th>yearly</th>\n      <th>yearly_lower</th>\n      <th>yearly_upper</th>\n      <th>additive_terms</th>\n      <th>additive_terms_lower</th>\n      <th>additive_terms_upper</th>\n      <th>yhat</th>\n      <th>y</th>\n    </tr>\n  </thead>\n  <tbody>\n    <tr>\n      <th>0</th>\n      <td>2010-12-01</td>\n      <td>22591.622134</td>\n      <td>22966.833299</td>\n      <td>47301.474572</td>\n      <td>22591.622134</td>\n      <td>22591.622134</td>\n      <td>0.0</td>\n      <td>0.0</td>\n      <td>0.0</td>\n      <td>0.0</td>\n      <td>...</td>\n      <td>0.145125</td>\n      <td>0.145125</td>\n      <td>0.426286</td>\n      <td>0.426286</td>\n      <td>0.426286</td>\n      <td>0.0</td>\n      <td>0.0</td>\n      <td>0.0</td>\n      <td>35500.726891</td>\n      <td>46376.49</td>\n    </tr>\n    <tr>\n      <th>1</th>\n      <td>2010-12-02</td>\n      <td>22589.924580</td>\n      <td>28204.727614</td>\n      <td>53992.483991</td>\n      <td>22589.924580</td>\n      <td>22589.924580</td>\n      <td>0.0</td>\n      <td>0.0</td>\n      <td>0.0</td>\n      <td>0.0</td>\n      <td>...</td>\n      <td>0.421758</td>\n      <td>0.421758</td>\n      <td>0.430730</td>\n      <td>0.430730</td>\n      <td>0.430730</td>\n      <td>0.0</td>\n      <td>0.0</td>\n      <td>0.0</td>\n      <td>41847.574882</td>\n      <td>47316.53</td>\n    </tr>\n    <tr>\n      <th>2</th>\n      <td>2010-12-03</td>\n      <td>22588.227026</td>\n      <td>19414.042542</td>\n      <td>44748.340034</td>\n      <td>22588.227026</td>\n      <td>22588.227026</td>\n      <td>0.0</td>\n      <td>0.0</td>\n      <td>0.0</td>\n      <td>0.0</td>\n      <td>...</td>\n      <td>-0.024029</td>\n      <td>-0.024029</td>\n      <td>0.430444</td>\n      <td>0.430444</td>\n      <td>0.430444</td>\n      <td>0.0</td>\n      <td>0.0</td>\n      <td>0.0</td>\n      <td>31768.426386</td>\n      <td>23921.71</td>\n    </tr>\n    <tr>\n      <th>3</th>\n      <td>2010-12-04</td>\n      <td>22586.529472</td>\n      <td>-5089.164608</td>\n      <td>20855.972832</td>\n      <td>22586.529472</td>\n      <td>22586.529472</td>\n      <td>0.0</td>\n      <td>0.0</td>\n      <td>0.0</td>\n      <td>0.0</td>\n      <td>...</td>\n      <td>-0.726477</td>\n      <td>-0.726477</td>\n      <td>0.424825</td>\n      <td>0.424825</td>\n      <td>0.424825</td>\n      <td>0.0</td>\n      <td>0.0</td>\n      <td>0.0</td>\n      <td>8568.924186</td>\n      <td>0.00</td>\n    </tr>\n    <tr>\n      <th>4</th>\n      <td>2010-12-05</td>\n      <td>22584.831918</td>\n      <td>9769.325583</td>\n      <td>35078.954520</td>\n      <td>22584.831918</td>\n      <td>22584.831918</td>\n      <td>0.0</td>\n      <td>0.0</td>\n      <td>0.0</td>\n      <td>0.0</td>\n      <td>...</td>\n      <td>-0.109186</td>\n      <td>-0.109186</td>\n      <td>0.413376</td>\n      <td>0.413376</td>\n      <td>0.413376</td>\n      <td>0.0</td>\n      <td>0.0</td>\n      <td>0.0</td>\n      <td>22251.124197</td>\n      <td>31771.60</td>\n    </tr>\n  </tbody>\n</table>\n<p>5 rows × 62 columns</p>\n</div>"
          },
          "execution_count": null,
          "metadata": {},
          "output_type": "execute_result"
        }
      ]
    },
    {
      "cell_type": "markdown",
      "source": [
        "#### Outcome 1: My model is not performing super well but still going to finish this up for the portfolio. I have a funny feeling, that the HUGE spike of y on 9/20/11 in the data is causing a severe downward trend and causing predicted values (yhat) to be very off. Tomorrow, will try with that day removed or create an additional regressor to resolve."
      ],
      "metadata": {
        "id": "YpJTiYW2Xr4X"
      }
    },
    {
      "cell_type": "markdown",
      "source": [
        "## Forecast model update\n",
        "### Retraining on new df without outliers"
      ],
      "metadata": {
        "id": "nVGU2JnzXr4X"
      }
    },
    {
      "cell_type": "code",
      "source": [
        "# 1. Aggregate to daily sales\n",
        "daily_sales_no_outliers = df.groupby(df['invoicedate'].dt.date).agg({\n",
        "    'revenue': 'sum',\n",
        "    'quantity': 'sum',\n",
        "    'invoiceno': 'nunique',  # Number of unique transactions\n",
        "    'customerid': 'nunique'   # Number of unique customers\n",
        "}).reset_index()\n",
        "\n",
        "# 2. Remove outliers from daily_sales based on revenue (IQR method)\n",
        "Q1 = daily_sales_no_outliers['revenue'].quantile(0.25)\n",
        "Q3 = daily_sales_no_outliers['revenue'].quantile(0.75)\n",
        "IQR = Q3 - Q1\n",
        "\n",
        "lower_bound = Q1 - 1.5 * IQR\n",
        "upper_bound = Q3 + 1.5 * IQR\n",
        "\n",
        "# Filter out outliers\n",
        "filtered_daily_sales = daily_sales_no_outliers[\n",
        "    (daily_sales_no_outliers['revenue'] >= lower_bound) &\n",
        "    (daily_sales_no_outliers['revenue'] <= upper_bound)\n",
        "]\n",
        "\n",
        "# 3. Rename for prophet format\n",
        "filtered_daily_sales = filtered_daily_sales.rename(columns={\n",
        "    'invoicedate': 'ds',\n",
        "    'revenue': 'y'\n",
        "})\n",
        "\n",
        "# 4 removing y=0\n",
        "filtered_daily_sales_final = filtered_daily_sales[filtered_daily_sales['y'] != 0]\n",
        "\n",
        "\n",
        "code_no_outliers = \"\"\"\n",
        "# 1. Aggregate to daily sales\n",
        "daily_sales_no_outliers = df.groupby(df['invoicedate'].dt.date).agg({\n",
        "    'revenue': 'sum',\n",
        "    'quantity': 'sum',\n",
        "    'invoiceno': 'nunique',  # Number of unique transactions\n",
        "    'customerid': 'nunique'   # Number of unique customers\n",
        "}).reset_index()\n",
        "\n",
        "# 2. Remove outliers from daily_sales based on revenue (IQR method)\n",
        "Q1 = daily_sales_no_outliers['revenue'].quantile(0.25)\n",
        "Q3 = daily_sales_no_outliers['revenue'].quantile(0.75)\n",
        "IQR = Q3 - Q1\n",
        "\n",
        "lower_bound = Q1 - 1.5 * IQR\n",
        "upper_bound = Q3 + 1.5 * IQR\n",
        "\n",
        "# Filter out outliers\n",
        "filtered_daily_sales = daily_sales_no_outliers[\n",
        "    (daily_sales_no_outliers['revenue'] >= lower_bound) &\n",
        "    (daily_sales_no_outliers['revenue'] <= upper_bound)\n",
        "]\n",
        "\n",
        "# 3. Rename for prophet format\n",
        "filtered_daily_sales = filtered_daily_sales.rename(columns={\n",
        "    'invoicedate': 'ds',\n",
        "    'revenue': 'y'\n",
        "})\n",
        "\n",
        "# 4. Ensure daily frequency (fill missing dates)\n",
        "filtered_daily_sales['ds'] = pd.to_datetime(filtered_daily_sales['ds'])\n",
        "filtered_daily_sales = filtered_daily_sales.set_index('ds').resample('D').sum().fillna(0).reset_index()\n",
        "\"\"\"\n",
        "\n",
        "print(code_no_outliers)"
      ],
      "metadata": {
        "id": "YQrdu0C-Xr4X",
        "outputId": "5aa3f027-4aab-427f-e5d3-2a4c17394094"
      },
      "execution_count": null,
      "outputs": [
        {
          "data": {
            "text/plain": "\n# 1. Aggregate to daily sales\ndaily_sales_no_outliers = df.groupby(df['invoicedate'].dt.date).agg({\n    'revenue': 'sum',\n    'quantity': 'sum',\n    'invoiceno': 'nunique',  # Number of unique transactions\n    'customerid': 'nunique'   # Number of unique customers\n}).reset_index()\n\n# 2. Remove outliers from daily_sales based on revenue (IQR method)\nQ1 = daily_sales_no_outliers['revenue'].quantile(0.25)\nQ3 = daily_sales_no_outliers['revenue'].quantile(0.75)\nIQR = Q3 - Q1\n\nlower_bound = Q1 - 1.5 * IQR\nupper_bound = Q3 + 1.5 * IQR\n\n# Filter out outliers\nfiltered_daily_sales = daily_sales_no_outliers[\n    (daily_sales_no_outliers['revenue'] >= lower_bound) &\n    (daily_sales_no_outliers['revenue'] <= upper_bound)\n]\n\n# 3. Rename for prophet format\nfiltered_daily_sales = filtered_daily_sales.rename(columns={\n    'invoicedate': 'ds',\n    'revenue': 'y'\n})\n\n# 4. Ensure daily frequency (fill missing dates)\nfiltered_daily_sales['ds'] = pd.to_datetime(filtered_daily_sales['ds'])\nfiltered_daily_sales = filtered_daily_sales.set_index('ds').resample('D').sum().fillna(0).reset_index()\n\n"
          },
          "execution_count": null,
          "metadata": {},
          "output_type": "execute_result"
        }
      ]
    },
    {
      "cell_type": "code",
      "source": [
        "model3 = Prophet(\n",
        "    yearly_seasonality=True,      # Capture seasonal patterns\n",
        "    weekly_seasonality=True,      # Weekly shopping patterns\n",
        "    daily_seasonality=False,      # Not meaningful for aggregated daily data\n",
        "    seasonality_mode='multiplicative',  # Revenue grows with base level\n",
        "    changepoint_prior_scale=0.05,      # Moderate trend flexibility\n",
        "    interval_width=0.8           # 80% confidence intervals\n",
        ")\n",
        "\n",
        "# Add UK holidays (this is UK retail data)\n",
        "from prophet.utilities import regressor_coefficients\n",
        "model3.add_country_holidays(country_name='UK')"
      ],
      "metadata": {
        "id": "hfPKUE83Xr4Y",
        "outputId": "f2ef17b4-b084-463e-d847-8c0d7878193d"
      },
      "execution_count": null,
      "outputs": [
        {
          "data": {
            "text/plain": "<prophet.forecaster.Prophet at 0x7f751d6a7dd0>"
          },
          "execution_count": null,
          "metadata": {},
          "output_type": "execute_result"
        }
      ]
    },
    {
      "cell_type": "code",
      "source": [
        "# Add day of week as regressor\n",
        "filtered_daily_sales_final[\"ds\"] = pd.to_datetime(filtered_daily_sales_final[\"ds\"])\n",
        "filtered_daily_sales_final[\"day_of_week3\"] = filtered_daily_sales_final[\n",
        "    \"ds\"\n",
        "].dt.dayofweek\n",
        "filtered_daily_sales_final[\"is_weekend3\"] = (\n",
        "    filtered_daily_sales_final[\"day_of_week3\"] >= 5\n",
        ").astype(int)\n",
        "\n",
        "# Add month-end effects (common in retail)\n",
        "filtered_daily_sales_final[\"is_month_end3\"] = (\n",
        "    filtered_daily_sales_final[\"ds\"].dt.day >= 28\n",
        ").astype(int)\n",
        "\n",
        "# Add regressors to model\n",
        "model3.add_regressor(\"is_weekend3\")\n",
        "model3.add_regressor(\"is_month_end3\")"
      ],
      "metadata": {
        "id": "7okFJ3EgXr4Y",
        "outputId": "3936ab9a-b5f7-4dcf-840a-3972b50405f8"
      },
      "execution_count": null,
      "outputs": [
        {
          "data": {
            "text/plain": "<prophet.forecaster.Prophet at 0x7f751d6a7dd0>"
          },
          "execution_count": null,
          "metadata": {},
          "output_type": "execute_result"
        }
      ]
    },
    {
      "cell_type": "code",
      "source": [
        "# Fit the model\n",
        "model3.fit(filtered_daily_sales_final[['ds', 'y', 'is_weekend3', 'is_month_end3']])\n",
        "\n",
        "# Create future dataframe\n",
        "future2 = model3.make_future_dataframe(periods=30)  # 30-day forecast\n",
        "\n",
        "# Add regressor values for future dates\n",
        "future2['day_of_week3'] = future2['ds'].dt.dayofweek\n",
        "future2['is_weekend3'] = (future2['day_of_week3'] >= 5).astype(int)\n",
        "future2['is_month_end3'] = (future2['ds'].dt.day >= 28).astype(int)\n",
        "\n",
        "# generate forecast (it's happening!)\n",
        "forecast2 = model3.predict(future2)"
      ],
      "metadata": {
        "id": "wgciqz09Xr4Y",
        "outputId": "bad0b48f-0580-4acf-da6e-b1c9bdf6b256"
      },
      "execution_count": null,
      "outputs": [
        {
          "data": {
            "text/plain": "15:42:58 - cmdstanpy - INFO - Chain [1] start processing\n"
          },
          "execution_count": null,
          "metadata": {},
          "output_type": "execute_result"
        }
      ]
    },
    {
      "cell_type": "code",
      "source": [
        "# Cross-validation setup\n",
        "cutoff_date = filtered_daily_sales_final['ds'].max() - pd.Timedelta(days=30)\n",
        "train_data3 = filtered_daily_sales_final[filtered_daily_sales_final['ds'] <= cutoff_date]\n",
        "test_data3 = filtered_daily_sales_final[filtered_daily_sales_final['ds'] > cutoff_date]\n",
        "\n",
        "# Retrain on training data\n",
        "model_cv3 = Prophet(\n",
        "    yearly_seasonality=True,\n",
        "    weekly_seasonality=True,\n",
        "    seasonality_mode='multiplicative',\n",
        "    changepoint_prior_scale=0.05\n",
        ")\n",
        "model_cv3.add_country_holidays(country_name='UK')\n",
        "model_cv3.add_regressor('is_weekend3')\n",
        "model_cv3.add_regressor('is_month_end3')\n",
        "model_cv3.fit(train_data3[['ds', 'y', 'is_weekend3', 'is_month_end3']])\n",
        "\n",
        "# Predict on test period\n",
        "future_cv3 = test_data3[['ds', 'is_weekend3', 'is_month_end3']].copy()\n",
        "forecast_cv3 = model_cv3.predict(future_cv3)\n",
        "\n",
        "# Calculate MedAE and RMSE\n",
        "medae3 = median_absolute_error(test_data3['y'], forecast_cv3['yhat'])\n",
        "rmse3 = np.sqrt(mean_squared_error(test_data3['y'], forecast_cv3['yhat']))\n",
        "\n",
        "print(f\"Median Absolute Error (MedAE): £{medae:.2f}\")\n",
        "print(f\"Root Mean Squared Error (RMSE): £{rmse:.2f}\")\n"
      ],
      "metadata": {
        "id": "fSF-GeDyXr4Y",
        "outputId": "1f8d2c7c-566e-490d-f0f4-3a979b0be456"
      },
      "execution_count": null,
      "outputs": [
        {
          "data": {
            "text/plain": "15:43:04 - cmdstanpy - INFO - Chain [1] start processing\n15:43:04 - cmdstanpy - INFO - Chain [1] done processing\nMedian Absolute Error (MedAE): £28911.13\nRoot Mean Squared Error (RMSE): £35606.00\n"
          },
          "execution_count": null,
          "metadata": {},
          "output_type": "execute_result"
        }
      ]
    },
    {
      "cell_type": "code",
      "source": [
        "filtered_daily_sales_final"
      ],
      "metadata": {
        "id": "6reC7dSeXr4Z"
      },
      "execution_count": null,
      "outputs": []
    },
    {
      "cell_type": "code",
      "source": [
        "import plotly.graph_objects as go\n",
        "\n",
        "fig4 = go.Figure()\n",
        "\n",
        "# Add actual data\n",
        "fig4.add_trace(go.Scatter(\n",
        "    x=filtered_daily_sales_final['ds'],\n",
        "    y=filtered_daily_sales_final['y'],\n",
        "    mode='lines',\n",
        "    name='Actual Revenue',\n",
        "    line=dict(color='purple')\n",
        "))\n",
        "\n",
        "# Add forecast\n",
        "forecast_future2 = forecast2[forecast2['ds'] > filtered_daily_sales_final['ds'].max()]\n",
        "fig4.add_trace(go.Scatter(\n",
        "    x=forecast_future2['ds'],\n",
        "    y=forecast_future2['yhat'],\n",
        "    mode='lines',\n",
        "    name='Forecast',\n",
        "    line=dict(color='pink')\n",
        "))\n",
        "\n",
        "# Add confidence intervals\n",
        "fig4.add_trace(go.Scatter(\n",
        "    x=forecast_future2['ds'],\n",
        "    y=forecast_future2['yhat_upper'],\n",
        "    fill=None,\n",
        "    mode='lines',\n",
        "    line_color='rgba(0,0,0,0)',\n",
        "    showlegend=True\n",
        "))\n",
        "fig4.add_trace(go.Scatter(\n",
        "    x=forecast_future2['ds'],\n",
        "    y=forecast_future2['yhat_lower'],\n",
        "    fill='tonexty',\n",
        "    mode='lines',\n",
        "    line_color='rgba(0,0,0,0)',\n",
        "    name='Confidence Interval',\n",
        "    fillcolor='rgba(255,0,0,0.2)'\n",
        "))\n",
        "\n",
        "fig4.update_layout(\n",
        "    title='30-Day Revenue Forecast with Confidence Intervals',\n",
        "    xaxis_title='Date',\n",
        "    yaxis_title='Daily Revenue (£)',\n",
        "    hovermode='x unified'\n",
        ")\n",
        "\n",
        "fig4.show()\n"
      ],
      "metadata": {
        "id": "9BSfpmunXr4Z",
        "outputId": "f4f3d850-acf7-4bee-83c3-f686975651ce"
      },
      "execution_count": null,
      "outputs": [
        {
          "data": {
            "application/vnd.plotly.v1+json": {
              "data": [
                {
                  "line": {
                    "color": "purple"
                  },
                  "mode": "lines",
                  "name": "Actual Revenue",
                  "x": [
                    "2010-12-01T00:00:00",
                    "2010-12-02T00:00:00",
                    "2010-12-03T00:00:00",
                    "2010-12-05T00:00:00",
                    "2010-12-06T00:00:00",
                    "2010-12-07T00:00:00",
                    "2010-12-08T00:00:00",
                    "2010-12-09T00:00:00",
                    "2010-12-10T00:00:00",
                    "2010-12-12T00:00:00",
                    "2010-12-13T00:00:00",
                    "2010-12-14T00:00:00",
                    "2010-12-15T00:00:00",
                    "2010-12-16T00:00:00",
                    "2010-12-17T00:00:00",
                    "2010-12-19T00:00:00",
                    "2010-12-20T00:00:00",
                    "2010-12-21T00:00:00",
                    "2010-12-22T00:00:00",
                    "2010-12-23T00:00:00",
                    "2011-01-04T00:00:00",
                    "2011-01-05T00:00:00",
                    "2011-01-06T00:00:00",
                    "2011-01-07T00:00:00",
                    "2011-01-09T00:00:00",
                    "2011-01-10T00:00:00",
                    "2011-01-11T00:00:00",
                    "2011-01-12T00:00:00",
                    "2011-01-13T00:00:00",
                    "2011-01-14T00:00:00",
                    "2011-01-16T00:00:00",
                    "2011-01-17T00:00:00",
                    "2011-01-19T00:00:00",
                    "2011-01-20T00:00:00",
                    "2011-01-21T00:00:00",
                    "2011-01-23T00:00:00",
                    "2011-01-24T00:00:00",
                    "2011-01-25T00:00:00",
                    "2011-01-26T00:00:00",
                    "2011-01-27T00:00:00",
                    "2011-01-28T00:00:00",
                    "2011-01-30T00:00:00",
                    "2011-01-31T00:00:00",
                    "2011-02-01T00:00:00",
                    "2011-02-02T00:00:00",
                    "2011-02-03T00:00:00",
                    "2011-02-04T00:00:00",
                    "2011-02-06T00:00:00",
                    "2011-02-07T00:00:00",
                    "2011-02-08T00:00:00",
                    "2011-02-09T00:00:00",
                    "2011-02-10T00:00:00",
                    "2011-02-11T00:00:00",
                    "2011-02-13T00:00:00",
                    "2011-02-14T00:00:00",
                    "2011-02-15T00:00:00",
                    "2011-02-16T00:00:00",
                    "2011-02-17T00:00:00",
                    "2011-02-18T00:00:00",
                    "2011-02-20T00:00:00",
                    "2011-02-21T00:00:00",
                    "2011-02-22T00:00:00",
                    "2011-02-23T00:00:00",
                    "2011-02-24T00:00:00",
                    "2011-02-25T00:00:00",
                    "2011-02-27T00:00:00",
                    "2011-02-28T00:00:00",
                    "2011-03-01T00:00:00",
                    "2011-03-02T00:00:00",
                    "2011-03-03T00:00:00",
                    "2011-03-04T00:00:00",
                    "2011-03-06T00:00:00",
                    "2011-03-07T00:00:00",
                    "2011-03-08T00:00:00",
                    "2011-03-09T00:00:00",
                    "2011-03-10T00:00:00",
                    "2011-03-11T00:00:00",
                    "2011-03-13T00:00:00",
                    "2011-03-14T00:00:00",
                    "2011-03-15T00:00:00",
                    "2011-03-16T00:00:00",
                    "2011-03-17T00:00:00",
                    "2011-03-18T00:00:00",
                    "2011-03-20T00:00:00",
                    "2011-03-21T00:00:00",
                    "2011-03-22T00:00:00",
                    "2011-03-23T00:00:00",
                    "2011-03-24T00:00:00",
                    "2011-03-25T00:00:00",
                    "2011-03-27T00:00:00",
                    "2011-03-28T00:00:00",
                    "2011-03-29T00:00:00",
                    "2011-03-30T00:00:00",
                    "2011-03-31T00:00:00",
                    "2011-04-01T00:00:00",
                    "2011-04-03T00:00:00",
                    "2011-04-04T00:00:00",
                    "2011-04-05T00:00:00",
                    "2011-04-06T00:00:00",
                    "2011-04-07T00:00:00",
                    "2011-04-08T00:00:00",
                    "2011-04-10T00:00:00",
                    "2011-04-11T00:00:00",
                    "2011-04-12T00:00:00",
                    "2011-04-13T00:00:00",
                    "2011-04-14T00:00:00",
                    "2011-04-15T00:00:00",
                    "2011-04-17T00:00:00",
                    "2011-04-18T00:00:00",
                    "2011-04-19T00:00:00",
                    "2011-04-20T00:00:00",
                    "2011-04-21T00:00:00",
                    "2011-04-26T00:00:00",
                    "2011-04-27T00:00:00",
                    "2011-04-28T00:00:00",
                    "2011-05-01T00:00:00",
                    "2011-05-03T00:00:00",
                    "2011-05-04T00:00:00",
                    "2011-05-05T00:00:00",
                    "2011-05-06T00:00:00",
                    "2011-05-08T00:00:00",
                    "2011-05-09T00:00:00",
                    "2011-05-10T00:00:00",
                    "2011-05-11T00:00:00",
                    "2011-05-12T00:00:00",
                    "2011-05-13T00:00:00",
                    "2011-05-15T00:00:00",
                    "2011-05-16T00:00:00",
                    "2011-05-17T00:00:00",
                    "2011-05-18T00:00:00",
                    "2011-05-19T00:00:00",
                    "2011-05-20T00:00:00",
                    "2011-05-22T00:00:00",
                    "2011-05-23T00:00:00",
                    "2011-05-24T00:00:00",
                    "2011-05-25T00:00:00",
                    "2011-05-26T00:00:00",
                    "2011-05-27T00:00:00",
                    "2011-05-29T00:00:00",
                    "2011-05-31T00:00:00",
                    "2011-06-01T00:00:00",
                    "2011-06-02T00:00:00",
                    "2011-06-03T00:00:00",
                    "2011-06-05T00:00:00",
                    "2011-06-06T00:00:00",
                    "2011-06-07T00:00:00",
                    "2011-06-08T00:00:00",
                    "2011-06-09T00:00:00",
                    "2011-06-10T00:00:00",
                    "2011-06-12T00:00:00",
                    "2011-06-13T00:00:00",
                    "2011-06-14T00:00:00",
                    "2011-06-15T00:00:00",
                    "2011-06-16T00:00:00",
                    "2011-06-17T00:00:00",
                    "2011-06-19T00:00:00",
                    "2011-06-20T00:00:00",
                    "2011-06-21T00:00:00",
                    "2011-06-22T00:00:00",
                    "2011-06-23T00:00:00",
                    "2011-06-24T00:00:00",
                    "2011-06-26T00:00:00",
                    "2011-06-27T00:00:00",
                    "2011-06-28T00:00:00",
                    "2011-06-29T00:00:00",
                    "2011-06-30T00:00:00",
                    "2011-07-01T00:00:00",
                    "2011-07-03T00:00:00",
                    "2011-07-04T00:00:00",
                    "2011-07-05T00:00:00",
                    "2011-07-06T00:00:00",
                    "2011-07-07T00:00:00",
                    "2011-07-08T00:00:00",
                    "2011-07-10T00:00:00",
                    "2011-07-11T00:00:00",
                    "2011-07-12T00:00:00",
                    "2011-07-13T00:00:00",
                    "2011-07-14T00:00:00",
                    "2011-07-15T00:00:00",
                    "2011-07-17T00:00:00",
                    "2011-07-18T00:00:00",
                    "2011-07-19T00:00:00",
                    "2011-07-20T00:00:00",
                    "2011-07-21T00:00:00",
                    "2011-07-22T00:00:00",
                    "2011-07-24T00:00:00",
                    "2011-07-25T00:00:00",
                    "2011-07-26T00:00:00",
                    "2011-07-27T00:00:00",
                    "2011-07-28T00:00:00",
                    "2011-07-29T00:00:00",
                    "2011-07-31T00:00:00",
                    "2011-08-01T00:00:00",
                    "2011-08-02T00:00:00",
                    "2011-08-03T00:00:00",
                    "2011-08-04T00:00:00",
                    "2011-08-05T00:00:00",
                    "2011-08-07T00:00:00",
                    "2011-08-08T00:00:00",
                    "2011-08-09T00:00:00",
                    "2011-08-10T00:00:00",
                    "2011-08-11T00:00:00",
                    "2011-08-12T00:00:00",
                    "2011-08-14T00:00:00",
                    "2011-08-15T00:00:00",
                    "2011-08-16T00:00:00",
                    "2011-08-17T00:00:00",
                    "2011-08-18T00:00:00",
                    "2011-08-19T00:00:00",
                    "2011-08-21T00:00:00",
                    "2011-08-22T00:00:00",
                    "2011-08-23T00:00:00",
                    "2011-08-24T00:00:00",
                    "2011-08-25T00:00:00",
                    "2011-08-26T00:00:00",
                    "2011-08-28T00:00:00",
                    "2011-08-30T00:00:00",
                    "2011-08-31T00:00:00",
                    "2011-09-01T00:00:00",
                    "2011-09-02T00:00:00",
                    "2011-09-04T00:00:00",
                    "2011-09-05T00:00:00",
                    "2011-09-06T00:00:00",
                    "2011-09-07T00:00:00",
                    "2011-09-08T00:00:00",
                    "2011-09-09T00:00:00",
                    "2011-09-11T00:00:00",
                    "2011-09-12T00:00:00",
                    "2011-09-13T00:00:00",
                    "2011-09-14T00:00:00",
                    "2011-09-16T00:00:00",
                    "2011-09-18T00:00:00",
                    "2011-09-19T00:00:00",
                    "2011-09-21T00:00:00",
                    "2011-09-22T00:00:00",
                    "2011-09-23T00:00:00",
                    "2011-09-25T00:00:00",
                    "2011-09-26T00:00:00",
                    "2011-09-27T00:00:00",
                    "2011-09-28T00:00:00",
                    "2011-09-29T00:00:00",
                    "2011-09-30T00:00:00",
                    "2011-10-02T00:00:00",
                    "2011-10-03T00:00:00",
                    "2011-10-04T00:00:00",
                    "2011-10-06T00:00:00",
                    "2011-10-07T00:00:00",
                    "2011-10-09T00:00:00",
                    "2011-10-10T00:00:00",
                    "2011-10-11T00:00:00",
                    "2011-10-12T00:00:00",
                    "2011-10-13T00:00:00",
                    "2011-10-14T00:00:00",
                    "2011-10-16T00:00:00",
                    "2011-10-17T00:00:00",
                    "2011-10-18T00:00:00",
                    "2011-10-19T00:00:00",
                    "2011-10-20T00:00:00",
                    "2011-10-21T00:00:00",
                    "2011-10-23T00:00:00",
                    "2011-10-24T00:00:00",
                    "2011-10-25T00:00:00",
                    "2011-10-26T00:00:00",
                    "2011-10-27T00:00:00",
                    "2011-10-28T00:00:00",
                    "2011-10-30T00:00:00",
                    "2011-10-31T00:00:00",
                    "2011-11-01T00:00:00",
                    "2011-11-02T00:00:00",
                    "2011-11-03T00:00:00",
                    "2011-11-04T00:00:00",
                    "2011-11-06T00:00:00",
                    "2011-11-07T00:00:00",
                    "2011-11-08T00:00:00",
                    "2011-11-09T00:00:00",
                    "2011-11-11T00:00:00",
                    "2011-11-13T00:00:00",
                    "2011-11-14T00:00:00",
                    "2011-11-15T00:00:00",
                    "2011-11-16T00:00:00",
                    "2011-11-17T00:00:00",
                    "2011-11-18T00:00:00",
                    "2011-11-20T00:00:00",
                    "2011-11-21T00:00:00",
                    "2011-11-22T00:00:00",
                    "2011-11-24T00:00:00",
                    "2011-11-25T00:00:00",
                    "2011-11-27T00:00:00",
                    "2011-11-28T00:00:00",
                    "2011-11-29T00:00:00",
                    "2011-11-30T00:00:00",
                    "2011-12-01T00:00:00",
                    "2011-12-02T00:00:00",
                    "2011-12-04T00:00:00",
                    "2011-12-05T00:00:00",
                    "2011-12-06T00:00:00",
                    "2011-12-08T00:00:00"
                  ],
                  "y": [
                    46376.49,
                    47316.53,
                    23921.71,
                    31771.6,
                    31215.64,
                    53795.31,
                    39248.82,
                    38231.9,
                    33650.28,
                    17305.77,
                    27642.68,
                    29322.3,
                    30311.72,
                    49030.08,
                    20046.56,
                    7417.39,
                    19621.96,
                    15951.66,
                    4886.52,
                    5648.97,
                    12125.460000000001,
                    28803.63,
                    34360.19,
                    23797.79,
                    15778.2,
                    15346.83,
                    60268.78,
                    17153.94,
                    15171.31,
                    39532.02,
                    7242.06,
                    16597.35,
                    21646.78,
                    15244.73,
                    24279.76,
                    10400.25,
                    17632.37,
                    24119.3,
                    17490.82,
                    22157.03,
                    17273.5,
                    6615.75,
                    18818.08,
                    26376.5,
                    17145.23,
                    22184,
                    18114.31,
                    3457.11,
                    23415.01,
                    14168.03,
                    11920.78,
                    14198.51,
                    18599.46,
                    5713.63,
                    23003.99,
                    37784.65,
                    23499.22,
                    17674.79,
                    14463.06,
                    9624.69,
                    32801.73,
                    29160.48,
                    19348.07,
                    21472.89,
                    18377.69,
                    9526.5,
                    15107.02,
                    23631.87,
                    18686.99,
                    32855.05,
                    17322.47,
                    9997.42,
                    20285.68,
                    22230.61,
                    20345.87,
                    24431.72,
                    20896,
                    4148.12,
                    26009.25,
                    14936.43,
                    21820.66,
                    32028.94,
                    23398.74,
                    20084.8,
                    16051.05,
                    19064.29,
                    21578.8,
                    36697.14,
                    27302.75,
                    9224.4,
                    20005.16,
                    37190.52,
                    29587.420000000002,
                    25688.61,
                    24586.82,
                    6918.5,
                    29017.77,
                    28759.37,
                    12722.32,
                    16827.77,
                    22720.71,
                    9913.98,
                    20184.14,
                    24023.96,
                    24484.420000000002,
                    35702.7,
                    18021.481,
                    12725.5,
                    43713.56,
                    18853.04,
                    25718.95,
                    27804.47,
                    21584.41,
                    23593.2,
                    21323.29,
                    6973.66,
                    28910.41,
                    27532,
                    25232.67,
                    30786.7,
                    18867.4,
                    21624.41,
                    29870.7,
                    31887.7,
                    59901.56,
                    25885.83,
                    9680.05,
                    35706.7,
                    46406.09,
                    32882.87,
                    31553.51,
                    25489.66,
                    24231.09,
                    31307.49,
                    32462.48,
                    21884.93,
                    32764.38,
                    21163.32,
                    7394.3,
                    18194.65,
                    15390.89,
                    28104.56,
                    15042.26,
                    25639.54,
                    16290.98,
                    33908.26,
                    30192.13,
                    42910.38,
                    58245.12,
                    12472.210000000001,
                    19719.11,
                    33334.47,
                    45077.54,
                    32307.77,
                    19059.23,
                    22442.18,
                    26136.73,
                    19850.66,
                    21170.42,
                    22556.81,
                    16021.710000000001,
                    7082.49,
                    13412.2,
                    30532.37,
                    12570.63,
                    41743.04,
                    12189.29,
                    6032.39,
                    30985.170000000002,
                    25992.260000000002,
                    22960.48,
                    27893.66,
                    17558.3,
                    5993.87,
                    20080.03,
                    17948.19,
                    19432.85,
                    32020.91,
                    11857.300000000001,
                    16958.6,
                    22018.36,
                    46599.08,
                    27076.97,
                    30394.71,
                    14633.77,
                    26796.92,
                    19687.31,
                    17293.001,
                    22855.32,
                    54198.37,
                    17240.61,
                    33393.29,
                    19808.4,
                    20277.05,
                    26617.77,
                    62079.61,
                    19825.4,
                    7576.96,
                    19758.62,
                    25957.12,
                    19861.56,
                    54386.17,
                    17970.170000000002,
                    5718.57,
                    17243.97,
                    16077.84,
                    48769.64,
                    54082.81,
                    17339.59,
                    14566.84,
                    29623.18,
                    22399.11,
                    38617.01,
                    22495.29,
                    24111.64,
                    10805.03,
                    8833.710000000001,
                    20540.84,
                    37370.15,
                    30297.05,
                    17005.03,
                    35698.7,
                    25495.82,
                    21967.420000000002,
                    23188.3,
                    25142.15,
                    35511.67,
                    27989.4,
                    48162.25,
                    22027.95,
                    23248.98,
                    15745.73,
                    46607.22,
                    38503.06,
                    57869.36,
                    31781.1,
                    31372.661,
                    29329.841,
                    29274.36,
                    39057.89,
                    44729.37,
                    40033.44,
                    11582.95,
                    62275.95,
                    38690.2,
                    60387.8,
                    49187.67,
                    12466.81,
                    43080.32,
                    46436.77,
                    27731.37,
                    33039.18,
                    32124.68,
                    22010.96,
                    47005.24,
                    37302.4,
                    37333.52,
                    61064.06,
                    60417.26,
                    12339.16,
                    39315.28,
                    36235.95,
                    34435.32,
                    55837.14,
                    37290.57,
                    34571.23,
                    33048.57,
                    29132.81,
                    38734.7,
                    60672.11,
                    56099.24,
                    42941.340000000004,
                    28779.24,
                    38295.12,
                    61489.18,
                    37081.37,
                    28607.78,
                    58777.71,
                    47729,
                    48439.76,
                    55885.3,
                    36751.25,
                    30190.920000000002,
                    45333.13,
                    49664.89,
                    38579.11,
                    26674.66,
                    17300.96,
                    51831.67,
                    48851.68,
                    41481.23,
                    44533.99,
                    44713.69,
                    20375.96,
                    58202.21,
                    46144.04,
                    50519.41
                  ],
                  "type": "scatter"
                },
                {
                  "line": {
                    "color": "pink"
                  },
                  "mode": "lines",
                  "name": "Forecast",
                  "x": [
                    "2011-12-09T00:00:00",
                    "2011-12-10T00:00:00",
                    "2011-12-11T00:00:00",
                    "2011-12-12T00:00:00",
                    "2011-12-13T00:00:00",
                    "2011-12-14T00:00:00",
                    "2011-12-15T00:00:00",
                    "2011-12-16T00:00:00",
                    "2011-12-17T00:00:00",
                    "2011-12-18T00:00:00",
                    "2011-12-19T00:00:00",
                    "2011-12-20T00:00:00",
                    "2011-12-21T00:00:00",
                    "2011-12-22T00:00:00",
                    "2011-12-23T00:00:00",
                    "2011-12-24T00:00:00",
                    "2011-12-25T00:00:00",
                    "2011-12-26T00:00:00",
                    "2011-12-27T00:00:00",
                    "2011-12-28T00:00:00",
                    "2011-12-29T00:00:00",
                    "2011-12-30T00:00:00",
                    "2011-12-31T00:00:00",
                    "2012-01-01T00:00:00",
                    "2012-01-02T00:00:00",
                    "2012-01-03T00:00:00",
                    "2012-01-04T00:00:00",
                    "2012-01-05T00:00:00",
                    "2012-01-06T00:00:00",
                    "2012-01-07T00:00:00"
                  ],
                  "y": [
                    35429.81416190248,
                    40134.91933543984,
                    21817.95726803797,
                    34159.566975463524,
                    34332.714208926176,
                    30531.303944330386,
                    37665.19417843903,
                    25556.20053453283,
                    30035.776956765865,
                    11585.904702649323,
                    23982.733375675023,
                    24332.682189499355,
                    20843.97680766861,
                    28448.529490172506,
                    16912.65698527873,
                    22117.7253389893,
                    4468.530338759789,
                    17814.68933566224,
                    19174.533742804124,
                    15963.953822833897,
                    24690.282725850626,
                    14261.649057828356,
                    20595.268022344542,
                    4794.639048616429,
                    19201.48473552334,
                    21528.69846046914,
                    19971.86674956604,
                    29472.787826967626,
                    19660.60459985114,
                    26499.164830790785
                  ],
                  "type": "scatter"
                },
                {
                  "line": {
                    "color": "rgba(0,0,0,0)"
                  },
                  "mode": "lines",
                  "showlegend": true,
                  "x": [
                    "2011-12-09T00:00:00",
                    "2011-12-10T00:00:00",
                    "2011-12-11T00:00:00",
                    "2011-12-12T00:00:00",
                    "2011-12-13T00:00:00",
                    "2011-12-14T00:00:00",
                    "2011-12-15T00:00:00",
                    "2011-12-16T00:00:00",
                    "2011-12-17T00:00:00",
                    "2011-12-18T00:00:00",
                    "2011-12-19T00:00:00",
                    "2011-12-20T00:00:00",
                    "2011-12-21T00:00:00",
                    "2011-12-22T00:00:00",
                    "2011-12-23T00:00:00",
                    "2011-12-24T00:00:00",
                    "2011-12-25T00:00:00",
                    "2011-12-26T00:00:00",
                    "2011-12-27T00:00:00",
                    "2011-12-28T00:00:00",
                    "2011-12-29T00:00:00",
                    "2011-12-30T00:00:00",
                    "2011-12-31T00:00:00",
                    "2012-01-01T00:00:00",
                    "2012-01-02T00:00:00",
                    "2012-01-03T00:00:00",
                    "2012-01-04T00:00:00",
                    "2012-01-05T00:00:00",
                    "2012-01-06T00:00:00",
                    "2012-01-07T00:00:00"
                  ],
                  "y": [
                    46403.89360327258,
                    51899.72771877754,
                    34393.70252755491,
                    46476.73328052519,
                    45939.41386219889,
                    41790.41061971794,
                    49131.732853345966,
                    37335.64822593137,
                    41687.07138131463,
                    23143.23435394993,
                    35830.42705235968,
                    35279.524036995645,
                    32293.470462625646,
                    40581.71119832573,
                    28338.46215173966,
                    33775.43298742008,
                    16322.67594015944,
                    28188.170436134984,
                    31241.135188883276,
                    27757.829885811334,
                    35664.343999612654,
                    26377.173839017378,
                    32092.199815099586,
                    15672.859216501573,
                    30550.103313145533,
                    32597.366668097096,
                    31414.133340257766,
                    40817.211230668705,
                    31783.652179823977,
                    38060.15703902155
                  ],
                  "type": "scatter"
                },
                {
                  "fill": "tonexty",
                  "fillcolor": "rgba(255,0,0,0.2)",
                  "line": {
                    "color": "rgba(0,0,0,0)"
                  },
                  "mode": "lines",
                  "name": "Confidence Interval",
                  "x": [
                    "2011-12-09T00:00:00",
                    "2011-12-10T00:00:00",
                    "2011-12-11T00:00:00",
                    "2011-12-12T00:00:00",
                    "2011-12-13T00:00:00",
                    "2011-12-14T00:00:00",
                    "2011-12-15T00:00:00",
                    "2011-12-16T00:00:00",
                    "2011-12-17T00:00:00",
                    "2011-12-18T00:00:00",
                    "2011-12-19T00:00:00",
                    "2011-12-20T00:00:00",
                    "2011-12-21T00:00:00",
                    "2011-12-22T00:00:00",
                    "2011-12-23T00:00:00",
                    "2011-12-24T00:00:00",
                    "2011-12-25T00:00:00",
                    "2011-12-26T00:00:00",
                    "2011-12-27T00:00:00",
                    "2011-12-28T00:00:00",
                    "2011-12-29T00:00:00",
                    "2011-12-30T00:00:00",
                    "2011-12-31T00:00:00",
                    "2012-01-01T00:00:00",
                    "2012-01-02T00:00:00",
                    "2012-01-03T00:00:00",
                    "2012-01-04T00:00:00",
                    "2012-01-05T00:00:00",
                    "2012-01-06T00:00:00",
                    "2012-01-07T00:00:00"
                  ],
                  "y": [
                    23217.133049128395,
                    29428.05022685925,
                    10013.289617680211,
                    22797.791612362886,
                    23017.585449312006,
                    19222.15965535591,
                    26562.779236791735,
                    14707.184045284665,
                    17978.90103565155,
                    570.6043860120635,
                    12929.507243855345,
                    12972.493792343777,
                    9568.20188092668,
                    17342.598647529143,
                    5426.489140097619,
                    10675.800616074266,
                    -7268.601010775686,
                    6875.165250349198,
                    7855.494008018209,
                    4741.622021449386,
                    13506.051356664286,
                    3320.229171261841,
                    9146.682172548419,
                    -6392.27341079549,
                    7578.896684553821,
                    10361.305639559701,
                    8296.569358145016,
                    17650.796514019927,
                    8579.336570347694,
                    14998.802960402083
                  ],
                  "type": "scatter"
                }
              ],
              "layout": {
                "template": {
                  "data": {
                    "histogram2dcontour": [
                      {
                        "type": "histogram2dcontour",
                        "colorbar": {
                          "outlinewidth": 0,
                          "ticks": ""
                        },
                        "colorscale": [
                          [
                            0,
                            "#0d0887"
                          ],
                          [
                            0.1111111111111111,
                            "#46039f"
                          ],
                          [
                            0.2222222222222222,
                            "#7201a8"
                          ],
                          [
                            0.3333333333333333,
                            "#9c179e"
                          ],
                          [
                            0.4444444444444444,
                            "#bd3786"
                          ],
                          [
                            0.5555555555555556,
                            "#d8576b"
                          ],
                          [
                            0.6666666666666666,
                            "#ed7953"
                          ],
                          [
                            0.7777777777777778,
                            "#fb9f3a"
                          ],
                          [
                            0.8888888888888888,
                            "#fdca26"
                          ],
                          [
                            1,
                            "#f0f921"
                          ]
                        ]
                      }
                    ],
                    "choropleth": [
                      {
                        "type": "choropleth",
                        "colorbar": {
                          "outlinewidth": 0,
                          "ticks": ""
                        }
                      }
                    ],
                    "histogram2d": [
                      {
                        "type": "histogram2d",
                        "colorbar": {
                          "outlinewidth": 0,
                          "ticks": ""
                        },
                        "colorscale": [
                          [
                            0,
                            "#0d0887"
                          ],
                          [
                            0.1111111111111111,
                            "#46039f"
                          ],
                          [
                            0.2222222222222222,
                            "#7201a8"
                          ],
                          [
                            0.3333333333333333,
                            "#9c179e"
                          ],
                          [
                            0.4444444444444444,
                            "#bd3786"
                          ],
                          [
                            0.5555555555555556,
                            "#d8576b"
                          ],
                          [
                            0.6666666666666666,
                            "#ed7953"
                          ],
                          [
                            0.7777777777777778,
                            "#fb9f3a"
                          ],
                          [
                            0.8888888888888888,
                            "#fdca26"
                          ],
                          [
                            1,
                            "#f0f921"
                          ]
                        ]
                      }
                    ],
                    "heatmap": [
                      {
                        "type": "heatmap",
                        "colorbar": {
                          "outlinewidth": 0,
                          "ticks": ""
                        },
                        "colorscale": [
                          [
                            0,
                            "#0d0887"
                          ],
                          [
                            0.1111111111111111,
                            "#46039f"
                          ],
                          [
                            0.2222222222222222,
                            "#7201a8"
                          ],
                          [
                            0.3333333333333333,
                            "#9c179e"
                          ],
                          [
                            0.4444444444444444,
                            "#bd3786"
                          ],
                          [
                            0.5555555555555556,
                            "#d8576b"
                          ],
                          [
                            0.6666666666666666,
                            "#ed7953"
                          ],
                          [
                            0.7777777777777778,
                            "#fb9f3a"
                          ],
                          [
                            0.8888888888888888,
                            "#fdca26"
                          ],
                          [
                            1,
                            "#f0f921"
                          ]
                        ]
                      }
                    ],
                    "heatmapgl": [
                      {
                        "type": "heatmapgl",
                        "colorbar": {
                          "outlinewidth": 0,
                          "ticks": ""
                        },
                        "colorscale": [
                          [
                            0,
                            "#0d0887"
                          ],
                          [
                            0.1111111111111111,
                            "#46039f"
                          ],
                          [
                            0.2222222222222222,
                            "#7201a8"
                          ],
                          [
                            0.3333333333333333,
                            "#9c179e"
                          ],
                          [
                            0.4444444444444444,
                            "#bd3786"
                          ],
                          [
                            0.5555555555555556,
                            "#d8576b"
                          ],
                          [
                            0.6666666666666666,
                            "#ed7953"
                          ],
                          [
                            0.7777777777777778,
                            "#fb9f3a"
                          ],
                          [
                            0.8888888888888888,
                            "#fdca26"
                          ],
                          [
                            1,
                            "#f0f921"
                          ]
                        ]
                      }
                    ],
                    "contourcarpet": [
                      {
                        "type": "contourcarpet",
                        "colorbar": {
                          "outlinewidth": 0,
                          "ticks": ""
                        }
                      }
                    ],
                    "contour": [
                      {
                        "type": "contour",
                        "colorbar": {
                          "outlinewidth": 0,
                          "ticks": ""
                        },
                        "colorscale": [
                          [
                            0,
                            "#0d0887"
                          ],
                          [
                            0.1111111111111111,
                            "#46039f"
                          ],
                          [
                            0.2222222222222222,
                            "#7201a8"
                          ],
                          [
                            0.3333333333333333,
                            "#9c179e"
                          ],
                          [
                            0.4444444444444444,
                            "#bd3786"
                          ],
                          [
                            0.5555555555555556,
                            "#d8576b"
                          ],
                          [
                            0.6666666666666666,
                            "#ed7953"
                          ],
                          [
                            0.7777777777777778,
                            "#fb9f3a"
                          ],
                          [
                            0.8888888888888888,
                            "#fdca26"
                          ],
                          [
                            1,
                            "#f0f921"
                          ]
                        ]
                      }
                    ],
                    "surface": [
                      {
                        "type": "surface",
                        "colorbar": {
                          "outlinewidth": 0,
                          "ticks": ""
                        },
                        "colorscale": [
                          [
                            0,
                            "#0d0887"
                          ],
                          [
                            0.1111111111111111,
                            "#46039f"
                          ],
                          [
                            0.2222222222222222,
                            "#7201a8"
                          ],
                          [
                            0.3333333333333333,
                            "#9c179e"
                          ],
                          [
                            0.4444444444444444,
                            "#bd3786"
                          ],
                          [
                            0.5555555555555556,
                            "#d8576b"
                          ],
                          [
                            0.6666666666666666,
                            "#ed7953"
                          ],
                          [
                            0.7777777777777778,
                            "#fb9f3a"
                          ],
                          [
                            0.8888888888888888,
                            "#fdca26"
                          ],
                          [
                            1,
                            "#f0f921"
                          ]
                        ]
                      }
                    ],
                    "mesh3d": [
                      {
                        "type": "mesh3d",
                        "colorbar": {
                          "outlinewidth": 0,
                          "ticks": ""
                        }
                      }
                    ],
                    "scatter": [
                      {
                        "fillpattern": {
                          "fillmode": "overlay",
                          "size": 10,
                          "solidity": 0.2
                        },
                        "type": "scatter"
                      }
                    ],
                    "parcoords": [
                      {
                        "type": "parcoords",
                        "line": {
                          "colorbar": {
                            "outlinewidth": 0,
                            "ticks": ""
                          }
                        }
                      }
                    ],
                    "scatterpolargl": [
                      {
                        "type": "scatterpolargl",
                        "marker": {
                          "colorbar": {
                            "outlinewidth": 0,
                            "ticks": ""
                          }
                        }
                      }
                    ],
                    "bar": [
                      {
                        "error_x": {
                          "color": "#2a3f5f"
                        },
                        "error_y": {
                          "color": "#2a3f5f"
                        },
                        "marker": {
                          "line": {
                            "color": "#E5ECF6",
                            "width": 0.5
                          },
                          "pattern": {
                            "fillmode": "overlay",
                            "size": 10,
                            "solidity": 0.2
                          }
                        },
                        "type": "bar"
                      }
                    ],
                    "scattergeo": [
                      {
                        "type": "scattergeo",
                        "marker": {
                          "colorbar": {
                            "outlinewidth": 0,
                            "ticks": ""
                          }
                        }
                      }
                    ],
                    "scatterpolar": [
                      {
                        "type": "scatterpolar",
                        "marker": {
                          "colorbar": {
                            "outlinewidth": 0,
                            "ticks": ""
                          }
                        }
                      }
                    ],
                    "histogram": [
                      {
                        "marker": {
                          "pattern": {
                            "fillmode": "overlay",
                            "size": 10,
                            "solidity": 0.2
                          }
                        },
                        "type": "histogram"
                      }
                    ],
                    "scattergl": [
                      {
                        "type": "scattergl",
                        "marker": {
                          "colorbar": {
                            "outlinewidth": 0,
                            "ticks": ""
                          }
                        }
                      }
                    ],
                    "scatter3d": [
                      {
                        "type": "scatter3d",
                        "line": {
                          "colorbar": {
                            "outlinewidth": 0,
                            "ticks": ""
                          }
                        },
                        "marker": {
                          "colorbar": {
                            "outlinewidth": 0,
                            "ticks": ""
                          }
                        }
                      }
                    ],
                    "scattermapbox": [
                      {
                        "type": "scattermapbox",
                        "marker": {
                          "colorbar": {
                            "outlinewidth": 0,
                            "ticks": ""
                          }
                        }
                      }
                    ],
                    "scatterternary": [
                      {
                        "type": "scatterternary",
                        "marker": {
                          "colorbar": {
                            "outlinewidth": 0,
                            "ticks": ""
                          }
                        }
                      }
                    ],
                    "scattercarpet": [
                      {
                        "type": "scattercarpet",
                        "marker": {
                          "colorbar": {
                            "outlinewidth": 0,
                            "ticks": ""
                          }
                        }
                      }
                    ],
                    "carpet": [
                      {
                        "aaxis": {
                          "endlinecolor": "#2a3f5f",
                          "gridcolor": "white",
                          "linecolor": "white",
                          "minorgridcolor": "white",
                          "startlinecolor": "#2a3f5f"
                        },
                        "baxis": {
                          "endlinecolor": "#2a3f5f",
                          "gridcolor": "white",
                          "linecolor": "white",
                          "minorgridcolor": "white",
                          "startlinecolor": "#2a3f5f"
                        },
                        "type": "carpet"
                      }
                    ],
                    "table": [
                      {
                        "cells": {
                          "fill": {
                            "color": "#EBF0F8"
                          },
                          "line": {
                            "color": "white"
                          }
                        },
                        "header": {
                          "fill": {
                            "color": "#C8D4E3"
                          },
                          "line": {
                            "color": "white"
                          }
                        },
                        "type": "table"
                      }
                    ],
                    "barpolar": [
                      {
                        "marker": {
                          "line": {
                            "color": "#E5ECF6",
                            "width": 0.5
                          },
                          "pattern": {
                            "fillmode": "overlay",
                            "size": 10,
                            "solidity": 0.2
                          }
                        },
                        "type": "barpolar"
                      }
                    ],
                    "pie": [
                      {
                        "automargin": true,
                        "type": "pie"
                      }
                    ]
                  },
                  "layout": {
                    "autotypenumbers": "strict",
                    "colorway": [
                      "#636efa",
                      "#EF553B",
                      "#00cc96",
                      "#ab63fa",
                      "#FFA15A",
                      "#19d3f3",
                      "#FF6692",
                      "#B6E880",
                      "#FF97FF",
                      "#FECB52"
                    ],
                    "font": {
                      "color": "#2a3f5f"
                    },
                    "hovermode": "closest",
                    "hoverlabel": {
                      "align": "left"
                    },
                    "paper_bgcolor": "white",
                    "plot_bgcolor": "#E5ECF6",
                    "polar": {
                      "bgcolor": "#E5ECF6",
                      "angularaxis": {
                        "gridcolor": "white",
                        "linecolor": "white",
                        "ticks": ""
                      },
                      "radialaxis": {
                        "gridcolor": "white",
                        "linecolor": "white",
                        "ticks": ""
                      }
                    },
                    "ternary": {
                      "bgcolor": "#E5ECF6",
                      "aaxis": {
                        "gridcolor": "white",
                        "linecolor": "white",
                        "ticks": ""
                      },
                      "baxis": {
                        "gridcolor": "white",
                        "linecolor": "white",
                        "ticks": ""
                      },
                      "caxis": {
                        "gridcolor": "white",
                        "linecolor": "white",
                        "ticks": ""
                      }
                    },
                    "coloraxis": {
                      "colorbar": {
                        "outlinewidth": 0,
                        "ticks": ""
                      }
                    },
                    "colorscale": {
                      "sequential": [
                        [
                          0,
                          "#0d0887"
                        ],
                        [
                          0.1111111111111111,
                          "#46039f"
                        ],
                        [
                          0.2222222222222222,
                          "#7201a8"
                        ],
                        [
                          0.3333333333333333,
                          "#9c179e"
                        ],
                        [
                          0.4444444444444444,
                          "#bd3786"
                        ],
                        [
                          0.5555555555555556,
                          "#d8576b"
                        ],
                        [
                          0.6666666666666666,
                          "#ed7953"
                        ],
                        [
                          0.7777777777777778,
                          "#fb9f3a"
                        ],
                        [
                          0.8888888888888888,
                          "#fdca26"
                        ],
                        [
                          1,
                          "#f0f921"
                        ]
                      ],
                      "sequentialminus": [
                        [
                          0,
                          "#0d0887"
                        ],
                        [
                          0.1111111111111111,
                          "#46039f"
                        ],
                        [
                          0.2222222222222222,
                          "#7201a8"
                        ],
                        [
                          0.3333333333333333,
                          "#9c179e"
                        ],
                        [
                          0.4444444444444444,
                          "#bd3786"
                        ],
                        [
                          0.5555555555555556,
                          "#d8576b"
                        ],
                        [
                          0.6666666666666666,
                          "#ed7953"
                        ],
                        [
                          0.7777777777777778,
                          "#fb9f3a"
                        ],
                        [
                          0.8888888888888888,
                          "#fdca26"
                        ],
                        [
                          1,
                          "#f0f921"
                        ]
                      ],
                      "diverging": [
                        [
                          0,
                          "#8e0152"
                        ],
                        [
                          0.1,
                          "#c51b7d"
                        ],
                        [
                          0.2,
                          "#de77ae"
                        ],
                        [
                          0.3,
                          "#f1b6da"
                        ],
                        [
                          0.4,
                          "#fde0ef"
                        ],
                        [
                          0.5,
                          "#f7f7f7"
                        ],
                        [
                          0.6,
                          "#e6f5d0"
                        ],
                        [
                          0.7,
                          "#b8e186"
                        ],
                        [
                          0.8,
                          "#7fbc41"
                        ],
                        [
                          0.9,
                          "#4d9221"
                        ],
                        [
                          1,
                          "#276419"
                        ]
                      ]
                    },
                    "xaxis": {
                      "gridcolor": "white",
                      "linecolor": "white",
                      "ticks": "",
                      "title": {
                        "standoff": 15
                      },
                      "zerolinecolor": "white",
                      "automargin": true,
                      "zerolinewidth": 2
                    },
                    "yaxis": {
                      "gridcolor": "white",
                      "linecolor": "white",
                      "ticks": "",
                      "title": {
                        "standoff": 15
                      },
                      "zerolinecolor": "white",
                      "automargin": true,
                      "zerolinewidth": 2
                    },
                    "scene": {
                      "xaxis": {
                        "backgroundcolor": "#E5ECF6",
                        "gridcolor": "white",
                        "linecolor": "white",
                        "showbackground": true,
                        "ticks": "",
                        "zerolinecolor": "white",
                        "gridwidth": 2
                      },
                      "yaxis": {
                        "backgroundcolor": "#E5ECF6",
                        "gridcolor": "white",
                        "linecolor": "white",
                        "showbackground": true,
                        "ticks": "",
                        "zerolinecolor": "white",
                        "gridwidth": 2
                      },
                      "zaxis": {
                        "backgroundcolor": "#E5ECF6",
                        "gridcolor": "white",
                        "linecolor": "white",
                        "showbackground": true,
                        "ticks": "",
                        "zerolinecolor": "white",
                        "gridwidth": 2
                      }
                    },
                    "shapedefaults": {
                      "line": {
                        "color": "#2a3f5f"
                      }
                    },
                    "annotationdefaults": {
                      "arrowcolor": "#2a3f5f",
                      "arrowhead": 0,
                      "arrowwidth": 1
                    },
                    "geo": {
                      "bgcolor": "white",
                      "landcolor": "#E5ECF6",
                      "subunitcolor": "white",
                      "showland": true,
                      "showlakes": true,
                      "lakecolor": "white"
                    },
                    "title": {
                      "x": 0.05
                    },
                    "mapbox": {
                      "style": "light"
                    }
                  }
                },
                "title": {
                  "text": "30-Day Revenue Forecast with Confidence Intervals"
                },
                "xaxis": {
                  "title": {
                    "text": "Date"
                  }
                },
                "yaxis": {
                  "title": {
                    "text": "Daily Revenue (£)"
                  }
                },
                "hovermode": "x unified"
              },
              "config": {
                "plotlyServerURL": "https://plot.ly"
              }
            }
          },
          "execution_count": null,
          "metadata": {},
          "output_type": "execute_result"
        }
      ]
    },
    {
      "cell_type": "markdown",
      "source": [
        "## Final Forecast Model Interpretation\n",
        "\n",
        "### Improvement from 1st pass to 2nd pass\n",
        "By removing outliers and rows where actual revenue = 0, my model improved. The forecast (pink shaded area) now shows reasonable values based on historical patterns and the forecast does not dip heavily into negative values like before.\n",
        "\n",
        "### seasonality capture\n",
        "The model appears to have captured the high volatility and seasonal patterns in the new filtered data well. The actual revenue shows significant day-to-day variation (£5k to £60k range), and the forecast confidence intervals now appropriately reflect this uncertainty.\n",
        "\n",
        "### business application\n",
        "The confidence intervals can be used for planning. The wide bands reflect the genuine uncertainty in a volatile revenue stream, which is valuable information for business decision-making."
      ],
      "metadata": {
        "id": "23uIAy81Xr4Z"
      }
    },
    {
      "cell_type": "code",
      "source": [
        "# Main forecast plot\n",
        "fig1 = model.plot(forecast)\n",
        "fig1.suptitle('Daily Revenue Forecast', fontsize=16)\n",
        "\n",
        "# Components plot\n",
        "fig2 = model.plot_components(forecast)\n",
        "fig2.suptitle('Forecast Components Analysis', fontsize=16)\n",
        "\n",
        "# Interactive Plotly version\n",
        "fig3 = go.Figure()\n",
        "\n",
        "# Add actual data\n",
        "fig3.add_trace(go.Scatter(\n",
        "    x=daily_sales['ds'],\n",
        "    y=daily_sales['y'],\n",
        "    mode='lines',\n",
        "    name='Actual Revenue',\n",
        "    line=dict(color='purple')\n",
        "))\n",
        "\n",
        "# Add forecast\n",
        "forecast_future = forecast[forecast['ds'] > daily_sales['ds'].max()]\n",
        "fig3.add_trace(go.Scatter(\n",
        "    x=forecast_future['ds'],\n",
        "    y=forecast_future['yhat'],\n",
        "    mode='lines',\n",
        "    name='Forecast',\n",
        "    line=dict(color='pink')\n",
        "))\n",
        "\n",
        "# Add confidence intervals\n",
        "fig3.add_trace(go.Scatter(\n",
        "    x=forecast_future['ds'],\n",
        "    y=forecast_future['yhat_upper'],\n",
        "    fill=None,\n",
        "    mode='lines',\n",
        "    line_color='rgba(0,0,0,0)',\n",
        "    showlegend=True\n",
        "))\n",
        "\n",
        "fig3.add_trace(go.Scatter(\n",
        "    x=forecast_future['ds'],\n",
        "    y=forecast_future['yhat_lower'],\n",
        "    fill='tonexty',\n",
        "    mode='lines',\n",
        "    line_color='rgba(0,0,0,0)',\n",
        "    name='Confidence Interval',\n",
        "    fillcolor='rgba(255,0,0,0.2)'\n",
        "))\n",
        "\n",
        "fig3.update_layout(\n",
        "    title='30-Day Revenue Forecast with Confidence Intervals',\n",
        "    xaxis_title='Date',\n",
        "    yaxis_title='Daily Revenue (£)',\n",
        "    hovermode='x unified'\n",
        ")\n",
        "\n",
        "fig3.show()"
      ],
      "metadata": {
        "id": "kyEuUg6CXr4Z",
        "outputId": "2c8ad2a6-5df3-4536-f12b-a0845f4b2106"
      },
      "execution_count": null,
      "outputs": [
        {
          "data": {
            "application/vnd.plotly.v1+json": {
              "data": [
                {
                  "line": {
                    "color": "purple"
                  },
                  "mode": "lines",
                  "name": "Actual Revenue",
                  "x": [
                    "2010-12-01T00:00:00",
                    "2010-12-02T00:00:00",
                    "2010-12-03T00:00:00",
                    "2010-12-04T00:00:00",
                    "2010-12-05T00:00:00",
                    "2010-12-06T00:00:00",
                    "2010-12-07T00:00:00",
                    "2010-12-08T00:00:00",
                    "2010-12-09T00:00:00",
                    "2010-12-10T00:00:00",
                    "2010-12-11T00:00:00",
                    "2010-12-12T00:00:00",
                    "2010-12-13T00:00:00",
                    "2010-12-14T00:00:00",
                    "2010-12-15T00:00:00",
                    "2010-12-16T00:00:00",
                    "2010-12-17T00:00:00",
                    "2010-12-18T00:00:00",
                    "2010-12-19T00:00:00",
                    "2010-12-20T00:00:00",
                    "2010-12-21T00:00:00",
                    "2010-12-22T00:00:00",
                    "2010-12-23T00:00:00",
                    "2010-12-24T00:00:00",
                    "2010-12-25T00:00:00",
                    "2010-12-26T00:00:00",
                    "2010-12-27T00:00:00",
                    "2010-12-28T00:00:00",
                    "2010-12-29T00:00:00",
                    "2010-12-30T00:00:00",
                    "2010-12-31T00:00:00",
                    "2011-01-01T00:00:00",
                    "2011-01-02T00:00:00",
                    "2011-01-03T00:00:00",
                    "2011-01-04T00:00:00",
                    "2011-01-05T00:00:00",
                    "2011-01-06T00:00:00",
                    "2011-01-07T00:00:00",
                    "2011-01-08T00:00:00",
                    "2011-01-09T00:00:00",
                    "2011-01-10T00:00:00",
                    "2011-01-11T00:00:00",
                    "2011-01-12T00:00:00",
                    "2011-01-13T00:00:00",
                    "2011-01-14T00:00:00",
                    "2011-01-15T00:00:00",
                    "2011-01-16T00:00:00",
                    "2011-01-17T00:00:00",
                    "2011-01-18T00:00:00",
                    "2011-01-19T00:00:00",
                    "2011-01-20T00:00:00",
                    "2011-01-21T00:00:00",
                    "2011-01-22T00:00:00",
                    "2011-01-23T00:00:00",
                    "2011-01-24T00:00:00",
                    "2011-01-25T00:00:00",
                    "2011-01-26T00:00:00",
                    "2011-01-27T00:00:00",
                    "2011-01-28T00:00:00",
                    "2011-01-29T00:00:00",
                    "2011-01-30T00:00:00",
                    "2011-01-31T00:00:00",
                    "2011-02-01T00:00:00",
                    "2011-02-02T00:00:00",
                    "2011-02-03T00:00:00",
                    "2011-02-04T00:00:00",
                    "2011-02-05T00:00:00",
                    "2011-02-06T00:00:00",
                    "2011-02-07T00:00:00",
                    "2011-02-08T00:00:00",
                    "2011-02-09T00:00:00",
                    "2011-02-10T00:00:00",
                    "2011-02-11T00:00:00",
                    "2011-02-12T00:00:00",
                    "2011-02-13T00:00:00",
                    "2011-02-14T00:00:00",
                    "2011-02-15T00:00:00",
                    "2011-02-16T00:00:00",
                    "2011-02-17T00:00:00",
                    "2011-02-18T00:00:00",
                    "2011-02-19T00:00:00",
                    "2011-02-20T00:00:00",
                    "2011-02-21T00:00:00",
                    "2011-02-22T00:00:00",
                    "2011-02-23T00:00:00",
                    "2011-02-24T00:00:00",
                    "2011-02-25T00:00:00",
                    "2011-02-26T00:00:00",
                    "2011-02-27T00:00:00",
                    "2011-02-28T00:00:00",
                    "2011-03-01T00:00:00",
                    "2011-03-02T00:00:00",
                    "2011-03-03T00:00:00",
                    "2011-03-04T00:00:00",
                    "2011-03-05T00:00:00",
                    "2011-03-06T00:00:00",
                    "2011-03-07T00:00:00",
                    "2011-03-08T00:00:00",
                    "2011-03-09T00:00:00",
                    "2011-03-10T00:00:00",
                    "2011-03-11T00:00:00",
                    "2011-03-12T00:00:00",
                    "2011-03-13T00:00:00",
                    "2011-03-14T00:00:00",
                    "2011-03-15T00:00:00",
                    "2011-03-16T00:00:00",
                    "2011-03-17T00:00:00",
                    "2011-03-18T00:00:00",
                    "2011-03-19T00:00:00",
                    "2011-03-20T00:00:00",
                    "2011-03-21T00:00:00",
                    "2011-03-22T00:00:00",
                    "2011-03-23T00:00:00",
                    "2011-03-24T00:00:00",
                    "2011-03-25T00:00:00",
                    "2011-03-26T00:00:00",
                    "2011-03-27T00:00:00",
                    "2011-03-28T00:00:00",
                    "2011-03-29T00:00:00",
                    "2011-03-30T00:00:00",
                    "2011-03-31T00:00:00",
                    "2011-04-01T00:00:00",
                    "2011-04-02T00:00:00",
                    "2011-04-03T00:00:00",
                    "2011-04-04T00:00:00",
                    "2011-04-05T00:00:00",
                    "2011-04-06T00:00:00",
                    "2011-04-07T00:00:00",
                    "2011-04-08T00:00:00",
                    "2011-04-09T00:00:00",
                    "2011-04-10T00:00:00",
                    "2011-04-11T00:00:00",
                    "2011-04-12T00:00:00",
                    "2011-04-13T00:00:00",
                    "2011-04-14T00:00:00",
                    "2011-04-15T00:00:00",
                    "2011-04-16T00:00:00",
                    "2011-04-17T00:00:00",
                    "2011-04-18T00:00:00",
                    "2011-04-19T00:00:00",
                    "2011-04-20T00:00:00",
                    "2011-04-21T00:00:00",
                    "2011-04-22T00:00:00",
                    "2011-04-23T00:00:00",
                    "2011-04-24T00:00:00",
                    "2011-04-25T00:00:00",
                    "2011-04-26T00:00:00",
                    "2011-04-27T00:00:00",
                    "2011-04-28T00:00:00",
                    "2011-04-29T00:00:00",
                    "2011-04-30T00:00:00",
                    "2011-05-01T00:00:00",
                    "2011-05-02T00:00:00",
                    "2011-05-03T00:00:00",
                    "2011-05-04T00:00:00",
                    "2011-05-05T00:00:00",
                    "2011-05-06T00:00:00",
                    "2011-05-07T00:00:00",
                    "2011-05-08T00:00:00",
                    "2011-05-09T00:00:00",
                    "2011-05-10T00:00:00",
                    "2011-05-11T00:00:00",
                    "2011-05-12T00:00:00",
                    "2011-05-13T00:00:00",
                    "2011-05-14T00:00:00",
                    "2011-05-15T00:00:00",
                    "2011-05-16T00:00:00",
                    "2011-05-17T00:00:00",
                    "2011-05-18T00:00:00",
                    "2011-05-19T00:00:00",
                    "2011-05-20T00:00:00",
                    "2011-05-21T00:00:00",
                    "2011-05-22T00:00:00",
                    "2011-05-23T00:00:00",
                    "2011-05-24T00:00:00",
                    "2011-05-25T00:00:00",
                    "2011-05-26T00:00:00",
                    "2011-05-27T00:00:00",
                    "2011-05-28T00:00:00",
                    "2011-05-29T00:00:00",
                    "2011-05-30T00:00:00",
                    "2011-05-31T00:00:00",
                    "2011-06-01T00:00:00",
                    "2011-06-02T00:00:00",
                    "2011-06-03T00:00:00",
                    "2011-06-04T00:00:00",
                    "2011-06-05T00:00:00",
                    "2011-06-06T00:00:00",
                    "2011-06-07T00:00:00",
                    "2011-06-08T00:00:00",
                    "2011-06-09T00:00:00",
                    "2011-06-10T00:00:00",
                    "2011-06-11T00:00:00",
                    "2011-06-12T00:00:00",
                    "2011-06-13T00:00:00",
                    "2011-06-14T00:00:00",
                    "2011-06-15T00:00:00",
                    "2011-06-16T00:00:00",
                    "2011-06-17T00:00:00",
                    "2011-06-18T00:00:00",
                    "2011-06-19T00:00:00",
                    "2011-06-20T00:00:00",
                    "2011-06-21T00:00:00",
                    "2011-06-22T00:00:00",
                    "2011-06-23T00:00:00",
                    "2011-06-24T00:00:00",
                    "2011-06-25T00:00:00",
                    "2011-06-26T00:00:00",
                    "2011-06-27T00:00:00",
                    "2011-06-28T00:00:00",
                    "2011-06-29T00:00:00",
                    "2011-06-30T00:00:00",
                    "2011-07-01T00:00:00",
                    "2011-07-02T00:00:00",
                    "2011-07-03T00:00:00",
                    "2011-07-04T00:00:00",
                    "2011-07-05T00:00:00",
                    "2011-07-06T00:00:00",
                    "2011-07-07T00:00:00",
                    "2011-07-08T00:00:00",
                    "2011-07-09T00:00:00",
                    "2011-07-10T00:00:00",
                    "2011-07-11T00:00:00",
                    "2011-07-12T00:00:00",
                    "2011-07-13T00:00:00",
                    "2011-07-14T00:00:00",
                    "2011-07-15T00:00:00",
                    "2011-07-16T00:00:00",
                    "2011-07-17T00:00:00",
                    "2011-07-18T00:00:00",
                    "2011-07-19T00:00:00",
                    "2011-07-20T00:00:00",
                    "2011-07-21T00:00:00",
                    "2011-07-22T00:00:00",
                    "2011-07-23T00:00:00",
                    "2011-07-24T00:00:00",
                    "2011-07-25T00:00:00",
                    "2011-07-26T00:00:00",
                    "2011-07-27T00:00:00",
                    "2011-07-28T00:00:00",
                    "2011-07-29T00:00:00",
                    "2011-07-30T00:00:00",
                    "2011-07-31T00:00:00",
                    "2011-08-01T00:00:00",
                    "2011-08-02T00:00:00",
                    "2011-08-03T00:00:00",
                    "2011-08-04T00:00:00",
                    "2011-08-05T00:00:00",
                    "2011-08-06T00:00:00",
                    "2011-08-07T00:00:00",
                    "2011-08-08T00:00:00",
                    "2011-08-09T00:00:00",
                    "2011-08-10T00:00:00",
                    "2011-08-11T00:00:00",
                    "2011-08-12T00:00:00",
                    "2011-08-13T00:00:00",
                    "2011-08-14T00:00:00",
                    "2011-08-15T00:00:00",
                    "2011-08-16T00:00:00",
                    "2011-08-17T00:00:00",
                    "2011-08-18T00:00:00",
                    "2011-08-19T00:00:00",
                    "2011-08-20T00:00:00",
                    "2011-08-21T00:00:00",
                    "2011-08-22T00:00:00",
                    "2011-08-23T00:00:00",
                    "2011-08-24T00:00:00",
                    "2011-08-25T00:00:00",
                    "2011-08-26T00:00:00",
                    "2011-08-27T00:00:00",
                    "2011-08-28T00:00:00",
                    "2011-08-29T00:00:00",
                    "2011-08-30T00:00:00",
                    "2011-08-31T00:00:00",
                    "2011-09-01T00:00:00",
                    "2011-09-02T00:00:00",
                    "2011-09-03T00:00:00",
                    "2011-09-04T00:00:00",
                    "2011-09-05T00:00:00",
                    "2011-09-06T00:00:00",
                    "2011-09-07T00:00:00",
                    "2011-09-08T00:00:00",
                    "2011-09-09T00:00:00",
                    "2011-09-10T00:00:00",
                    "2011-09-11T00:00:00",
                    "2011-09-12T00:00:00",
                    "2011-09-13T00:00:00",
                    "2011-09-14T00:00:00",
                    "2011-09-15T00:00:00",
                    "2011-09-16T00:00:00",
                    "2011-09-17T00:00:00",
                    "2011-09-18T00:00:00",
                    "2011-09-19T00:00:00",
                    "2011-09-20T00:00:00",
                    "2011-09-21T00:00:00",
                    "2011-09-22T00:00:00",
                    "2011-09-23T00:00:00",
                    "2011-09-24T00:00:00",
                    "2011-09-25T00:00:00",
                    "2011-09-26T00:00:00",
                    "2011-09-27T00:00:00",
                    "2011-09-28T00:00:00",
                    "2011-09-29T00:00:00",
                    "2011-09-30T00:00:00",
                    "2011-10-01T00:00:00",
                    "2011-10-02T00:00:00",
                    "2011-10-03T00:00:00",
                    "2011-10-04T00:00:00",
                    "2011-10-05T00:00:00",
                    "2011-10-06T00:00:00",
                    "2011-10-07T00:00:00",
                    "2011-10-08T00:00:00",
                    "2011-10-09T00:00:00",
                    "2011-10-10T00:00:00",
                    "2011-10-11T00:00:00",
                    "2011-10-12T00:00:00",
                    "2011-10-13T00:00:00",
                    "2011-10-14T00:00:00",
                    "2011-10-15T00:00:00",
                    "2011-10-16T00:00:00",
                    "2011-10-17T00:00:00",
                    "2011-10-18T00:00:00",
                    "2011-10-19T00:00:00",
                    "2011-10-20T00:00:00",
                    "2011-10-21T00:00:00",
                    "2011-10-22T00:00:00",
                    "2011-10-23T00:00:00",
                    "2011-10-24T00:00:00",
                    "2011-10-25T00:00:00",
                    "2011-10-26T00:00:00",
                    "2011-10-27T00:00:00",
                    "2011-10-28T00:00:00",
                    "2011-10-29T00:00:00",
                    "2011-10-30T00:00:00",
                    "2011-10-31T00:00:00",
                    "2011-11-01T00:00:00",
                    "2011-11-02T00:00:00",
                    "2011-11-03T00:00:00",
                    "2011-11-04T00:00:00",
                    "2011-11-05T00:00:00",
                    "2011-11-06T00:00:00",
                    "2011-11-07T00:00:00",
                    "2011-11-08T00:00:00",
                    "2011-11-09T00:00:00",
                    "2011-11-10T00:00:00",
                    "2011-11-11T00:00:00",
                    "2011-11-12T00:00:00",
                    "2011-11-13T00:00:00",
                    "2011-11-14T00:00:00",
                    "2011-11-15T00:00:00",
                    "2011-11-16T00:00:00",
                    "2011-11-17T00:00:00",
                    "2011-11-18T00:00:00",
                    "2011-11-19T00:00:00",
                    "2011-11-20T00:00:00",
                    "2011-11-21T00:00:00",
                    "2011-11-22T00:00:00",
                    "2011-11-23T00:00:00",
                    "2011-11-24T00:00:00",
                    "2011-11-25T00:00:00",
                    "2011-11-26T00:00:00",
                    "2011-11-27T00:00:00",
                    "2011-11-28T00:00:00",
                    "2011-11-29T00:00:00",
                    "2011-11-30T00:00:00",
                    "2011-12-01T00:00:00",
                    "2011-12-02T00:00:00",
                    "2011-12-03T00:00:00",
                    "2011-12-04T00:00:00",
                    "2011-12-05T00:00:00",
                    "2011-12-06T00:00:00",
                    "2011-12-07T00:00:00",
                    "2011-12-08T00:00:00"
                  ],
                  "y": [
                    46376.49,
                    47316.53,
                    23921.71,
                    0,
                    31771.6,
                    31215.64,
                    53795.31,
                    39248.82,
                    38231.9,
                    33650.28,
                    0,
                    17305.77,
                    27642.68,
                    29322.3,
                    30311.72,
                    49030.08,
                    20046.56,
                    0,
                    7417.39,
                    19621.96,
                    15951.66,
                    4886.52,
                    5648.97,
                    0,
                    0,
                    0,
                    0,
                    0,
                    0,
                    0,
                    0,
                    0,
                    0,
                    0,
                    12125.460000000001,
                    28803.63,
                    34360.19,
                    23797.79,
                    0,
                    15778.2,
                    15346.83,
                    60268.78,
                    17153.94,
                    15171.31,
                    39532.02,
                    0,
                    7242.06,
                    16597.35,
                    87589.11,
                    21646.78,
                    15244.73,
                    24279.76,
                    0,
                    10400.25,
                    17632.37,
                    24119.3,
                    17490.82,
                    22157.03,
                    17273.5,
                    0,
                    6615.75,
                    18818.08,
                    26376.5,
                    17145.23,
                    22184,
                    18114.31,
                    0,
                    3457.11,
                    23415.01,
                    14168.03,
                    11920.78,
                    14198.51,
                    18599.46,
                    0,
                    5713.63,
                    23003.99,
                    37784.65,
                    23499.22,
                    17674.79,
                    14463.06,
                    0,
                    9624.69,
                    32801.73,
                    29160.48,
                    19348.07,
                    21472.89,
                    18377.69,
                    0,
                    9526.5,
                    15107.02,
                    23631.87,
                    18686.99,
                    32855.05,
                    17322.47,
                    0,
                    9997.42,
                    20285.68,
                    22230.61,
                    20345.87,
                    24431.72,
                    20896,
                    0,
                    4148.12,
                    26009.25,
                    14936.43,
                    21820.66,
                    32028.94,
                    23398.74,
                    0,
                    20084.8,
                    16051.05,
                    19064.29,
                    21578.8,
                    36697.14,
                    27302.75,
                    0,
                    9224.4,
                    20005.16,
                    37190.52,
                    29587.420000000002,
                    25688.61,
                    24586.82,
                    0,
                    6918.5,
                    29017.77,
                    28759.37,
                    12722.32,
                    16827.77,
                    22720.71,
                    0,
                    9913.98,
                    20184.14,
                    24023.96,
                    24484.420000000002,
                    35702.7,
                    18021.481,
                    0,
                    12725.5,
                    43713.56,
                    18853.04,
                    25718.95,
                    27804.47,
                    0,
                    0,
                    0,
                    0,
                    21584.41,
                    23593.2,
                    21323.29,
                    0,
                    0,
                    6973.66,
                    0,
                    28910.41,
                    27532,
                    25232.67,
                    30786.7,
                    0,
                    18867.4,
                    21624.41,
                    29870.7,
                    31887.7,
                    59901.56,
                    25885.83,
                    0,
                    9680.05,
                    35706.7,
                    46406.09,
                    32882.87,
                    31553.51,
                    25489.66,
                    0,
                    24231.09,
                    31307.49,
                    32462.48,
                    21884.93,
                    32764.38,
                    21163.32,
                    0,
                    7394.3,
                    0,
                    18194.65,
                    15390.89,
                    28104.56,
                    15042.26,
                    0,
                    25639.54,
                    16290.98,
                    33908.26,
                    30192.13,
                    42910.38,
                    58245.12,
                    0,
                    12472.210000000001,
                    19719.11,
                    33334.47,
                    45077.54,
                    32307.77,
                    19059.23,
                    0,
                    22442.18,
                    26136.73,
                    19850.66,
                    21170.42,
                    22556.81,
                    16021.710000000001,
                    0,
                    7082.49,
                    13412.2,
                    30532.37,
                    12570.63,
                    41743.04,
                    12189.29,
                    0,
                    6032.39,
                    30985.170000000002,
                    25992.260000000002,
                    22960.48,
                    27893.66,
                    17558.3,
                    0,
                    5993.87,
                    20080.03,
                    17948.19,
                    19432.85,
                    32020.91,
                    11857.300000000001,
                    0,
                    16958.6,
                    22018.36,
                    46599.08,
                    27076.97,
                    30394.71,
                    14633.77,
                    0,
                    26796.92,
                    19687.31,
                    17293.001,
                    22855.32,
                    54198.37,
                    17240.61,
                    0,
                    33393.29,
                    19808.4,
                    20277.05,
                    26617.77,
                    62079.61,
                    19825.4,
                    0,
                    7576.96,
                    19758.62,
                    25957.12,
                    19861.56,
                    54386.17,
                    17970.170000000002,
                    0,
                    5718.57,
                    17243.97,
                    16077.84,
                    48769.64,
                    54082.81,
                    17339.59,
                    0,
                    14566.84,
                    29623.18,
                    22399.11,
                    38617.01,
                    22495.29,
                    24111.64,
                    0,
                    10805.03,
                    0,
                    8833.710000000001,
                    20540.84,
                    37370.15,
                    30297.05,
                    0,
                    17005.03,
                    35698.7,
                    25495.82,
                    21967.420000000002,
                    23188.3,
                    25142.15,
                    0,
                    35511.67,
                    27989.4,
                    48162.25,
                    22027.95,
                    71993.67,
                    23248.98,
                    0,
                    15745.73,
                    46607.22,
                    103435.81,
                    38503.06,
                    57869.36,
                    31781.1,
                    0,
                    31372.661,
                    29329.841,
                    29274.36,
                    39057.89,
                    44729.37,
                    40033.44,
                    0,
                    11582.95,
                    62275.95,
                    38690.2,
                    74108.43,
                    60387.8,
                    49187.67,
                    0,
                    12466.81,
                    43080.32,
                    46436.77,
                    27731.37,
                    33039.18,
                    32124.68,
                    0,
                    22010.96,
                    47005.24,
                    37302.4,
                    37333.52,
                    61064.06,
                    60417.26,
                    0,
                    12339.16,
                    39315.28,
                    36235.95,
                    34435.32,
                    55837.14,
                    37290.57,
                    0,
                    34571.23,
                    33048.57,
                    29132.81,
                    38734.7,
                    60672.11,
                    56099.24,
                    0,
                    42941.340000000004,
                    28779.24,
                    38295.12,
                    61489.18,
                    70513.29,
                    37081.37,
                    0,
                    28607.78,
                    58777.71,
                    47729,
                    48439.76,
                    55885.3,
                    36751.25,
                    0,
                    30190.920000000002,
                    45333.13,
                    49664.89,
                    71979.93,
                    38579.11,
                    26674.66,
                    0,
                    17300.96,
                    51831.67,
                    48851.68,
                    41481.23,
                    44533.99,
                    44713.69,
                    0,
                    20375.96,
                    58202.21,
                    46144.04,
                    69354.21,
                    50519.41
                  ],
                  "type": "scatter"
                },
                {
                  "line": {
                    "color": "pink"
                  },
                  "mode": "lines",
                  "name": "Forecast",
                  "x": [
                    "2011-12-09T00:00:00",
                    "2011-12-10T00:00:00",
                    "2011-12-11T00:00:00",
                    "2011-12-12T00:00:00",
                    "2011-12-13T00:00:00",
                    "2011-12-14T00:00:00",
                    "2011-12-15T00:00:00",
                    "2011-12-16T00:00:00",
                    "2011-12-17T00:00:00",
                    "2011-12-18T00:00:00",
                    "2011-12-19T00:00:00",
                    "2011-12-20T00:00:00",
                    "2011-12-21T00:00:00",
                    "2011-12-22T00:00:00",
                    "2011-12-23T00:00:00",
                    "2011-12-24T00:00:00",
                    "2011-12-25T00:00:00",
                    "2011-12-26T00:00:00",
                    "2011-12-27T00:00:00",
                    "2011-12-28T00:00:00",
                    "2011-12-29T00:00:00",
                    "2011-12-30T00:00:00",
                    "2011-12-31T00:00:00",
                    "2012-01-01T00:00:00",
                    "2012-01-02T00:00:00",
                    "2012-01-03T00:00:00",
                    "2012-01-04T00:00:00",
                    "2012-01-05T00:00:00",
                    "2012-01-06T00:00:00",
                    "2012-01-07T00:00:00"
                  ],
                  "y": [
                    41414.13518385947,
                    7287.233451405538,
                    25632.381349642277,
                    39623.89614614953,
                    43512.3784231661,
                    38677.469810192335,
                    45582.79063357034,
                    29044.559219573708,
                    -6227.493101741457,
                    11630.29060492766,
                    25320.72241931656,
                    29062.8134194126,
                    24261.112428276127,
                    31563.0864368942,
                    15481.677407849775,
                    -19237.6934404595,
                    18643.586288429116,
                    15439.855248614285,
                    7061.885666372718,
                    12450.833247460669,
                    21656.767311077812,
                    7382.568872371994,
                    -25625.38072553078,
                    19086.935549889964,
                    -168.38400469897232,
                    25011.355656212436,
                    23687.147734965027,
                    34668.79546989507,
                    21787.151998796628,
                    -10202.878410411828
                  ],
                  "type": "scatter"
                },
                {
                  "line": {
                    "color": "rgba(0,0,0,0)"
                  },
                  "mode": "lines",
                  "showlegend": true,
                  "x": [
                    "2011-12-09T00:00:00",
                    "2011-12-10T00:00:00",
                    "2011-12-11T00:00:00",
                    "2011-12-12T00:00:00",
                    "2011-12-13T00:00:00",
                    "2011-12-14T00:00:00",
                    "2011-12-15T00:00:00",
                    "2011-12-16T00:00:00",
                    "2011-12-17T00:00:00",
                    "2011-12-18T00:00:00",
                    "2011-12-19T00:00:00",
                    "2011-12-20T00:00:00",
                    "2011-12-21T00:00:00",
                    "2011-12-22T00:00:00",
                    "2011-12-23T00:00:00",
                    "2011-12-24T00:00:00",
                    "2011-12-25T00:00:00",
                    "2011-12-26T00:00:00",
                    "2011-12-27T00:00:00",
                    "2011-12-28T00:00:00",
                    "2011-12-29T00:00:00",
                    "2011-12-30T00:00:00",
                    "2011-12-31T00:00:00",
                    "2012-01-01T00:00:00",
                    "2012-01-02T00:00:00",
                    "2012-01-03T00:00:00",
                    "2012-01-04T00:00:00",
                    "2012-01-05T00:00:00",
                    "2012-01-06T00:00:00",
                    "2012-01-07T00:00:00"
                  ],
                  "y": [
                    53536.51079656855,
                    20661.413890766864,
                    38576.039949819075,
                    52406.836152131626,
                    57497.28066007399,
                    51411.71962468055,
                    58070.898117919,
                    42088.93305111164,
                    5531.625045683474,
                    23994.504021345965,
                    38890.212671895686,
                    41021.39962958956,
                    37702.218913919816,
                    44573.72155082668,
                    27947.794737433032,
                    -5579.3947969547835,
                    31087.675115868366,
                    28230.15219623016,
                    19686.34453507897,
                    25180.9415119469,
                    34995.45968107487,
                    20183.735703603787,
                    -13070.75743235375,
                    31705.031592134772,
                    12713.130040149315,
                    37554.17046614018,
                    37652.45612306119,
                    47250.776020845624,
                    35008.94488823442,
                    2422.1469437241826
                  ],
                  "type": "scatter"
                },
                {
                  "fill": "tonexty",
                  "fillcolor": "rgba(255,0,0,0.2)",
                  "line": {
                    "color": "rgba(0,0,0,0)"
                  },
                  "mode": "lines",
                  "name": "Confidence Interval",
                  "x": [
                    "2011-12-09T00:00:00",
                    "2011-12-10T00:00:00",
                    "2011-12-11T00:00:00",
                    "2011-12-12T00:00:00",
                    "2011-12-13T00:00:00",
                    "2011-12-14T00:00:00",
                    "2011-12-15T00:00:00",
                    "2011-12-16T00:00:00",
                    "2011-12-17T00:00:00",
                    "2011-12-18T00:00:00",
                    "2011-12-19T00:00:00",
                    "2011-12-20T00:00:00",
                    "2011-12-21T00:00:00",
                    "2011-12-22T00:00:00",
                    "2011-12-23T00:00:00",
                    "2011-12-24T00:00:00",
                    "2011-12-25T00:00:00",
                    "2011-12-26T00:00:00",
                    "2011-12-27T00:00:00",
                    "2011-12-28T00:00:00",
                    "2011-12-29T00:00:00",
                    "2011-12-30T00:00:00",
                    "2011-12-31T00:00:00",
                    "2012-01-01T00:00:00",
                    "2012-01-02T00:00:00",
                    "2012-01-03T00:00:00",
                    "2012-01-04T00:00:00",
                    "2012-01-05T00:00:00",
                    "2012-01-06T00:00:00",
                    "2012-01-07T00:00:00"
                  ],
                  "y": [
                    29087.351129972594,
                    -6428.078409587723,
                    13084.41181263117,
                    26907.143893174365,
                    30310.80672637706,
                    25497.25515664037,
                    32563.58003887225,
                    15949.057710633295,
                    -19475.40583936494,
                    -1242.7299258449116,
                    12359.870093136782,
                    15756.584512272873,
                    11875.684468916264,
                    19543.215083589148,
                    2426.0304326162122,
                    -31041.841569510772,
                    5879.143917899533,
                    2862.804186506313,
                    -6047.628416148849,
                    -643.6260537156172,
                    9790.960611034752,
                    -5023.956884503007,
                    -37943.79037327918,
                    6037.904334228499,
                    -13480.835181829523,
                    12083.841903902037,
                    10190.503691943908,
                    22061.327391441133,
                    9062.547009815493,
                    -22939.54113960069
                  ],
                  "type": "scatter"
                }
              ],
              "layout": {
                "template": {
                  "data": {
                    "histogram2dcontour": [
                      {
                        "type": "histogram2dcontour",
                        "colorbar": {
                          "outlinewidth": 0,
                          "ticks": ""
                        },
                        "colorscale": [
                          [
                            0,
                            "#0d0887"
                          ],
                          [
                            0.1111111111111111,
                            "#46039f"
                          ],
                          [
                            0.2222222222222222,
                            "#7201a8"
                          ],
                          [
                            0.3333333333333333,
                            "#9c179e"
                          ],
                          [
                            0.4444444444444444,
                            "#bd3786"
                          ],
                          [
                            0.5555555555555556,
                            "#d8576b"
                          ],
                          [
                            0.6666666666666666,
                            "#ed7953"
                          ],
                          [
                            0.7777777777777778,
                            "#fb9f3a"
                          ],
                          [
                            0.8888888888888888,
                            "#fdca26"
                          ],
                          [
                            1,
                            "#f0f921"
                          ]
                        ]
                      }
                    ],
                    "choropleth": [
                      {
                        "type": "choropleth",
                        "colorbar": {
                          "outlinewidth": 0,
                          "ticks": ""
                        }
                      }
                    ],
                    "histogram2d": [
                      {
                        "type": "histogram2d",
                        "colorbar": {
                          "outlinewidth": 0,
                          "ticks": ""
                        },
                        "colorscale": [
                          [
                            0,
                            "#0d0887"
                          ],
                          [
                            0.1111111111111111,
                            "#46039f"
                          ],
                          [
                            0.2222222222222222,
                            "#7201a8"
                          ],
                          [
                            0.3333333333333333,
                            "#9c179e"
                          ],
                          [
                            0.4444444444444444,
                            "#bd3786"
                          ],
                          [
                            0.5555555555555556,
                            "#d8576b"
                          ],
                          [
                            0.6666666666666666,
                            "#ed7953"
                          ],
                          [
                            0.7777777777777778,
                            "#fb9f3a"
                          ],
                          [
                            0.8888888888888888,
                            "#fdca26"
                          ],
                          [
                            1,
                            "#f0f921"
                          ]
                        ]
                      }
                    ],
                    "heatmap": [
                      {
                        "type": "heatmap",
                        "colorbar": {
                          "outlinewidth": 0,
                          "ticks": ""
                        },
                        "colorscale": [
                          [
                            0,
                            "#0d0887"
                          ],
                          [
                            0.1111111111111111,
                            "#46039f"
                          ],
                          [
                            0.2222222222222222,
                            "#7201a8"
                          ],
                          [
                            0.3333333333333333,
                            "#9c179e"
                          ],
                          [
                            0.4444444444444444,
                            "#bd3786"
                          ],
                          [
                            0.5555555555555556,
                            "#d8576b"
                          ],
                          [
                            0.6666666666666666,
                            "#ed7953"
                          ],
                          [
                            0.7777777777777778,
                            "#fb9f3a"
                          ],
                          [
                            0.8888888888888888,
                            "#fdca26"
                          ],
                          [
                            1,
                            "#f0f921"
                          ]
                        ]
                      }
                    ],
                    "heatmapgl": [
                      {
                        "type": "heatmapgl",
                        "colorbar": {
                          "outlinewidth": 0,
                          "ticks": ""
                        },
                        "colorscale": [
                          [
                            0,
                            "#0d0887"
                          ],
                          [
                            0.1111111111111111,
                            "#46039f"
                          ],
                          [
                            0.2222222222222222,
                            "#7201a8"
                          ],
                          [
                            0.3333333333333333,
                            "#9c179e"
                          ],
                          [
                            0.4444444444444444,
                            "#bd3786"
                          ],
                          [
                            0.5555555555555556,
                            "#d8576b"
                          ],
                          [
                            0.6666666666666666,
                            "#ed7953"
                          ],
                          [
                            0.7777777777777778,
                            "#fb9f3a"
                          ],
                          [
                            0.8888888888888888,
                            "#fdca26"
                          ],
                          [
                            1,
                            "#f0f921"
                          ]
                        ]
                      }
                    ],
                    "contourcarpet": [
                      {
                        "type": "contourcarpet",
                        "colorbar": {
                          "outlinewidth": 0,
                          "ticks": ""
                        }
                      }
                    ],
                    "contour": [
                      {
                        "type": "contour",
                        "colorbar": {
                          "outlinewidth": 0,
                          "ticks": ""
                        },
                        "colorscale": [
                          [
                            0,
                            "#0d0887"
                          ],
                          [
                            0.1111111111111111,
                            "#46039f"
                          ],
                          [
                            0.2222222222222222,
                            "#7201a8"
                          ],
                          [
                            0.3333333333333333,
                            "#9c179e"
                          ],
                          [
                            0.4444444444444444,
                            "#bd3786"
                          ],
                          [
                            0.5555555555555556,
                            "#d8576b"
                          ],
                          [
                            0.6666666666666666,
                            "#ed7953"
                          ],
                          [
                            0.7777777777777778,
                            "#fb9f3a"
                          ],
                          [
                            0.8888888888888888,
                            "#fdca26"
                          ],
                          [
                            1,
                            "#f0f921"
                          ]
                        ]
                      }
                    ],
                    "surface": [
                      {
                        "type": "surface",
                        "colorbar": {
                          "outlinewidth": 0,
                          "ticks": ""
                        },
                        "colorscale": [
                          [
                            0,
                            "#0d0887"
                          ],
                          [
                            0.1111111111111111,
                            "#46039f"
                          ],
                          [
                            0.2222222222222222,
                            "#7201a8"
                          ],
                          [
                            0.3333333333333333,
                            "#9c179e"
                          ],
                          [
                            0.4444444444444444,
                            "#bd3786"
                          ],
                          [
                            0.5555555555555556,
                            "#d8576b"
                          ],
                          [
                            0.6666666666666666,
                            "#ed7953"
                          ],
                          [
                            0.7777777777777778,
                            "#fb9f3a"
                          ],
                          [
                            0.8888888888888888,
                            "#fdca26"
                          ],
                          [
                            1,
                            "#f0f921"
                          ]
                        ]
                      }
                    ],
                    "mesh3d": [
                      {
                        "type": "mesh3d",
                        "colorbar": {
                          "outlinewidth": 0,
                          "ticks": ""
                        }
                      }
                    ],
                    "scatter": [
                      {
                        "fillpattern": {
                          "fillmode": "overlay",
                          "size": 10,
                          "solidity": 0.2
                        },
                        "type": "scatter"
                      }
                    ],
                    "parcoords": [
                      {
                        "type": "parcoords",
                        "line": {
                          "colorbar": {
                            "outlinewidth": 0,
                            "ticks": ""
                          }
                        }
                      }
                    ],
                    "scatterpolargl": [
                      {
                        "type": "scatterpolargl",
                        "marker": {
                          "colorbar": {
                            "outlinewidth": 0,
                            "ticks": ""
                          }
                        }
                      }
                    ],
                    "bar": [
                      {
                        "error_x": {
                          "color": "#2a3f5f"
                        },
                        "error_y": {
                          "color": "#2a3f5f"
                        },
                        "marker": {
                          "line": {
                            "color": "#E5ECF6",
                            "width": 0.5
                          },
                          "pattern": {
                            "fillmode": "overlay",
                            "size": 10,
                            "solidity": 0.2
                          }
                        },
                        "type": "bar"
                      }
                    ],
                    "scattergeo": [
                      {
                        "type": "scattergeo",
                        "marker": {
                          "colorbar": {
                            "outlinewidth": 0,
                            "ticks": ""
                          }
                        }
                      }
                    ],
                    "scatterpolar": [
                      {
                        "type": "scatterpolar",
                        "marker": {
                          "colorbar": {
                            "outlinewidth": 0,
                            "ticks": ""
                          }
                        }
                      }
                    ],
                    "histogram": [
                      {
                        "marker": {
                          "pattern": {
                            "fillmode": "overlay",
                            "size": 10,
                            "solidity": 0.2
                          }
                        },
                        "type": "histogram"
                      }
                    ],
                    "scattergl": [
                      {
                        "type": "scattergl",
                        "marker": {
                          "colorbar": {
                            "outlinewidth": 0,
                            "ticks": ""
                          }
                        }
                      }
                    ],
                    "scatter3d": [
                      {
                        "type": "scatter3d",
                        "line": {
                          "colorbar": {
                            "outlinewidth": 0,
                            "ticks": ""
                          }
                        },
                        "marker": {
                          "colorbar": {
                            "outlinewidth": 0,
                            "ticks": ""
                          }
                        }
                      }
                    ],
                    "scattermapbox": [
                      {
                        "type": "scattermapbox",
                        "marker": {
                          "colorbar": {
                            "outlinewidth": 0,
                            "ticks": ""
                          }
                        }
                      }
                    ],
                    "scatterternary": [
                      {
                        "type": "scatterternary",
                        "marker": {
                          "colorbar": {
                            "outlinewidth": 0,
                            "ticks": ""
                          }
                        }
                      }
                    ],
                    "scattercarpet": [
                      {
                        "type": "scattercarpet",
                        "marker": {
                          "colorbar": {
                            "outlinewidth": 0,
                            "ticks": ""
                          }
                        }
                      }
                    ],
                    "carpet": [
                      {
                        "aaxis": {
                          "endlinecolor": "#2a3f5f",
                          "gridcolor": "white",
                          "linecolor": "white",
                          "minorgridcolor": "white",
                          "startlinecolor": "#2a3f5f"
                        },
                        "baxis": {
                          "endlinecolor": "#2a3f5f",
                          "gridcolor": "white",
                          "linecolor": "white",
                          "minorgridcolor": "white",
                          "startlinecolor": "#2a3f5f"
                        },
                        "type": "carpet"
                      }
                    ],
                    "table": [
                      {
                        "cells": {
                          "fill": {
                            "color": "#EBF0F8"
                          },
                          "line": {
                            "color": "white"
                          }
                        },
                        "header": {
                          "fill": {
                            "color": "#C8D4E3"
                          },
                          "line": {
                            "color": "white"
                          }
                        },
                        "type": "table"
                      }
                    ],
                    "barpolar": [
                      {
                        "marker": {
                          "line": {
                            "color": "#E5ECF6",
                            "width": 0.5
                          },
                          "pattern": {
                            "fillmode": "overlay",
                            "size": 10,
                            "solidity": 0.2
                          }
                        },
                        "type": "barpolar"
                      }
                    ],
                    "pie": [
                      {
                        "automargin": true,
                        "type": "pie"
                      }
                    ]
                  },
                  "layout": {
                    "autotypenumbers": "strict",
                    "colorway": [
                      "#636efa",
                      "#EF553B",
                      "#00cc96",
                      "#ab63fa",
                      "#FFA15A",
                      "#19d3f3",
                      "#FF6692",
                      "#B6E880",
                      "#FF97FF",
                      "#FECB52"
                    ],
                    "font": {
                      "color": "#2a3f5f"
                    },
                    "hovermode": "closest",
                    "hoverlabel": {
                      "align": "left"
                    },
                    "paper_bgcolor": "white",
                    "plot_bgcolor": "#E5ECF6",
                    "polar": {
                      "bgcolor": "#E5ECF6",
                      "angularaxis": {
                        "gridcolor": "white",
                        "linecolor": "white",
                        "ticks": ""
                      },
                      "radialaxis": {
                        "gridcolor": "white",
                        "linecolor": "white",
                        "ticks": ""
                      }
                    },
                    "ternary": {
                      "bgcolor": "#E5ECF6",
                      "aaxis": {
                        "gridcolor": "white",
                        "linecolor": "white",
                        "ticks": ""
                      },
                      "baxis": {
                        "gridcolor": "white",
                        "linecolor": "white",
                        "ticks": ""
                      },
                      "caxis": {
                        "gridcolor": "white",
                        "linecolor": "white",
                        "ticks": ""
                      }
                    },
                    "coloraxis": {
                      "colorbar": {
                        "outlinewidth": 0,
                        "ticks": ""
                      }
                    },
                    "colorscale": {
                      "sequential": [
                        [
                          0,
                          "#0d0887"
                        ],
                        [
                          0.1111111111111111,
                          "#46039f"
                        ],
                        [
                          0.2222222222222222,
                          "#7201a8"
                        ],
                        [
                          0.3333333333333333,
                          "#9c179e"
                        ],
                        [
                          0.4444444444444444,
                          "#bd3786"
                        ],
                        [
                          0.5555555555555556,
                          "#d8576b"
                        ],
                        [
                          0.6666666666666666,
                          "#ed7953"
                        ],
                        [
                          0.7777777777777778,
                          "#fb9f3a"
                        ],
                        [
                          0.8888888888888888,
                          "#fdca26"
                        ],
                        [
                          1,
                          "#f0f921"
                        ]
                      ],
                      "sequentialminus": [
                        [
                          0,
                          "#0d0887"
                        ],
                        [
                          0.1111111111111111,
                          "#46039f"
                        ],
                        [
                          0.2222222222222222,
                          "#7201a8"
                        ],
                        [
                          0.3333333333333333,
                          "#9c179e"
                        ],
                        [
                          0.4444444444444444,
                          "#bd3786"
                        ],
                        [
                          0.5555555555555556,
                          "#d8576b"
                        ],
                        [
                          0.6666666666666666,
                          "#ed7953"
                        ],
                        [
                          0.7777777777777778,
                          "#fb9f3a"
                        ],
                        [
                          0.8888888888888888,
                          "#fdca26"
                        ],
                        [
                          1,
                          "#f0f921"
                        ]
                      ],
                      "diverging": [
                        [
                          0,
                          "#8e0152"
                        ],
                        [
                          0.1,
                          "#c51b7d"
                        ],
                        [
                          0.2,
                          "#de77ae"
                        ],
                        [
                          0.3,
                          "#f1b6da"
                        ],
                        [
                          0.4,
                          "#fde0ef"
                        ],
                        [
                          0.5,
                          "#f7f7f7"
                        ],
                        [
                          0.6,
                          "#e6f5d0"
                        ],
                        [
                          0.7,
                          "#b8e186"
                        ],
                        [
                          0.8,
                          "#7fbc41"
                        ],
                        [
                          0.9,
                          "#4d9221"
                        ],
                        [
                          1,
                          "#276419"
                        ]
                      ]
                    },
                    "xaxis": {
                      "gridcolor": "white",
                      "linecolor": "white",
                      "ticks": "",
                      "title": {
                        "standoff": 15
                      },
                      "zerolinecolor": "white",
                      "automargin": true,
                      "zerolinewidth": 2
                    },
                    "yaxis": {
                      "gridcolor": "white",
                      "linecolor": "white",
                      "ticks": "",
                      "title": {
                        "standoff": 15
                      },
                      "zerolinecolor": "white",
                      "automargin": true,
                      "zerolinewidth": 2
                    },
                    "scene": {
                      "xaxis": {
                        "backgroundcolor": "#E5ECF6",
                        "gridcolor": "white",
                        "linecolor": "white",
                        "showbackground": true,
                        "ticks": "",
                        "zerolinecolor": "white",
                        "gridwidth": 2
                      },
                      "yaxis": {
                        "backgroundcolor": "#E5ECF6",
                        "gridcolor": "white",
                        "linecolor": "white",
                        "showbackground": true,
                        "ticks": "",
                        "zerolinecolor": "white",
                        "gridwidth": 2
                      },
                      "zaxis": {
                        "backgroundcolor": "#E5ECF6",
                        "gridcolor": "white",
                        "linecolor": "white",
                        "showbackground": true,
                        "ticks": "",
                        "zerolinecolor": "white",
                        "gridwidth": 2
                      }
                    },
                    "shapedefaults": {
                      "line": {
                        "color": "#2a3f5f"
                      }
                    },
                    "annotationdefaults": {
                      "arrowcolor": "#2a3f5f",
                      "arrowhead": 0,
                      "arrowwidth": 1
                    },
                    "geo": {
                      "bgcolor": "white",
                      "landcolor": "#E5ECF6",
                      "subunitcolor": "white",
                      "showland": true,
                      "showlakes": true,
                      "lakecolor": "white"
                    },
                    "title": {
                      "x": 0.05
                    },
                    "mapbox": {
                      "style": "light"
                    }
                  }
                },
                "title": {
                  "text": "30-Day Revenue Forecast with Confidence Intervals"
                },
                "xaxis": {
                  "title": {
                    "text": "Date"
                  }
                },
                "yaxis": {
                  "title": {
                    "text": "Daily Revenue (£)"
                  }
                },
                "hovermode": "x unified"
              },
              "config": {
                "plotlyServerURL": "https://plot.ly"
              }
            }
          },
          "execution_count": null,
          "metadata": {},
          "output_type": "execute_result"
        },
        {
          "data": {
            "image/png": "[encoded data removed]"
          },
          "execution_count": null,
          "metadata": {},
          "output_type": "execute_result"
        },
        {
          "data": {
            "image/png": "[encoded data removed]"
          },
          "execution_count": null,
          "metadata": {},
          "output_type": "execute_result"
        }
      ]
    },
    {
      "cell_type": "markdown",
      "source": [
        "### Creating a summary for key insights"
      ],
      "metadata": {
        "id": "cXr57bScXr4Z"
      }
    },
    {
      "cell_type": "code",
      "source": [
        "# Key insights summary\n",
        "forecast_summary = forecast_future.groupby(forecast_future['ds'].dt.dayofweek).agg({\n",
        "    'yhat': 'mean',\n",
        "    'yhat_lower': 'mean',\n",
        "    'yhat_upper': 'mean'\n",
        "}).round(2)\n",
        "\n",
        "forecast_summary.index = ['Mon', 'Tue', 'Wed', 'Thu', 'Fri', 'Sat', 'Sun']\n",
        "print(\"Average Daily Forecast by Day of Week:\")\n",
        "print(forecast_summary)\n",
        "\n",
        "# Monthly projections\n",
        "monthly_forecast = forecast_future.groupby(forecast_future['ds'].dt.to_period('M')).agg({\n",
        "    'yhat': 'sum',\n",
        "    'yhat_lower': 'sum',\n",
        "    'yhat_upper': 'sum'\n",
        "}).round(2)\n",
        "\n",
        "print(f\"\\nMonthly Revenue Projection:\")\n",
        "print(monthly_forecast)\n"
      ],
      "metadata": {
        "id": "2DqSqPxIXr4a",
        "outputId": "6164039a-9764-4266-933c-9c602cbf00ae"
      },
      "execution_count": null,
      "outputs": [
        {
          "data": {
            "text/plain": "Average Daily Forecast by Day of Week:\n         yhat  yhat_lower  yhat_upper\nMon  20054.02     7162.25    33060.08\nTue  26162.11    13025.90    38939.80\nWed  24769.14    11729.95    37986.83\nThu  33367.86    20989.77    46222.71\nFri  23022.02    10300.21    35753.18\nSat -10801.24   -23565.73     1993.01\nSun  18748.30     5939.68    31340.81\n\nMonthly Revenue Projection:\n              yhat  yhat_lower  yhat_upper\nds                                        \n2011-12  439639.48   146046.84   734625.27\n2012-01  113870.12    23015.75   204306.66\n"
          },
          "execution_count": null,
          "metadata": {},
          "output_type": "execute_result"
        }
      ]
    },
    {
      "cell_type": "markdown",
      "source": [
        "**Why**: Day-of-week and monthly aggregations are exec friendly and nice and tidy\n",
        "\n"
      ],
      "metadata": {
        "id": "e_Ml-E-iXr4a"
      }
    },
    {
      "cell_type": "markdown",
      "source": [
        "## Experimenting with Hex Visualizations"
      ],
      "metadata": {
        "id": "sCOBP-qcXr4a"
      }
    },
    {
      "cell_type": "code",
      "source": [
        "monthly_forecast"
      ],
      "metadata": {
        "id": "j7KKX-q7Xr4a"
      },
      "execution_count": null,
      "outputs": []
    },
    {
      "cell_type": "code",
      "source": [
        "monthly_forecast"
      ],
      "metadata": {
        "id": "58hD0ShdXr4a"
      },
      "execution_count": null,
      "outputs": []
    },
    {
      "cell_type": "code",
      "source": [
        "monthly_forecast"
      ],
      "metadata": {
        "id": "LiZ5HV27Xr4a"
      },
      "execution_count": null,
      "outputs": []
    },
    {
      "cell_type": "code",
      "source": [
        "daily_sales"
      ],
      "metadata": {
        "id": "ngSw6X-CXr4a"
      },
      "execution_count": null,
      "outputs": []
    },
    {
      "cell_type": "code",
      "source": [
        "import altair\n",
        "chart_merged = altair.Chart.from_json(r\"\"\"\n",
        "{\n",
        "    \"width\": \"container\",\n",
        "    \"height\": \"container\",\n",
        "    \"$schema\": \"https://vega.github.io/schema/vega-lite/v5.json\",\n",
        "    \"layer\": [\n",
        "        {\n",
        "            \"description\": \"outer data layer\",\n",
        "            \"resolve\": {\n",
        "                \"scale\": {\n",
        "                    \"color\": \"independent\",\n",
        "                    \"y\": \"shared\"\n",
        "                }\n",
        "            },\n",
        "            \"layer\": [\n",
        "                {\n",
        "                    \"description\": \"series data layer\",\n",
        "                    \"name\": \"series_01977edc-1c9f-7aa8-868b-9a5c6592d25e\",\n",
        "                    \"layer\": [\n",
        "                        {\n",
        "                            \"description\": \"line series layer\",\n",
        "                            \"transform\": [\n",
        "                                {\n",
        "                                    \"fold\": [\n",
        "                                        \"y\",\n",
        "                                        \"yhat\",\n",
        "                                        \"yhat_upper\",\n",
        "                                        \"yhat_lower\"\n",
        "                                    ],\n",
        "                                    \"as\": [\n",
        "                                        \"CHART_FOLD_KEYS\",\n",
        "                                        \"CHART_FOLD_VALUES\"\n",
        "                                    ]\n",
        "                                },\n",
        "                                {\n",
        "                                    \"calculate\": \"if(datum[\\\"CHART_FOLD_KEYS\\\"] === \\\"y\\\", \\\"y\\\", if(datum[\\\"CHART_FOLD_KEYS\\\"] === \\\"yhat\\\", \\\"yhat\\\", if(datum[\\\"CHART_FOLD_KEYS\\\"] === \\\"yhat_upper\\\", \\\"yhat_upper\\\", if(datum[\\\"CHART_FOLD_KEYS\\\"] === \\\"yhat_lower\\\", \\\"yhat_lower\\\", \\\"\\\"))))\",\n",
        "                                    \"as\": \"CHART_FOLD_KEYS\"\n",
        "                                },\n",
        "                                {\n",
        "                                    \"joinaggregate\": [\n",
        "                                        {\n",
        "                                            \"field\": \"CHART_FOLD_VALUES\",\n",
        "                                            \"op\": \"sum\",\n",
        "                                            \"as\": \"sum_y_by_x\"\n",
        "                                        }\n",
        "                                    ],\n",
        "                                    \"groupby\": [\n",
        "                                        \"ds\"\n",
        "                                    ]\n",
        "                                },\n",
        "                                {\n",
        "                                    \"calculate\": \"toDate(datum[\\\"ds\\\"])\",\n",
        "                                    \"as\": \"ds\"\n",
        "                                },\n",
        "                                {\n",
        "                                    \"filter\": \"isValid(datum[\\\"ds\\\"])\"\n",
        "                                }\n",
        "                            ],\n",
        "                            \"layer\": [\n",
        "                                {\n",
        "                                    \"description\": \"line mark layer\",\n",
        "                                    \"mark\": {\n",
        "                                        \"type\": \"line\",\n",
        "                                        \"point\": false,\n",
        "                                        \"clip\": true,\n",
        "                                        \"strokeCap\": \"square\",\n",
        "                                        \"strokeJoin\": \"round\",\n",
        "                                        \"cursor\": \"crosshair\"\n",
        "                                    },\n",
        "                                    \"params\": [\n",
        "                                        {\n",
        "                                            \"name\": \"interval_intervalselection_0\",\n",
        "                                            \"select\": {\n",
        "                                                \"type\": \"interval\",\n",
        "                                                \"encodings\": [\n",
        "                                                    \"x\"\n",
        "                                                ],\n",
        "                                                \"zoom\": false,\n",
        "                                                \"mark\": {\n",
        "                                                    \"fill\": \"#669EFF\",\n",
        "                                                    \"fillOpacity\": 0.07,\n",
        "                                                    \"stroke\": \"#669EFF\",\n",
        "                                                    \"strokeOpacity\": 0.4\n",
        "                                                }\n",
        "                                            }\n",
        "                                        },\n",
        "                                        {\n",
        "                                            \"name\": \"legend_pointselection_0\",\n",
        "                                            \"select\": {\n",
        "                                                \"type\": \"point\",\n",
        "                                                \"encodings\": [\n",
        "                                                    \"color\"\n",
        "                                                ]\n",
        "                                            },\n",
        "                                            \"bind\": \"legend\"\n",
        "                                        },\n",
        "                                        {\n",
        "                                            \"name\": \"legend_pointhover_0\",\n",
        "                                            \"select\": {\n",
        "                                                \"type\": \"point\",\n",
        "                                                \"encodings\": [\n",
        "                                                    \"color\"\n",
        "                                                ]\n",
        "                                            },\n",
        "                                            \"bind\": \"legend\"\n",
        "                                        }\n",
        "                                    ],\n",
        "                                    \"encoding\": {\n",
        "                                        \"opacity\": {\n",
        "                                            \"value\": 1\n",
        "                                        }\n",
        "                                    }\n",
        "                                },\n",
        "                                {\n",
        "                                    \"description\": \"line point mark layer\",\n",
        "                                    \"mark\": {\n",
        "                                        \"type\": \"point\",\n",
        "                                        \"filled\": true,\n",
        "                                        \"clip\": true\n",
        "                                    },\n",
        "                                    \"encoding\": {\n",
        "                                        \"size\": {\n",
        "                                            \"value\": 50\n",
        "                                        },\n",
        "                                        \"opacity\": {\n",
        "                                            \"condition\": {\n",
        "                                                \"test\": {\n",
        "                                                    \"or\": [\n",
        "                                                        {\n",
        "                                                            \"param\": \"legend_pointhover_0\",\n",
        "                                                            \"empty\": false\n",
        "                                                        }\n",
        "                                                    ],\n",
        "                                                    \"empty\": false\n",
        "                                                },\n",
        "                                                \"value\": 1\n",
        "                                            },\n",
        "                                            \"value\": 0\n",
        "                                        }\n",
        "                                    }\n",
        "                                },\n",
        "                                {\n",
        "                                    \"description\": \"pivot tooltip point mark layer\",\n",
        "                                    \"mark\": {\n",
        "                                        \"type\": \"point\",\n",
        "                                        \"tooltip\": true,\n",
        "                                        \"clip\": true\n",
        "                                    },\n",
        "                                    \"encoding\": {\n",
        "                                        \"opacity\": {\n",
        "                                            \"value\": 0,\n",
        "                                            \"condition\": {\n",
        "                                                \"param\": \"pivot_hover_01977edc-1c9f-7aa8-868b-9a5c6592d25e\",\n",
        "                                                \"value\": 1,\n",
        "                                                \"empty\": false\n",
        "                                            }\n",
        "                                        },\n",
        "                                        \"size\": {\n",
        "                                            \"value\": 80\n",
        "                                        },\n",
        "                                        \"tooltip\": [\n",
        "                                            {\n",
        "                                                \"field\": \"ds\",\n",
        "                                                \"type\": \"temporal\",\n",
        "                                                \"timeUnit\": \"yearmonthdate\",\n",
        "                                                \"title\": \"Date\"\n",
        "                                            },\n",
        "                                            {\n",
        "                                                \"field\": \"CHART_FOLD_VALUES\",\n",
        "                                                \"type\": \"quantitative\",\n",
        "                                                \"formatType\": \"NUMBER_FORMATTER\",\n",
        "                                                \"format\": {\n",
        "                                                    \"format\": \"NUMBER\",\n",
        "                                                    \"columnType\": \"NUMBER\",\n",
        "                                                    \"numDecimalDigits\": -1,\n",
        "                                                    \"currency\": \"USD\",\n",
        "                                                    \"nanFormat\": \"\"\n",
        "                                                },\n",
        "                                                \"title\": \"Revenue\"\n",
        "                                            },\n",
        "                                            {\n",
        "                                                \"field\": \"CHART_FOLD_KEYS\",\n",
        "                                                \"type\": \"ordinal\",\n",
        "                                                \"title\": \"Y-Axis Field\"\n",
        "                                            }\n",
        "                                        ]\n",
        "                                    },\n",
        "                                    \"params\": [\n",
        "                                        {\n",
        "                                            \"name\": \"pivot_hover_01977edc-1c9f-7aa8-868b-9a5c6592d25e\",\n",
        "                                            \"select\": {\n",
        "                                                \"type\": \"point\",\n",
        "                                                \"on\": \"mouseover\",\n",
        "                                                \"clear\": \"mouseout\",\n",
        "                                                \"nearest\": true,\n",
        "                                                \"fields\": [\n",
        "                                                    \"ds\",\n",
        "                                                    \"CHART_FOLD_KEYS\",\n",
        "                                                    \"CHART_FOLD_KEYS\"\n",
        "                                                ]\n",
        "                                            }\n",
        "                                        }\n",
        "                                    ]\n",
        "                                }\n",
        "                            ],\n",
        "                            \"encoding\": {\n",
        "                                \"x\": {\n",
        "                                    \"field\": \"ds\",\n",
        "                                    \"type\": \"temporal\",\n",
        "                                    \"title\": \"Date\",\n",
        "                                    \"scale\": {},\n",
        "                                    \"axis\": {\n",
        "                                        \"grid\": true,\n",
        "                                        \"ticks\": true,\n",
        "                                        \"tickCount\": {\n",
        "                                            \"expr\": \"length(domain('x')) > 0 ? min(ceil(width / 40), ceil((domain('x')[1] - domain('x')[0]) / 86400000)) : ceil(width / 40)\"\n",
        "                                        },\n",
        "                                        \"labels\": true,\n",
        "                                        \"labelFlush\": false\n",
        "                                    },\n",
        "                                    \"timeUnit\": \"yearmonthdate\"\n",
        "                                },\n",
        "                                \"y\": {\n",
        "                                    \"field\": \"CHART_FOLD_VALUES\",\n",
        "                                    \"type\": \"quantitative\",\n",
        "                                    \"title\": \"Revenue\",\n",
        "                                    \"scale\": {},\n",
        "                                    \"axis\": {\n",
        "                                        \"grid\": true,\n",
        "                                        \"ticks\": true,\n",
        "                                        \"labels\": true,\n",
        "                                        \"labelFlush\": false,\n",
        "                                        \"format\": {\n",
        "                                            \"format\": \"NUMBER\",\n",
        "                                            \"columnType\": \"NUMBER\",\n",
        "                                            \"numDecimalDigits\": -1,\n",
        "                                            \"currency\": \"USD\",\n",
        "                                            \"nanFormat\": \"\"\n",
        "                                        },\n",
        "                                        \"formatType\": \"NUMBER_FORMATTER\"\n",
        "                                    }\n",
        "                                },\n",
        "                                \"color\": {\n",
        "                                    \"field\": \"CHART_FOLD_KEYS\",\n",
        "                                    \"scale\": {\n",
        "                                        \"range\": [\n",
        "                                            \"#4C78A8\",\n",
        "                                            \"#F58518\",\n",
        "                                            \"#E45756\",\n",
        "                                            \"#72B7B2\",\n",
        "                                            \"#54A24B\",\n",
        "                                            \"#EECA3B\",\n",
        "                                            \"#B279A2\",\n",
        "                                            \"#FF9DA6\",\n",
        "                                            \"#9D755D\",\n",
        "                                            \"#BAB0AC\"\n",
        "                                        ]\n",
        "                                    },\n",
        "                                    \"sort\": {\n",
        "                                        \"field\": \"CHART_FOLD_KEYS\",\n",
        "                                        \"order\": \"ascending\"\n",
        "                                    },\n",
        "                                    \"legend\": {\n",
        "                                        \"symbolOpacity\": 1,\n",
        "                                        \"symbolType\": \"stroke\"\n",
        "                                    },\n",
        "                                    \"title\": \"Y-Axis Field\"\n",
        "                                },\n",
        "                                \"detail\": [\n",
        "                                    {\n",
        "                                        \"field\": \"CHART_FOLD_KEYS\",\n",
        "                                        \"type\": \"ordinal\",\n",
        "                                        \"title\": \"Y-Axis Field\"\n",
        "                                    }\n",
        "                                ]\n",
        "                            }\n",
        "                        }\n",
        "                    ]\n",
        "                }\n",
        "            ],\n",
        "            \"transform\": []\n",
        "        }\n",
        "    ],\n",
        "    \"config\": {\n",
        "        \"legend\": {\n",
        "            \"orient\": \"right\"\n",
        "        },\n",
        "        \"font\": \"\\\"IBM Plex Sans\\\", system-ui, -apple-system, BlinkMacSystemFont, sans-serif\",\n",
        "        \"view\": {}\n",
        "    },\n",
        "    \"datasets\": {\n",
        "        \"layer00\": [\n",
        "            {\n",
        "                \"name\": \"dummy\",\n",
        "                \"value\": 0\n",
        "            }\n",
        "        ]\n",
        "    },\n",
        "    \"usermeta\": {\n",
        "        \"selectionConfigs\": {\n",
        "            \"interval_intervalselection_0\": {\n",
        "                \"type\": \"interval\",\n",
        "                \"datetimeFields\": [\n",
        "                    \"yearmonthdate_ds\"\n",
        "                ],\n",
        "                \"derived\": [\n",
        "                    {\n",
        "                        \"type\": \"timeunit\",\n",
        "                        \"sourceName\": \"ds\",\n",
        "                        \"derivedName\": \"yearmonthdate_ds\",\n",
        "                        \"timeUnit\": \"yearmonthdate\"\n",
        "                    }\n",
        "                ]\n",
        "            }\n",
        "        },\n",
        "        \"columnNameMappings\": {\n",
        "            \"CHART_FOLD_KEYS\": \"Y-Axis Field\",\n",
        "            \"CHART_FOLD_VALUES\": \"Values\"\n",
        "        }\n",
        "    }\n",
        "}\n",
        "\"\"\")\n",
        "chart_merged.datasets.layer00 = merged.to_json(orient='records')\n",
        "chart_merged.display(actions=False)"
      ],
      "metadata": {
        "id": "9r26-xReXr4b"
      },
      "execution_count": null,
      "outputs": []
    },
    {
      "cell_type": "code",
      "source": [
        "import altair\n",
        "chart_merged = altair.Chart.from_json(r\"\"\"\n",
        "{\n",
        "    \"width\": \"container\",\n",
        "    \"height\": \"container\",\n",
        "    \"$schema\": \"https://vega.github.io/schema/vega-lite/v5.json\",\n",
        "    \"layer\": [\n",
        "        {\n",
        "            \"description\": \"outer data layer\",\n",
        "            \"resolve\": {\n",
        "                \"scale\": {\n",
        "                    \"color\": \"independent\",\n",
        "                    \"y\": \"shared\"\n",
        "                }\n",
        "            },\n",
        "            \"layer\": [\n",
        "                {\n",
        "                    \"description\": \"series data layer\",\n",
        "                    \"name\": \"series_01977ef1-8407-7aa8-869a-04106f1eefae\",\n",
        "                    \"layer\": [\n",
        "                        {\n",
        "                            \"description\": \"bar series layer\",\n",
        "                            \"transform\": [\n",
        "                                {\n",
        "                                    \"fold\": [\n",
        "                                        \"y\",\n",
        "                                        \"yhat\"\n",
        "                                    ],\n",
        "                                    \"as\": [\n",
        "                                        \"CHART_FOLD_KEYS\",\n",
        "                                        \"CHART_FOLD_VALUES\"\n",
        "                                    ]\n",
        "                                },\n",
        "                                {\n",
        "                                    \"calculate\": \"if(datum[\\\"CHART_FOLD_KEYS\\\"] === \\\"y\\\", \\\"y\\\", if(datum[\\\"CHART_FOLD_KEYS\\\"] === \\\"yhat\\\", \\\"yhat\\\", \\\"\\\"))\",\n",
        "                                    \"as\": \"CHART_FOLD_KEYS\"\n",
        "                                },\n",
        "                                {\n",
        "                                    \"joinaggregate\": [\n",
        "                                        {\n",
        "                                            \"field\": \"CHART_FOLD_VALUES\",\n",
        "                                            \"op\": \"sum\",\n",
        "                                            \"as\": \"sum_y_by_x\"\n",
        "                                        }\n",
        "                                    ],\n",
        "                                    \"groupby\": [\n",
        "                                        \"ds\"\n",
        "                                    ]\n",
        "                                },\n",
        "                                {\n",
        "                                    \"filter\": \"isValid(datum[\\\"ds\\\"])\"\n",
        "                                }\n",
        "                            ],\n",
        "                            \"layer\": [\n",
        "                                {\n",
        "                                    \"description\": \"bar mark layer\",\n",
        "                                    \"mark\": {\n",
        "                                        \"type\": \"bar\",\n",
        "                                        \"clip\": true,\n",
        "                                        \"filled\": true,\n",
        "                                        \"cursor\": \"default\",\n",
        "                                        \"orient\": \"vertical\"\n",
        "                                    },\n",
        "                                    \"params\": [\n",
        "                                        {\n",
        "                                            \"name\": \"interval_intervalselection_0\",\n",
        "                                            \"select\": {\n",
        "                                                \"type\": \"interval\",\n",
        "                                                \"encodings\": [\n",
        "                                                    \"x\"\n",
        "                                                ],\n",
        "                                                \"mark\": {\n",
        "                                                    \"fill\": \"#669EFF\",\n",
        "                                                    \"fillOpacity\": 0.07,\n",
        "                                                    \"stroke\": \"#669EFF\",\n",
        "                                                    \"strokeOpacity\": 0.4\n",
        "                                                },\n",
        "                                                \"zoom\": false\n",
        "                                            }\n",
        "                                        },\n",
        "                                        {\n",
        "                                            \"name\": \"legend_pointselection_0\",\n",
        "                                            \"select\": {\n",
        "                                                \"type\": \"point\",\n",
        "                                                \"encodings\": [\n",
        "                                                    \"color\"\n",
        "                                                ]\n",
        "                                            },\n",
        "                                            \"bind\": \"legend\"\n",
        "                                        },\n",
        "                                        {\n",
        "                                            \"name\": \"legend_pointhover_0\",\n",
        "                                            \"select\": {\n",
        "                                                \"type\": \"point\",\n",
        "                                                \"encodings\": [\n",
        "                                                    \"color\"\n",
        "                                                ]\n",
        "                                            },\n",
        "                                            \"bind\": \"legend\"\n",
        "                                        }\n",
        "                                    ],\n",
        "                                    \"encoding\": {\n",
        "                                        \"opacity\": {\n",
        "                                            \"field\": \"yhat\",\n",
        "                                            \"type\": \"quantitative\",\n",
        "                                            \"legend\": null\n",
        "                                        },\n",
        "                                        \"tooltip\": [\n",
        "                                            {\n",
        "                                                \"field\": \"ds\",\n",
        "                                                \"type\": \"ordinal\",\n",
        "                                                \"timeUnit\": \"yearmonth\",\n",
        "                                                \"title\": \"Month\"\n",
        "                                            },\n",
        "                                            {\n",
        "                                                \"field\": \"CHART_FOLD_VALUES\",\n",
        "                                                \"type\": \"quantitative\",\n",
        "                                                \"formatType\": \"NUMBER_FORMATTER\",\n",
        "                                                \"format\": {\n",
        "                                                    \"format\": \"FINANCIAL\",\n",
        "                                                    \"currency\": \"GBP\",\n",
        "                                                    \"columnType\": \"NUMBER\",\n",
        "                                                    \"showSeparators\": true,\n",
        "                                                    \"numDecimalDigits\": 0,\n",
        "                                                    \"abbreviateLargeNumbers\": false,\n",
        "                                                    \"nanFormat\": \"\"\n",
        "                                                },\n",
        "                                                \"title\": \"Revenue\"\n",
        "                                            },\n",
        "                                            {\n",
        "                                                \"field\": \"CHART_FOLD_KEYS\",\n",
        "                                                \"type\": \"ordinal\",\n",
        "                                                \"title\": \"Y-Axis Field\"\n",
        "                                            }\n",
        "                                        ],\n",
        "                                        \"color\": {\n",
        "                                            \"field\": \"CHART_FOLD_KEYS\",\n",
        "                                            \"scale\": {\n",
        "                                                \"range\": [\n",
        "                                                    \"#4C78A8\",\n",
        "                                                    \"#F58518\",\n",
        "                                                    \"#E45756\",\n",
        "                                                    \"#72B7B2\",\n",
        "                                                    \"#54A24B\",\n",
        "                                                    \"#EECA3B\",\n",
        "                                                    \"#B279A2\",\n",
        "                                                    \"#FF9DA6\",\n",
        "                                                    \"#9D755D\",\n",
        "                                                    \"#BAB0AC\"\n",
        "                                                ]\n",
        "                                            },\n",
        "                                            \"sort\": {\n",
        "                                                \"field\": \"CHART_FOLD_KEYS\",\n",
        "                                                \"order\": \"ascending\"\n",
        "                                            },\n",
        "                                            \"legend\": {\n",
        "                                                \"symbolOpacity\": 1\n",
        "                                            },\n",
        "                                            \"title\": \"Y-Axis Field\"\n",
        "                                        },\n",
        "                                        \"detail\": [\n",
        "                                            {\n",
        "                                                \"field\": \"CHART_FOLD_KEYS\",\n",
        "                                                \"type\": \"ordinal\",\n",
        "                                                \"title\": \"Y-Axis Field\"\n",
        "                                            }\n",
        "                                        ],\n",
        "                                        \"x\": {\n",
        "                                            \"field\": \"ds\",\n",
        "                                            \"type\": \"ordinal\",\n",
        "                                            \"title\": \"Month\",\n",
        "                                            \"scale\": {},\n",
        "                                            \"axis\": {\n",
        "                                                \"grid\": true,\n",
        "                                                \"gridDash\": [\n",
        "                                                    5,\n",
        "                                                    5\n",
        "                                                ],\n",
        "                                                \"ticks\": true,\n",
        "                                                \"tickCount\": {\n",
        "                                                    \"expr\": \"length(domain('x')) > 0 ? min(ceil(width / 40), ceil((domain('x')[1] - domain('x')[0]) / 2592000000)) : ceil(width / 40)\"\n",
        "                                                },\n",
        "                                                \"labels\": true,\n",
        "                                                \"labelFlush\": false,\n",
        "                                                \"labelOverlap\": \"greedy\"\n",
        "                                            },\n",
        "                                            \"timeUnit\": \"yearmonth\",\n",
        "                                            \"bandPosition\": 0\n",
        "                                        },\n",
        "                                        \"y\": {\n",
        "                                            \"field\": \"CHART_FOLD_VALUES\",\n",
        "                                            \"type\": \"quantitative\",\n",
        "                                            \"title\": \"Revenue\",\n",
        "                                            \"scale\": {},\n",
        "                                            \"axis\": {\n",
        "                                                \"grid\": true,\n",
        "                                                \"ticks\": true,\n",
        "                                                \"labels\": true,\n",
        "                                                \"labelFlush\": false,\n",
        "                                                \"format\": {\n",
        "                                                    \"format\": \"FINANCIAL\",\n",
        "                                                    \"currency\": \"GBP\",\n",
        "                                                    \"columnType\": \"NUMBER\",\n",
        "                                                    \"showSeparators\": true,\n",
        "                                                    \"numDecimalDigits\": 0,\n",
        "                                                    \"abbreviateLargeNumbers\": false,\n",
        "                                                    \"nanFormat\": \"\"\n",
        "                                                },\n",
        "                                                \"formatType\": \"NUMBER_FORMATTER\"\n",
        "                                            },\n",
        "                                            \"stack\": \"zero\"\n",
        "                                        }\n",
        "                                    }\n",
        "                                }\n",
        "                            ],\n",
        "                            \"encoding\": {\n",
        "                                \"x\": {\n",
        "                                    \"field\": \"ds\",\n",
        "                                    \"type\": \"ordinal\",\n",
        "                                    \"title\": \"Month\",\n",
        "                                    \"scale\": {},\n",
        "                                    \"axis\": {\n",
        "                                        \"grid\": true,\n",
        "                                        \"gridDash\": [\n",
        "                                            5,\n",
        "                                            5\n",
        "                                        ],\n",
        "                                        \"ticks\": true,\n",
        "                                        \"tickCount\": {\n",
        "                                            \"expr\": \"length(domain('x')) > 0 ? min(ceil(width / 40), ceil((domain('x')[1] - domain('x')[0]) / 2592000000)) : ceil(width / 40)\"\n",
        "                                        },\n",
        "                                        \"labels\": true,\n",
        "                                        \"labelFlush\": false,\n",
        "                                        \"labelOverlap\": \"greedy\"\n",
        "                                    },\n",
        "                                    \"timeUnit\": \"yearmonth\"\n",
        "                                },\n",
        "                                \"y\": {\n",
        "                                    \"field\": \"CHART_FOLD_VALUES\",\n",
        "                                    \"type\": \"quantitative\",\n",
        "                                    \"title\": \"Revenue\",\n",
        "                                    \"scale\": {},\n",
        "                                    \"axis\": {\n",
        "                                        \"grid\": true,\n",
        "                                        \"ticks\": true,\n",
        "                                        \"labels\": true,\n",
        "                                        \"labelFlush\": false,\n",
        "                                        \"format\": {\n",
        "                                            \"format\": \"FINANCIAL\",\n",
        "                                            \"currency\": \"GBP\",\n",
        "                                            \"columnType\": \"NUMBER\",\n",
        "                                            \"showSeparators\": true,\n",
        "                                            \"numDecimalDigits\": 0,\n",
        "                                            \"abbreviateLargeNumbers\": false,\n",
        "                                            \"nanFormat\": \"\"\n",
        "                                        },\n",
        "                                        \"formatType\": \"NUMBER_FORMATTER\"\n",
        "                                    },\n",
        "                                    \"stack\": \"zero\"\n",
        "                                },\n",
        "                                \"xOffset\": {\n",
        "                                    \"field\": \"CHART_FOLD_KEYS\",\n",
        "                                    \"sort\": {\n",
        "                                        \"field\": \"CHART_FOLD_KEYS\",\n",
        "                                        \"order\": \"ascending\"\n",
        "                                    }\n",
        "                                }\n",
        "                            }\n",
        "                        }\n",
        "                    ]\n",
        "                }\n",
        "            ],\n",
        "            \"transform\": []\n",
        "        }\n",
        "    ],\n",
        "    \"config\": {\n",
        "        \"legend\": {\n",
        "            \"orient\": \"right\"\n",
        "        },\n",
        "        \"font\": \"\\\"IBM Plex Sans\\\", system-ui, -apple-system, BlinkMacSystemFont, sans-serif\",\n",
        "        \"view\": {}\n",
        "    },\n",
        "    \"datasets\": {\n",
        "        \"layer00\": [\n",
        "            {\n",
        "                \"name\": \"dummy\",\n",
        "                \"value\": 0\n",
        "            }\n",
        "        ]\n",
        "    },\n",
        "    \"usermeta\": {\n",
        "        \"selectionConfigs\": {\n",
        "            \"interval_intervalselection_0\": {\n",
        "                \"type\": \"interval\",\n",
        "                \"datetimeFields\": [\n",
        "                    \"yearmonth_ds\"\n",
        "                ],\n",
        "                \"derived\": [\n",
        "                    {\n",
        "                        \"type\": \"timeunit\",\n",
        "                        \"sourceName\": \"ds\",\n",
        "                        \"derivedName\": \"yearmonth_ds\",\n",
        "                        \"timeUnit\": \"yearmonth\"\n",
        "                    }\n",
        "                ]\n",
        "            }\n",
        "        },\n",
        "        \"columnNameMappings\": {\n",
        "            \"CHART_FOLD_KEYS\": \"Y-Axis Field\",\n",
        "            \"CHART_FOLD_VALUES\": \"Values\"\n",
        "        }\n",
        "    }\n",
        "}\n",
        "\"\"\")\n",
        "chart_merged.datasets.layer00 = merged.to_json(orient='records')\n",
        "chart_merged.display(actions=False)"
      ],
      "metadata": {
        "id": "Ui-lLj_MXr4b"
      },
      "execution_count": null,
      "outputs": []
    },
    {
      "cell_type": "code",
      "source": [
        "import altair\n",
        "chart_forecast_summary = altair.Chart.from_json(r\"\"\"\n",
        "{\n",
        "    \"width\": \"container\",\n",
        "    \"height\": \"container\",\n",
        "    \"$schema\": \"https://vega.github.io/schema/vega-lite/v5.json\",\n",
        "    \"layer\": [],\n",
        "    \"config\": {\n",
        "        \"font\": \"\\\"IBM Plex Sans\\\", system-ui, -apple-system, BlinkMacSystemFont, sans-serif\",\n",
        "        \"view\": {}\n",
        "    },\n",
        "    \"datasets\": {\n",
        "        \"layer00\": [\n",
        "            {\n",
        "                \"name\": \"dummy\",\n",
        "                \"value\": 0\n",
        "            }\n",
        "        ]\n",
        "    }\n",
        "}\n",
        "\"\"\")\n",
        "chart_forecast_summary.datasets.layer00 = forecast_summary.to_json(orient='records')\n",
        "chart_forecast_summary.display(actions=False)"
      ],
      "metadata": {
        "id": "r65q_KIWXr4c"
      },
      "execution_count": null,
      "outputs": []
    },
    {
      "cell_type": "code",
      "source": [
        "monthly_forecast"
      ],
      "metadata": {
        "id": "w6yH79DYXr4c"
      },
      "execution_count": null,
      "outputs": []
    },
    {
      "cell_type": "markdown",
      "source": [
        "## Plotly forecast visualizations"
      ],
      "metadata": {
        "id": "wLmQ9Y1gXr4c"
      }
    }
  ],
  "metadata": {
    "orig_nbformat": 4,
    "kernelspec": {
      "display_name": "Python 3",
      "language": "python",
      "name": "python3"
    },
    "hex_info": {
      "author": "Alexa Ziegler",
      "project_id": "01977519-2eef-7bb1-b33d-2131813996eb",
      "version": "draft",
      "exported_date": "Sun Jun 22 2025 15:59:25 GMT+0000 (Coordinated Universal Time)"
    },
    "colab": {
      "provenance": [],
      "include_colab_link": true
    }
  },
  "nbformat": 4,
  "nbformat_minor": 0
}